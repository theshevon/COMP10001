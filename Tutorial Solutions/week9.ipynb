{
 "cells": [
  {
   "cell_type": "markdown",
   "metadata": {},
   "source": [
    "# <center>Workshop 7 (Week 9)<center>"
   ]
  },
  {
   "cell_type": "markdown",
   "metadata": {},
   "source": [
    "## Exercises"
   ]
  },
  {
   "cell_type": "markdown",
   "metadata": {},
   "source": [
    "**1. Fill in the blanks in the program below which reads from `in.txt` and writes to `out.txt`.**"
   ]
  },
  {
   "cell_type": "markdown",
   "metadata": {},
   "source": [
    "```python\n",
    "outfile = [ 1 ](\"out.txt\", \"w\")\n",
    "with open(\"in.txt\", [ 2 ]) as infile:\n",
    "    line_no = 1\n",
    "    for line in [ 3 ]:\n",
    "        outfile.[ 4 ](f\"line: {line_no}, length: {len(line)}\\n\")\n",
    "        line_no += 1\n",
    "outfile.write(\"The End\")\n",
    "[ 5 ]\n",
    "```"
   ]
  },
  {
   "cell_type": "code",
   "execution_count": null,
   "metadata": {},
   "outputs": [],
   "source": [
    "outfile = open(\"out.txt\", \"w\")\n",
    "with open(\"in.txt\", 'r') as infile:\n",
    "    line_no = 1\n",
    "    for line in infile.readlines():\n",
    "        outfile.write(f\"line: {line_no}, length: {len(line)}\\n\")\n",
    "        line_no += 1\n",
    "outfile.write(\"The End\")\n",
    "outfile.close()"
   ]
  },
  {
   "cell_type": "markdown",
   "metadata": {},
   "source": [
    "**2. `“travel.csv”` is a csv file containing data on how people get to work in different cities in Australia. `“process.py”` is a python program which processes this data. What information does the `“process.py”` attempt\n",
    "to find and print?**\n",
    "\n",
    "`travel.csv`\n",
    "```\n",
    "City,Train,Tram,Bus,Ferry,Car,Total\n",
    "Melbourne,242969,55169,31937,783,1282997,1613855\n",
    "Sydney,368572,3210,138340,9007,1206350,1725482\n",
    "Adelaide,13715,4137,33673,211,390360,442102\n",
    "Brisbane,62069,229,58228,3761,663353,787650\n",
    "Perth,56417,223,37899,373,594571,689489\n",
    "```\n",
    "\n",
    "\n",
    "`process.py`\n",
    "```python\n",
    "1  import csv\n",
    "2\n",
    "3  fp = open(\"travel.csv\")\n",
    "4  city = ''\n",
    "5  curr_max = 0.0\n",
    "6  for row in csv.DictReader(fp):\n",
    "7      ferry = int(row[\"Ferry\"])\n",
    "8      total = int(row[\"Total\"])\n",
    "9      if ferry / total > curr_max:\n",
    "10         city = row[\"City\"]\n",
    "11         curr_max = ferry / total\n",
    "12 print(city)\n",
    "```"
   ]
  },
  {
   "cell_type": "markdown",
   "metadata": {},
   "source": [
    "> It prints out the name of the city in which the highest proportion of the population uses the Ferry (Sydney)"
   ]
  },
  {
   "cell_type": "markdown",
   "metadata": {},
   "source": [
    "## Problems"
   ]
  },
  {
   "cell_type": "markdown",
   "metadata": {},
   "source": [
    "**1. Write a function which takes a filename as a string and opens the file, printing statistics for every line\n",
    "in the file: the line number, amount of words, amount of characters. Remember to close the file when\n",
    "you’re done!**"
   ]
  },
  {
   "cell_type": "code",
   "execution_count": null,
   "metadata": {},
   "outputs": [],
   "source": [
    "# version 1\n",
    "def print_statistics(path_to_file: str):\n",
    "    '''\n",
    "        Prints the statistics (number of words and characters)\n",
    "        for each line of a specified file.\n",
    "        \n",
    "        Arguments:\n",
    "            path_to_file (str): The path to the required file\n",
    "    '''\n",
    "    \n",
    "    fp = open(path_to_file)\n",
    "    \n",
    "    # extract each line of the file and print its statistics\n",
    "    for line_no, line in enumerate(fp.readlines()):\n",
    "        \n",
    "        no_of_chars = len(line)\n",
    "        no_of_words = len(line.split())\n",
    "        \n",
    "        print(f\"Line #{ line_no + 1 }: { no_of_words } words; { no_of_chars } characters\")\n",
    "\n",
    "    fp.close()"
   ]
  },
  {
   "cell_type": "code",
   "execution_count": null,
   "metadata": {},
   "outputs": [],
   "source": [
    "# version 2\n",
    "def print_statistics(path_to_file: str):\n",
    "    '''\n",
    "        Prints the statistics (number of words and characters)\n",
    "        for each line of a specified file.\n",
    "        \n",
    "        Arguments:\n",
    "            path_to_file (str): The path to the required file\n",
    "    '''\n",
    "    \n",
    "    with open(path_to_file) as fp:\n",
    "    \n",
    "        # extract each line of the file and print its statistics\n",
    "        for line_no, line in enumerate(fp.readlines()):\n",
    "\n",
    "            no_of_chars = len(line)\n",
    "            no_of_words = len(line.split())\n",
    "\n",
    "            print(f\"Line #{ line_no + 1 }: { no_of_words } words; { no_of_chars } characters\")"
   ]
  }
 ],
 "metadata": {
  "kernelspec": {
   "display_name": "Python 3",
   "language": "python",
   "name": "python3"
  },
  "language_info": {
   "codemirror_mode": {
    "name": "ipython",
    "version": 3
   },
   "file_extension": ".py",
   "mimetype": "text/x-python",
   "name": "python",
   "nbconvert_exporter": "python",
   "pygments_lexer": "ipython3",
   "version": "3.7.6"
  }
 },
 "nbformat": 4,
 "nbformat_minor": 4
}
