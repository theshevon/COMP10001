{
 "cells": [
  {
   "cell_type": "markdown",
   "metadata": {},
   "source": [
    "# <center>Workshop 2 (Week 3)<center>"
   ]
  },
  {
   "cell_type": "markdown",
   "metadata": {},
   "source": [
    "## • Discussion"
   ]
  },
  {
   "cell_type": "markdown",
   "metadata": {},
   "source": [
    "### 1. What is a “data type”? Can the data type of an object change?"
   ]
  },
  {
   "cell_type": "markdown",
   "metadata": {},
   "source": [
    ">A data type is a classification of data which tells python how to store and process it and defines what we can do with it.<br/>\n",
    "Data types are permanent when you create the object, but you can convert objects from one data type to another\n",
    "using appropriate functions."
   ]
  },
  {
   "cell_type": "markdown",
   "metadata": {},
   "source": [
    "### 2. As a class, fill in the below table with the data types we have studied so far. What is the difference between the second and third type, both being numerical?"
   ]
  },
  {
   "cell_type": "markdown",
   "metadata": {},
   "source": [
    "<table>\n",
    "    <tr>\n",
    "        <th>Type</th>\n",
    "        <th>Example</th>\n",
    "        <th>What does it store?</th>\n",
    "        <th>What can we do with it (functions, operations...)?</th>\n",
    "        <th>How do we convert to it?</th>\n",
    "    </tr>\n",
    "    <tr>\n",
    "        <td>str</td>\n",
    "        <td>\"Hello\"</td>\n",
    "        <td>A sequence of characters</td>\n",
    "        <td>len(), input(), print(), string slicing, indexing, changing case, and many more...</td>\n",
    "        <td>str()</td>\n",
    "    </tr>\n",
    "    <tr>\n",
    "        <td>int</td>\n",
    "        <td>123</td>\n",
    "        <td>An integer (ie. whole numbers)</td>\n",
    "        <td>Arithmetic operations, counting, labeling (ie. using as an ID), indexing, string slicing</td>\n",
    "        <td>int()</td>\n",
    "    </tr>\n",
    "    <tr>\n",
    "        <td>float</td>\n",
    "        <td>3.1415</td>\n",
    "        <td>A real number (ie. numbers containing decimals/ fractional components)</td>\n",
    "        <td>Arithmetic operations, mathematics and real world measurements</td>\n",
    "        <td>float()</td>\n",
    "    </tr>\n",
    "    <tr>\n",
    "        <td>bool</td>\n",
    "        <td>True</td>\n",
    "        <td>A truth value (ie. True / False)</td>\n",
    "        <td>Evaluate results of tests, determine which branch to use in a conditional statement</td>\n",
    "        <td>bool()</td>\n",
    "    </tr>\n",
    "    \n",
    "</table>"
   ]
  },
  {
   "cell_type": "markdown",
   "metadata": {},
   "source": [
    "### 3. What is an “operator”? Which operators have we learned so far and what do they do?"
   ]
  },
  {
   "cell_type": "markdown",
   "metadata": {},
   "source": [
    "> An operator is a symbol used between two values which calculates some result. <br/> \n",
    "Operators we've seen so far:<br/>\n",
    "- `+` : Addition\n",
    "- `-` : Subtraction\n",
    "- `*` : Multiplication\n",
    "- `/` : Division\n",
    "- `%` : Modulo (divides the first value by the second and returns the remainder)\n",
    "   eg. 5 % 2 = 1, 4 % 7 = 4 \n",
    "- `//`: Integer/ Floor Division (divides the first value by the second, rounds down the result and returns it)\n",
    "   eg. 5 // 2 = 2, 4 // 7 = 0\n",
    "- `**`: Exponential \n",
    "\n",
    ">**Note:** \n",
    "- Python follows the BODMAS/ BIDMAS/ PEMDAS order of operations\n",
    "- When performing arithmetic, if at least one of the operands is a float, then the result will be a float"
   ]
  },
  {
   "cell_type": "markdown",
   "metadata": {},
   "source": [
    "### 4. What is “operator overloading”? What is the difference between using + with numerical types and strings/sequences?"
   ]
  },
  {
   "cell_type": "markdown",
   "metadata": {},
   "source": [
    "> It means that the operator can work with multiple data types. However, its behaviour may vary between different data types. eg. With numeric types, `+` results in addition, but with `str`s, it results in concatentation (ie. the \"sticking\" of multiple `str`s together)"
   ]
  },
  {
   "cell_type": "markdown",
   "metadata": {},
   "source": [
    "### 5. What is a “variable”? How do we use variables and why are they helpful?"
   ]
  },
  {
   "cell_type": "markdown",
   "metadata": {},
   "source": [
    ">A variable is a place in the computer’s internal memory where a value can be stored. A name, or _identifier_, is used to access a variable. Created by declaration, their value is controlled with the assignment operator `=`. <br/>\n",
    ">Variables are useful because we can refer back to the same value more easily, using a name which we can associate with its meaning. They are easy to update and use in calculations."
   ]
  },
  {
   "cell_type": "markdown",
   "metadata": {},
   "source": [
    "### 6. How does the input() function work?"
   ]
  },
  {
   "cell_type": "markdown",
   "metadata": {},
   "source": [
    ">`input()` takes a string prompt as argument. When run, it displays that prompt to the user and lets them enter something, which is then returned to the calling function as a string. (_calling function_ here refers to the part of the program calls `input()`). "
   ]
  },
  {
   "cell_type": "markdown",
   "metadata": {},
   "source": [
    "### 7. What is a literal?"
   ]
  },
  {
   "cell_type": "markdown",
   "metadata": {},
   "source": [
    ">A literal is a value typed directly into a program (by the programmer), rather than one referenced by a variable."
   ]
  },
  {
   "cell_type": "code",
   "execution_count": 1,
   "metadata": {},
   "outputs": [
    {
     "name": "stdout",
     "output_type": "stream",
     "text": [
      "Please enter your last name: Wonka\n"
     ]
    }
   ],
   "source": [
    "last_name = \"bolton\" # this is a literal\n",
    "last_name = input(\"Please enter your last name: \") # this is not"
   ]
  },
  {
   "cell_type": "markdown",
   "metadata": {},
   "source": [
    "### 8. Why does 0.1+0.1+0.1+0.1+0.1+0.1+0.1+0.1+0.1+0.1 equal 0.9999999999999999 and not 1.0?"
   ]
  },
  {
   "cell_type": "code",
   "execution_count": 2,
   "metadata": {},
   "outputs": [
    {
     "name": "stdout",
     "output_type": "stream",
     "text": [
      "0.9999999999999999\n"
     ]
    }
   ],
   "source": [
    "print(0.1+0.1+0.1+0.1+0.1+0.1+0.1+0.1+0.1+0.1)"
   ]
  },
  {
   "cell_type": "markdown",
   "metadata": {},
   "source": [
    ">Floating point numbers can store only a finite amount of precision and so, sometimes the way the computer stores decimal values can lead to inaccurate results on calculation. \n",
    ">\n",
    ">This [article](https://www.electronics-tutorials.ws/binary/bin_2.html) provides a simple explanation on how you can convert from a decimal (ie. base 10) system to a binary (ie. base 2) system.\n",
    ">\n",
    ">It's interesting to note that `1.0` by itself can be accurately represented as 1.0 = 2^0. However, as `0.1` **can't** be accurately represented, the imprecision keeps adding as you make more and more calculations with it. If you run the next code block, you'll see what I mean.\n",
    ">\n",
    ">Usually, any decimal number that **can't** be expressed as the summation of `2^n`s (when n is an `int`) will either result in overflow or underflow.\n",
    ">\n",
    ">e.g. \n",
    "- 0.5 can be stored exactly as 2^-1 = 0.5.\n",
    "- 0.3 can't be stored exactly as it cannot be expressed as a summation of `2^n`s\n",
    ">\n",
    ">**Important:** The information in the following articles is slightly out of scope for this subject, so you will not be expected to know about floating point imprecision to the level of detail expressed in them. I've just provided it for those interested in knowing why this happens to a greater detail than what was explained in the tutorial:\n",
    "- [Floating point error in Python](https://www.geeksforgeeks.org/floating-point-error-in-python/)\n",
    "- [Integer Overflow/Underflow and Floating Point Imprecision](https://medium.com/@taabishm2/integer-overflow-underflow-and-floating-point-imprecision-6ba869a99033)\n"
   ]
  },
  {
   "cell_type": "code",
   "execution_count": 3,
   "metadata": {},
   "outputs": [
    {
     "name": "stdout",
     "output_type": "stream",
     "text": [
      "0.1\n",
      "0.2\n",
      "0.30000000000000004\n",
      "0.4\n",
      "0.5\n",
      "0.6\n",
      "0.7\n",
      "0.7999999999999999\n",
      "0.8999999999999999\n",
      "0.9999999999999999\n"
     ]
    }
   ],
   "source": [
    "# let's see what happens when we incrementally add 0.1 10 times\n",
    "num = 0\n",
    "for i in range(10):\n",
    "    num += 0.1\n",
    "    print(num)"
   ]
  },
  {
   "cell_type": "markdown",
   "metadata": {},
   "source": [
    "## • Exercises"
   ]
  },
  {
   "cell_type": "markdown",
   "metadata": {},
   "source": [
    "### **1. Look at the following customer data form, and decide which data types (str, int, float, or bool) should be used to store each field.**"
   ]
  },
  {
   "cell_type": "markdown",
   "metadata": {},
   "source": [
    "- **Name:** \n",
    ">`str`"
   ]
  },
  {
   "cell_type": "markdown",
   "metadata": {},
   "source": [
    "- **Customer ID:**\n",
    ">`str` or `int`\n",
    ">\n",
    ">Note: While it might _seem_ like an `int` is the best option here, storing IDs as `str`s would be better. \n",
    "This is because most IDs are alphanumeric, which means that they can't be stored in an `int` to begin with. \n",
    "However, even if we know that the IDs would be purely made up of digits, it's important to realise that the leading 0s matter as it is part of the ID. \n",
    ">\n",
    ">For instance, if we try to store 001 as an `int`, we end up losing these leading 0s. Try running the following block and entering \"001\" as the input:"
   ]
  },
  {
   "cell_type": "code",
   "execution_count": 4,
   "metadata": {},
   "outputs": [
    {
     "name": "stdout",
     "output_type": "stream",
     "text": [
      "Enter an ID: 001\n",
      "1\n"
     ]
    }
   ],
   "source": [
    "id = int(input(\"Enter an ID: \"))\n",
    "print(id)"
   ]
  },
  {
   "cell_type": "markdown",
   "metadata": {},
   "source": [
    ">However, by storing the ID as a `str`, we preserve these leading 0s."
   ]
  },
  {
   "cell_type": "code",
   "execution_count": 5,
   "metadata": {},
   "outputs": [
    {
     "name": "stdout",
     "output_type": "stream",
     "text": [
      "Enter an ID: 001\n",
      "001\n"
     ]
    }
   ],
   "source": [
    "id = input(\"Enter an ID: \")\n",
    "print(id)"
   ]
  },
  {
   "cell_type": "markdown",
   "metadata": {},
   "source": [
    ">It's for this reason that telephone numbers are stored as `str`s."
   ]
  },
  {
   "cell_type": "markdown",
   "metadata": {},
   "source": [
    "- **Address:**\n",
    ">`str`"
   ]
  },
  {
   "cell_type": "markdown",
   "metadata": {},
   "source": [
    "- **Postcode:** \n",
    ">`str` or `int` (Some postcodes, like those in the UK, contain letters as well) <br/>"
   ]
  },
  {
   "cell_type": "markdown",
   "metadata": {},
   "source": [
    "- **Do you own or rent?** \n",
    ">`str` as the question requires you to select between one of the options provided in the question itself.<br/>\n",
    ">However, if the question was _**Do you rent?**_ instead, then a `bool` would be more appropriate <br/>"
   ]
  },
  {
   "cell_type": "markdown",
   "metadata": {},
   "source": [
    "- **Length of bench top:** \n",
    ">`float`"
   ]
  },
  {
   "cell_type": "markdown",
   "metadata": {},
   "source": [
    "- **Width of bench top:** \n",
    ">`float` "
   ]
  },
  {
   "cell_type": "markdown",
   "metadata": {},
   "source": [
    "- **Are you interested in further offers?** \n",
    ">`bool`"
   ]
  },
  {
   "cell_type": "markdown",
   "metadata": {},
   "source": [
    "### **2. Evaluate the following:**"
   ]
  },
  {
   "cell_type": "markdown",
   "metadata": {},
   "source": [
    "**(a) `str(3 + 4) + \"cakes\"`**\n",
    "> `\"7cakes\"`"
   ]
  },
  {
   "cell_type": "markdown",
   "metadata": {},
   "source": [
    "**(b) `int(5 / 2)`**\n",
    ">`2`\n",
    ">\n",
    ">Explanation: int(5/2) -> int(2.5) -> 2"
   ]
  },
  {
   "cell_type": "markdown",
   "metadata": {},
   "source": [
    "**(c) `float(\"357\"+ \".\"+ \"23\")`**\n",
    ">`357.23`\n",
    ">\n",
    ">Explanation: float(\"357\"+ \".\"+ \"23\") -> float(\"357.23\") -> 357.23"
   ]
  },
  {
   "cell_type": "markdown",
   "metadata": {},
   "source": [
    "**(d) `bool(\"anything\")`**\n",
    ">`True`"
   ]
  },
  {
   "cell_type": "code",
   "execution_count": 9,
   "metadata": {},
   "outputs": [
    {
     "name": "stdout",
     "output_type": "stream",
     "text": [
      "• str()\n",
      "str(1) -> 1\n",
      "str(1.2) -> 1.2\n",
      "str(True) -> True\n",
      "str(False) -> False\n",
      "\n",
      "• int()\n",
      "int(\"2\") -> 2\n",
      "int(1.6) -> 1\n",
      "int(True) -> 1\n",
      "int(False) -> 0\n",
      "\n",
      "• float()\n",
      "float(\"1.6\") -> 1.6\n",
      "float(2) -> 2.0\n",
      "float(True) -> 1.0\n",
      "float(False) -> 0.0\n",
      "\n",
      "• bool()\n",
      "bool(0) -> False\n",
      "bool(1) -> True\n",
      "bool(-1) -> True\n",
      "bool(0.0) -> False\n",
      "bool(2.0) -> True\n",
      "bool(-1.3) -> True\n",
      "bool('') -> False\n",
      "bool('high school musical is an underappreciated film series') -> True\n"
     ]
    }
   ],
   "source": [
    "# Additional notes regarding type converstions\n",
    "\n",
    "# str(): will convert pretty much anything to its string equivalent\n",
    "print(\"• str()\")\n",
    "print(\"str(1) ->\", str(1))\n",
    "print(\"str(1.2) ->\", str(1.2))\n",
    "print(\"str(True) ->\", str(True))\n",
    "print(\"str(False) ->\", str(False))\n",
    "\n",
    "# int()\n",
    "print(\"\\n• int()\")\n",
    "# print(\"int(\\\"hello\\\") ->\", int(\"hello\")) # will cause a ValueError (try running it on Grok!)\n",
    "print(\"int(\\\"2\\\") ->\", int(\"2\"))             # converts the number from a string into an int\n",
    "print(\"int(1.6) ->\", int(1.6))             # will remove the decimal part of floats (ie, round it down)\n",
    "print(\"int(True) ->\", int(True))\n",
    "print(\"int(False) ->\", int(False))\n",
    "\n",
    "# float()\n",
    "print(\"\\n• float()\")\n",
    "# print(\"float(\\\"hello\\\") ->\", float(\"hello\")) # will cause a ValueError (try running it on Grok!)\n",
    "print(\"float(\\\"1.6\\\") ->\", float(\"1.6\"))         # converts the number from a string into a float        \n",
    "print(\"float(2) ->\", float(2))                 # will add a decimal to the integer\n",
    "print(\"float(True) ->\", float(True))\n",
    "print(\"float(False) ->\", float(False))\n",
    "\n",
    "# bool()\n",
    "print(\"\\n• bool()\")\n",
    "print(\"bool(0) ->\", bool(0))  # 0 evaluates to False\n",
    "print(\"bool(1) ->\", bool(1))  # any non-zero integer evaluates to True\n",
    "print(\"bool(-1) ->\", bool(-1))\n",
    "print(\"bool(0.0) ->\", bool(0.0))  # 0 evaluates to False\n",
    "print(\"bool(2.0) ->\", bool(2.0))  # any non-zero value evaluates to True\n",
    "print(\"bool(-1.3) ->\", bool(-1.3))\n",
    "print(\"bool('') ->\", bool(\"\"))  # The empty string (\"\") evaluates to False\n",
    "print(\"bool('high school musical is an underappreciated film series') ->\", bool('high school musical is an underappreciated film series'))  # all other strings evaluate to True"
   ]
  },
  {
   "cell_type": "markdown",
   "metadata": {},
   "source": [
    "### **3. What is the output of the following? Why?**"
   ]
  },
  {
   "cell_type": "markdown",
   "metadata": {},
   "source": [
    "**(a) `123 + 123`**\n",
    ">`246`"
   ]
  },
  {
   "cell_type": "markdown",
   "metadata": {},
   "source": [
    "**(b) `\"123\" + \"123\"`**\n",
    ">`\"123123\"`"
   ]
  },
  {
   "cell_type": "markdown",
   "metadata": {},
   "source": [
    "**(c) `\"123\" + 123`**\n",
    ">`TypeError: can only concatenate str (not \"int\") to str`<br/>\n",
    ">\n",
    "> Note: we can't mix numeric and non-numeric types for addition, subtraction or division"
   ]
  },
  {
   "cell_type": "markdown",
   "metadata": {},
   "source": [
    "**(d) `3 * 4`**\n",
    ">`12`"
   ]
  },
  {
   "cell_type": "markdown",
   "metadata": {},
   "source": [
    "**(e) `\"3\" * 4`**\n",
    ">`\"3333\"`\n",
    ">\n",
    "> Note: we can only mix numeric and non-numeric types for multiplication IF the numeric type is an int. "
   ]
  },
  {
   "cell_type": "code",
   "execution_count": 1,
   "metadata": {},
   "outputs": [
    {
     "name": "stdout",
     "output_type": "stream",
     "text": [
      "3333\n"
     ]
    }
   ],
   "source": [
    "print(\"3\" * 4) # this works fine"
   ]
  },
  {
   "cell_type": "code",
   "execution_count": null,
   "metadata": {},
   "outputs": [],
   "source": [
    "print(\"3\" * 4.2) # this produces an error (try running it on Grok!)"
   ]
  },
  {
   "cell_type": "markdown",
   "metadata": {},
   "source": [
    "**(f) `\"3\" * \"4\"`**\n",
    ">`TypeError: can't multiply sequence by non-int of type 'str'`\n",
    ">\n",
    "> Note: When using the `*` operator, *at least one* of the two operands *must* be an `int`."
   ]
  },
  {
   "cell_type": "code",
   "execution_count": 12,
   "metadata": {},
   "outputs": [
    {
     "name": "stdout",
     "output_type": "stream",
     "text": [
      "4\n",
      "0\n"
     ]
    }
   ],
   "source": [
    "# we can also use this with boolean values\n",
    "\n",
    "print(True * 4) # int(True) = 1, so 1 * 4 = 4\n",
    "print(False * 5) # int(False) = 4, so 0 * 5 = 0"
   ]
  },
  {
   "cell_type": "markdown",
   "metadata": {},
   "source": [
    "### **4. Evaluate the following given the assignments a = 1, b = 2, c = 2.0:**"
   ]
  },
  {
   "cell_type": "markdown",
   "metadata": {},
   "source": [
    "**(a) `a / a`**\n",
    ">`1.0`"
   ]
  },
  {
   "cell_type": "markdown",
   "metadata": {},
   "source": [
    "**(b) `b + b`**\n",
    ">`4`"
   ]
  },
  {
   "cell_type": "markdown",
   "metadata": {},
   "source": [
    "**(c) `b + c`**\n",
    ">`4.0`"
   ]
  },
  {
   "cell_type": "markdown",
   "metadata": {},
   "source": [
    "**(d) `a / b`**\n",
    ">`0.5`"
   ]
  },
  {
   "cell_type": "markdown",
   "metadata": {},
   "source": [
    "**(e) `a // b`**\n",
    ">`0`"
   ]
  },
  {
   "cell_type": "markdown",
   "metadata": {},
   "source": [
    "**(f) `a % b`**\n",
    ">`1`"
   ]
  },
  {
   "cell_type": "markdown",
   "metadata": {},
   "source": [
    "**(g) `a + b / c`**\n",
    ">`2.0`"
   ]
  },
  {
   "cell_type": "markdown",
   "metadata": {},
   "source": [
    "**(h) `(a + b) / c`**\n",
    ">`1.5`"
   ]
  },
  {
   "cell_type": "markdown",
   "metadata": {},
   "source": [
    "## • Problems"
   ]
  },
  {
   "cell_type": "markdown",
   "metadata": {},
   "source": [
    "### **1. Write a program which asks the user for their age and calculates the year in which they were born. There will be two possibilities since you haven’t asked for their birth date, so print both.**"
   ]
  },
  {
   "cell_type": "markdown",
   "metadata": {},
   "source": [
    "_Suppose Bob was born on March 23rd, 1998. If he runs this program before the 23rd of March this \n",
    "year, he'd enter 21 as his age and the program would print_ `1999`_. However, if he ran the program after his \n",
    "birthday, he'd enter 22 as his age and the program would print_ `1998`_. Hence, to circumvent this issue, we're\n",
    "going to write a program that will print both possibilities._"
   ]
  },
  {
   "cell_type": "code",
   "execution_count": 18,
   "metadata": {},
   "outputs": [
    {
     "name": "stdout",
     "output_type": "stream",
     "text": [
      "What's your name? Dandy Chiggins\n",
      "How old are you? 21\n",
      "You were born in 1999 or 1998\n"
     ]
    }
   ],
   "source": [
    "CURRENT_YEAR = 2020 # Note: it's common convention to write constants in uppercase\n",
    "\n",
    "# prompt user to enter required data\n",
    "name = input(\"What's your name? \")\n",
    "age  = int(input(\"How old are you? \"))\n",
    "\n",
    "# possible birth year\n",
    "birth_year_1 = CURRENT_YEAR - age \n",
    "\n",
    "# another possible birth year\n",
    "birth_year_2 = birth_year_1 - 1\n",
    "\n",
    "print(\"You were born in\", birth_year_1, \"or\", birth_year_2)"
   ]
  },
  {
   "cell_type": "markdown",
   "metadata": {},
   "source": [
    "### **2. Write a program which asks the user for two numbers and multiplies them together, printing the equation in the form 1 * 2 = 2 for the case of 1 and 2.**"
   ]
  },
  {
   "cell_type": "code",
   "execution_count": 19,
   "metadata": {},
   "outputs": [
    {
     "name": "stdout",
     "output_type": "stream",
     "text": [
      "Enter a number: 12\n",
      "Enter another number: 2\n",
      "12.0 * 2.0 = 24.0\n"
     ]
    }
   ],
   "source": [
    "# prompt user to enter required data\n",
    "num1 = float(input(\"Enter a number: \"))\n",
    "num2 = float(input(\"Enter another number: \"))\n",
    "\n",
    "# calculate the result\n",
    "result = num1 * num2\n",
    "\n",
    "print(num1, \"*\", num2, \"=\", result)"
   ]
  },
  {
   "cell_type": "markdown",
   "metadata": {},
   "source": [
    "### **3. Write a program which asks the user for a temperature in degrees Fahrenheit and prints the corresponding value in Celsius. <br /> The conversion formula is below:**\n",
    "\n",
    "### $ C = \\frac{F - 32}{1.8} $"
   ]
  },
  {
   "cell_type": "code",
   "execution_count": 20,
   "metadata": {},
   "outputs": [
    {
     "name": "stdout",
     "output_type": "stream",
     "text": [
      "Enter a temperature in Fahrenheit: 300\n",
      "300.0°F converts to 148.88888888888889°C\n"
     ]
    }
   ],
   "source": [
    "# prompt user to enter required data\n",
    "temp_in_F = float(input(\"Enter a temperature in Fahrenheit: \"))\n",
    "\n",
    "# calculate the equivalent temperature in celcius\n",
    "temp_in_C = (temp_in_F - 32) / 1.8\n",
    "\n",
    "print(str(temp_in_F) + \"°F converts to \" + str(temp_in_C) + \"°C\")"
   ]
  }
 ],
 "metadata": {
  "kernelspec": {
   "display_name": "Python 3",
   "language": "python",
   "name": "python3"
  },
  "language_info": {
   "codemirror_mode": {
    "name": "ipython",
    "version": 3
   },
   "file_extension": ".py",
   "mimetype": "text/x-python",
   "name": "python",
   "nbconvert_exporter": "python",
   "pygments_lexer": "ipython3",
   "version": "3.6.8"
  }
 },
 "nbformat": 4,
 "nbformat_minor": 2
}
