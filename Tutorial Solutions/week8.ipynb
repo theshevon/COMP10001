{
 "cells": [
  {
   "cell_type": "markdown",
   "metadata": {},
   "source": [
    "# <center>Workshop 6 (Week 8)<center>"
   ]
  },
  {
   "cell_type": "markdown",
   "metadata": {},
   "source": [
    "## • Exercises"
   ]
  },
  {
   "cell_type": "markdown",
   "metadata": {},
   "source": [
    "### 1. Consider the following program. How would you improve the variable names and use of magic numbers to make it easier to read?"
   ]
  },
  {
   "cell_type": "markdown",
   "metadata": {},
   "source": [
    "**(a)**\n",
    "```python\n",
    "a = float(input(\"Enter days: \"))\n",
    "b = a * 24\n",
    "c = b * 60\n",
    "d = c * 60\n",
    "print(\"There are\", b, \"hours,\", c, \"minutes,\", d, \"seconds in\", a, \"days\")\n",
    "```"
   ]
  },
  {
   "cell_type": "code",
   "execution_count": 1,
   "metadata": {},
   "outputs": [
    {
     "name": "stdout",
     "output_type": "stream",
     "text": [
      "Enter days: 10\n",
      "There are 240 hours, 14400 minutes, 864000 seconds in 10 days\n"
     ]
    }
   ],
   "source": [
    "HOURS_IN_DAY = 24\n",
    "MINUTES_IN_HOUR = 60\n",
    "SECONDS_IN_MINUTE = 60\n",
    "\n",
    "days = int(input(\"Enter days: \"))\n",
    "\n",
    "hours = days * HOURS_IN_DAY\n",
    "minutes = hours * MINUTES_IN_HOUR\n",
    "seconds = minutes * SECONDS_IN_MINUTE\n",
    "\n",
    "print(\"There are\", hours, \"hours,\", minutes, \"minutes,\", seconds, \"seconds in\", days, \"days\")"
   ]
  },
  {
   "cell_type": "markdown",
   "metadata": {},
   "source": [
    "**(b)**\n",
    "```python\n",
    "word = input(\"Enter text: \")\n",
    "words = 0\n",
    "vowels = 0\n",
    "word_2 = word.split()\n",
    "for word_3 in word_2:\n",
    "    words += 1\n",
    "    for word_4 in word_3:\n",
    "        word_5 = word_4.lower()\n",
    "        if word_5 in \"aeiou\":\n",
    "            vowels += 1\n",
    "if vowels/words > 0.4:\n",
    "    print(\"Above threshold\")\n",
    "```"
   ]
  },
  {
   "cell_type": "code",
   "execution_count": null,
   "metadata": {},
   "outputs": [],
   "source": [
    "THRESHOLD = 0.4\n",
    "\n",
    "text = input(\"Enter text: \")\n",
    "\n",
    "words = text.split()\n",
    "\n",
    "# -- count the total number of vowels in the text\n",
    "n_words = 0\n",
    "n_vowels = 0\n",
    "for word in words:\n",
    "    \n",
    "    n_words += 1\n",
    "    \n",
    "    for letter in word:\n",
    "        letter = letter.lower()\n",
    "        if letter in \"aeiou\":\n",
    "            n_vowels += 1\n",
    "            \n",
    "if vowels / words > THRESHOLD:\n",
    "    print(\"Above threshold\")"
   ]
  },
  {
   "cell_type": "markdown",
   "metadata": {},
   "source": [
    "---"
   ]
  },
  {
   "cell_type": "markdown",
   "metadata": {},
   "source": [
    "### 2. Fill in the blanks with comments and a docstring for the following function, which finds the average frequency of letters over frequency n in text. There’s no definite right or wrong answer here, try and develop your style."
   ]
  },
  {
   "cell_type": "markdown",
   "metadata": {},
   "source": [
    "```python\n",
    "def average_freq_over(text, n):\n",
    "    \"\"\" ... \"\"\"\n",
    "    freqs = {}\n",
    "    \n",
    "    # ...\n",
    "    for letter in text:\n",
    "        if letter in freqs:\n",
    "            freqs[letter] += 1\n",
    "        else:\n",
    "            freqs[letter] = 1\n",
    "            \n",
    "    # ...\n",
    "    over = []\n",
    "    total = 0\n",
    "    for key in freqs:\n",
    "        if freqs[key] > n:\n",
    "        over.append(key)\n",
    "        total += freqs[key]\n",
    "        \n",
    "    # ...\n",
    "    average = total / len(over)\n",
    "    return average\n",
    "```"
   ]
  },
  {
   "cell_type": "markdown",
   "metadata": {},
   "source": [
    "Leaving this question blank b/c it's to do with you developing your own style"
   ]
  },
  {
   "cell_type": "markdown",
   "metadata": {},
   "source": [
    "---"
   ]
  },
  {
   "cell_type": "markdown",
   "metadata": {},
   "source": [
    "### 3. Imagine we are testing a function which has been written. It’s supposed to take an employee’s ID and a year as input, fetch their records and calculate the total amount of tax which they paid in that year. Describe three aspects of the code’s functionality you would test if you were to write test cases."
   ]
  },
  {
   "cell_type": "markdown",
   "metadata": {},
   "source": [
    "Potential test cases (assuming that argument types for employeeID and year will be correct) include:\n",
    "    \n",
    "- invalid employeeID → should return an appropriate error message\n",
    "- valid employeeID; invalid year (year too early) → should return an appropriate error message\n",
    "- valid employeeID; invalid year (year too late) → should return an appropriate error message\n",
    "- valid employeeID (where employee earned above tax-free threshold); valid year → should return **correct** tax amount\n",
    "- valid employeeID (where employee earned above tax-free threshold); valid year → should return **correct** tax amount\n",
    "\n",
    "**Note:** For the test cases that include invalid inputs, you should only have **one** argument that's invalid. eg. if we tested our code with both an invalid employeeID and invalid year, then we won't know which one is producing the error message- so it's better to isolate these into individual test cases."
   ]
  },
  {
   "cell_type": "markdown",
   "metadata": {},
   "source": [
    "---"
   ]
  },
  {
   "cell_type": "markdown",
   "metadata": {},
   "source": [
    "### 4. Find the errors in the following programs, classifying them as (a) syntax, (b) runtime or (c) logic errors. Fix them with a correct line of code."
   ]
  },
  {
   "cell_type": "markdown",
   "metadata": {},
   "source": [
    "**(a)**\n",
    "\n",
    "```python\n",
    "1 def disemvowel(text):\n",
    "2     \"\"\" Returns string `text` with all vowels removed \"\"\"\n",
    "3     vowels = ('a', 'e', 'i', 'o', 'u')\n",
    "4     answer = text[0]\n",
    "5     for char in text:\n",
    "6         if char is not in vowels:\n",
    "7             answer = char + answer\n",
    "8     print(answer)\n",
    "```"
   ]
  },
  {
   "cell_type": "code",
   "execution_count": null,
   "metadata": {},
   "outputs": [],
   "source": [
    "def disemvowel(text):\n",
    "    \"\"\" Returns string `text` with all vowels removed \"\"\"\n",
    "    vowels = ('a', 'e', 'i', 'o', 'u')\n",
    "    answer = text[0]\n",
    "    for char in text:\n",
    "        if char is not in vowels:\n",
    "            answer = char + answer\n",
    "    print(answer)"
   ]
  },
  {
   "cell_type": "markdown",
   "metadata": {},
   "source": [
    "--- "
   ]
  },
  {
   "cell_type": "markdown",
   "metadata": {},
   "source": [
    "**(b)**\n",
    "\n",
    "```python\n",
    "1  def big-ratio(nums, n):\n",
    "2      \"\"\" Calculates and returns the ratio of numbers\n",
    "3          in list `nums` which are larger than `n` \"\"\"\n",
    "4      n = 0\n",
    "5      greater_n = 0\n",
    "6      for number in nums:\n",
    "7          if number > n:\n",
    "8              greater_n += 1\n",
    "9              total += 1\n",
    "10     return greater_n / total\n",
    "11\n",
    "12 nums = [4, 5, 6]\n",
    "13 low = 4\n",
    "14 print(f\"{100*big_ratio(nums, low)}% of numbers are greater than {low}\")\n",
    "```"
   ]
  },
  {
   "cell_type": "code",
   "execution_count": null,
   "metadata": {},
   "outputs": [],
   "source": [
    "def big-ratio(nums, n):\n",
    "    \"\"\" Calculates and returns the ratio of numbers\n",
    "        in list `nums` which are larger than `n` \"\"\"\n",
    "    n = 0\n",
    "    greater_n = 0\n",
    "    for number in nums:\n",
    "        if number > n:\n",
    "            greater_n += 1\n",
    "            total += 1\n",
    "    return greater_n / total\n",
    "\n",
    "nums = [4, 5, 6]\n",
    "low = 4\n",
    "print(f\"{100*big_ratio(nums, low)}% of numbers are greater than {low}\")"
   ]
  },
  {
   "cell_type": "markdown",
   "metadata": {},
   "source": [
    "---"
   ]
  },
  {
   "cell_type": "markdown",
   "metadata": {},
   "source": [
    "## • Problems"
   ]
  },
  {
   "cell_type": "markdown",
   "metadata": {},
   "source": [
    "### 1. Write a function which takes a string containing an FM radio frequency and returns whether it is a valid frequency. A valid frequency is within the range 88.0-108.0 inclusive with 0.1 increments, meaning it must have only one decimal place."
   ]
  },
  {
   "cell_type": "code",
   "execution_count": 2,
   "metadata": {},
   "outputs": [],
   "source": [
    "MIN_FREQ_STR_LEN = 4\n",
    "MAX_FREQ_STR_LEN = 5\n",
    "MIN_FREQ = 88.0\n",
    "MAX_FREQ = 108.0\n",
    "\n",
    "def is_valid_frequency(frequency: str) -> bool:\n",
    "    '''\n",
    "        Determines whether or not a given frequency\n",
    "        is valid.\n",
    "        \n",
    "        Arguments:\n",
    "            frequency (str) : The frequency to be validated\n",
    "            \n",
    "        Returns:\n",
    "            bool : True if the frequency is valid; False otherwise\n",
    "    '''\n",
    "    \n",
    "    # validate string length\n",
    "    if len(frequency) not in range(MIN_FREQ_STR_LEN, MAX_FREQ_STR_LEN + 1):\n",
    "        return False\n",
    "    \n",
    "    # verify that the frequency string is of the correct format\n",
    "    if not frequency[:-2].isdigit() or frequency[-2] != '.' or \\\n",
    "        not frequency[-1].isdigit():\n",
    "        return False\n",
    "    \n",
    "    # verify that the frequency is within the valid range\n",
    "    return MIN_FREQ <= float(frequency) <= MAX_FREQ"
   ]
  },
  {
   "cell_type": "code",
   "execution_count": 4,
   "metadata": {},
   "outputs": [
    {
     "name": "stdout",
     "output_type": "stream",
     "text": [
      "True\n",
      "True\n",
      "True\n",
      "True\n",
      "True\n",
      "True\n",
      "True\n",
      "True\n",
      "True\n",
      "True\n"
     ]
    }
   ],
   "source": [
    "# TESTS:\n",
    "\n",
    "# NORMAL DATA (inputs that should return True)\n",
    "print(is_valid_frequency(\"89.0\") == True)\n",
    "print(is_valid_frequency(\"100.2\") == True)\n",
    "\n",
    "# EXTREME/ BOUNDARY DATA (inputs that are on the boundary of what's being\n",
    "# tested- should return True)\n",
    "print(is_valid_frequency(\"88.0\") == True)\n",
    "print(is_valid_frequency(\"108.0\") == True)\n",
    "\n",
    "# ERROR DATA (inputs that should return False)\n",
    "print(is_valid_frequency(\"12.9\") == False)\n",
    "print(is_valid_frequency(\"100000\") == False)\n",
    "print(is_valid_frequency(\"\") == False)\n",
    "print(is_valid_frequency(\"bruh\") == False)\n",
    "print(is_valid_frequency(\"3.142\") == False)\n",
    "print(is_valid_frequency(\"108.00\") == False)"
   ]
  },
  {
   "cell_type": "markdown",
   "metadata": {},
   "source": [
    "---"
   ]
  },
  {
   "cell_type": "markdown",
   "metadata": {},
   "source": [
    "### 2. Write a function which takes a string and returns a 2-tuple containing the most common letter in the string and its frequency. In the case of a tie, it should return the letter which occurs first in the text."
   ]
  },
  {
   "cell_type": "code",
   "execution_count": 14,
   "metadata": {},
   "outputs": [],
   "source": [
    "def get_most_common_letter(text: str) -> tuple:\n",
    "    '''\n",
    "        Finds the most common letter in a given text string. \n",
    "        In the case of a tie, the letter that appeared first will\n",
    "        be the one that's returned.\n",
    "        \n",
    "        Arguments:\n",
    "            text (str) : The text to be searched\n",
    "            \n",
    "        Returns:\n",
    "            (str, int) : A 2-tuple containing the following info:\n",
    "                            [0] : The most common letter\n",
    "                            [1] : The frequency of that letter\n",
    "    '''\n",
    "    \n",
    "    most_common_letter = ''\n",
    "    highest_frequency  = 0\n",
    "    \n",
    "    # count the frequncies of the letters in the string \n",
    "    # additionally, find the letter with the highest frequency\n",
    "    letter_frequencies = {}\n",
    "    for index, letter in enumerate(text):\n",
    "        \n",
    "        if letter not in letter_frequencies:\n",
    "            letter_frequencies[letter] = 0\n",
    "            \n",
    "        letter_frequencies[letter] += 1\n",
    "\n",
    "        # check if new frequency is the highest seen\n",
    "        if letter_frequencies[letter] > highest_frequency:\n",
    "            highest_frequency = letter_frequencies[letter]\n",
    "            most_common_letter = letter\n",
    "    \n",
    "    \n",
    "    return most_common_letter, highest_frequency"
   ]
  },
  {
   "cell_type": "code",
   "execution_count": 15,
   "metadata": {},
   "outputs": [
    {
     "name": "stdout",
     "output_type": "stream",
     "text": [
      "True\n",
      "True\n",
      "True\n"
     ]
    }
   ],
   "source": [
    "# TESTS:\n",
    "\n",
    "# equal letter counts\n",
    "print(get_most_common_letter(\"unimelb\") == ('u', 1))\n",
    "\n",
    "# unequal letter counts\n",
    "print(get_most_common_letter(\"shevy_westside\") == ('s', 3))\n",
    "\n",
    "# empty string\n",
    "print(get_most_common_letter('') == ('', 0))"
   ]
  }
 ],
 "metadata": {
  "kernelspec": {
   "display_name": "Python 3",
   "language": "python",
   "name": "python3"
  },
  "language_info": {
   "codemirror_mode": {
    "name": "ipython",
    "version": 3
   },
   "file_extension": ".py",
   "mimetype": "text/x-python",
   "name": "python",
   "nbconvert_exporter": "python",
   "pygments_lexer": "ipython3",
   "version": "3.7.6"
  }
 },
 "nbformat": 4,
 "nbformat_minor": 2
}
