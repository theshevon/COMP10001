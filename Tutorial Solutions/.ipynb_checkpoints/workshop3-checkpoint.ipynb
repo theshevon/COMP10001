{
 "cells": [
  {
   "cell_type": "markdown",
   "metadata": {},
   "source": [
    "# <center>Workshop 3 (Week 4)<center>"
   ]
  },
  {
   "cell_type": "markdown",
   "metadata": {},
   "source": [
    "## • Discussion"
   ]
  },
  {
   "cell_type": "markdown",
   "metadata": {},
   "source": [
    "### 1. What is “Boolean”? What values does it store? Can other types be converted to it?"
   ]
  },
  {
   "cell_type": "markdown",
   "metadata": {},
   "source": [
    "> A Boolean, or `bool` in python, is a datatype that stores a truth value, ie. `True` or `False`.\n",
    ">\n",
    "> Other types can be converted into it by using the `bool()` function.\n",
    "- With `int`s: `0` converts to `False` while all other values convert to `True`\n",
    "- With `float`s: `0.0` converts to `False` while all other values convert to `True`\n",
    "- With `string`s: The empty string, `\"\"`, converts to `False` while all other (non-empty) string sequence convert to `True`"
   ]
  },
  {
   "cell_type": "markdown",
   "metadata": {},
   "source": [
    "### 2. For each of the following, identify whether it is: (a) a Boolean value; (b) a relational operator; or (c) a logical operator."
   ]
  },
  {
   "cell_type": "markdown",
   "metadata": {},
   "source": [
    "> **Boolean Values**\n",
    "- A value that's either `True` or `False`\n",
    "\n",
    "> **Relational Operators**\n",
    "- Compares two values and produces a boolean result\n",
    "- Includes:\n",
    "    - `==` : equivalence\n",
    "    - `>` : greater than\n",
    "    - `<` : less than\n",
    "    - `>=` : greater than or equals\n",
    "    - `<=` : less than or equals\n",
    "    - `!=` : not equals\n",
    "\n",
    "> **Logical Operators**\n",
    "- Enforces logical constraints on its operands. They combine multiple boolean values into a single truth value. \n",
    "- Includes:\n",
    "    - `and`\n",
    "        - Requires **all** operands to be `True` for the **whole** statement to be `True`; `False otherwise\n",
    "        - eg.\n",
    "            - `True and True` → `True`\n",
    "            - `True and False` → `False`\n",
    "            - `False and True` → `False`\n",
    "            - `False and False` →  `False`\n",
    "    - `or`\n",
    "        - Requires **at least one** operand to be `True` for the **whole** statement to be `True`; `False` otherwise\n",
    "        - eg.\n",
    "            - `True or True` → `True`\n",
    "            - `True or False` → `True`\n",
    "            - `False or True` → `True`\n",
    "            - `False or False` →  `False`\n",
    "    - `not`\n",
    "        - Inverts a truth value\n",
    "        - eg.\n",
    "            - `not True` → `False`\n",
    "            - `not (1 > 2)` → `True`\n",
    "        \n",
    "> The _order of precedence_ is Relational Operators, then `not`, then `and`, finally, `or`.<br/>\n",
    "> Brackets can be used to clarify the order of operations as well."
   ]
  },
  {
   "cell_type": "markdown",
   "metadata": {},
   "source": [
    "### 3. How do we use an `if` statement? What are the variants? How do we know what is contained inside it and what is after?"
   ]
  },
  {
   "cell_type": "markdown",
   "metadata": {},
   "source": [
    "> The skeleton of an `if` statement is as follows:\n",
    "\n",
    "```python\n",
    "if condition1:\n",
    "    # do something\n",
    "elif condition2:\n",
    "    # do something else\n",
    "else:\n",
    "    # do something else\n",
    "```\n",
    "\n",
    "> The _conditions_ can be formed of relational and logical operators, or anything else you like which can be converted to a boolean value.\n",
    ">\n",
    "> If the condition expression evaluates to `True`, the code _inside_ (indented after) the `if` statement is run. If not, it is skipped. Variants include `elif` and `else` statements following\n",
    "if, which catch further conditions if the first conditional statement is not fulfilled. Indentation tells us what code belongs inside an if statement and what code follows it (Aside: Python is what we call a _layout-senstive language_, which means that we use indentation and whitespaces to denote the structure of the code we write)."
   ]
  },
  {
   "cell_type": "markdown",
   "metadata": {},
   "source": [
    "### 4. What is a “Sequence”? What sequences have we seen so far?"
   ]
  },
  {
   "cell_type": "markdown",
   "metadata": {},
   "source": [
    "> A sequence is a data type which allows us to store a series of objects **in a particular order**. Strings store sequences of characters while lists and tuples can store sequences of any type of object."
   ]
  },
  {
   "cell_type": "markdown",
   "metadata": {},
   "source": [
    "### 5. What is indexing? How can you do it?"
   ]
  },
  {
   "cell_type": "markdown",
   "metadata": {},
   "source": [
    "> Indexing means accessing the item stored in a particular (integer) position in a sequence. You index using square brackets containing the index `[i]` at the end of the variable name or object literal. \n",
    ">\n",
    "> In python, indices start at 0 (0-based indexing). You can index with positive integers where 0 corresponds to the first item or negative integers where -1 corresponds to the last item."
   ]
  },
  {
   "cell_type": "markdown",
   "metadata": {},
   "source": [
    "```\n",
    "my_list = [1, 1, 2, 3, 5, 8]\n",
    "           ↑  ↑  ↑  ↑  ↑  ↑\n",
    "           0  1  2  3  4  5 \n",
    "          -6 -5 -4 -3 -2 -1\n",
    "```"
   ]
  },
  {
   "cell_type": "code",
   "execution_count": 1,
   "metadata": {},
   "outputs": [
    {
     "name": "stdout",
     "output_type": "stream",
     "text": [
      "3\n",
      "5\n"
     ]
    },
    {
     "ename": "IndexError",
     "evalue": "list index out of range",
     "output_type": "error",
     "traceback": [
      "\u001b[0;31m---------------------------------------------------------------------------\u001b[0m",
      "\u001b[0;31mIndexError\u001b[0m                                Traceback (most recent call last)",
      "\u001b[0;32m<ipython-input-1-29ea11276c5f>\u001b[0m in \u001b[0;36m<module>\u001b[0;34m()\u001b[0m\n\u001b[1;32m      6\u001b[0m \u001b[0;34m\u001b[0m\u001b[0m\n\u001b[1;32m      7\u001b[0m \u001b[0;31m# accessing indexes that *don't* exist → IndexError\u001b[0m\u001b[0;34m\u001b[0m\u001b[0;34m\u001b[0m\u001b[0;34m\u001b[0m\u001b[0m\n\u001b[0;32m----> 8\u001b[0;31m \u001b[0mprint\u001b[0m\u001b[0;34m(\u001b[0m\u001b[0mmy_list\u001b[0m\u001b[0;34m[\u001b[0m\u001b[0;36m39\u001b[0m\u001b[0;34m]\u001b[0m\u001b[0;34m)\u001b[0m\u001b[0;34m\u001b[0m\u001b[0;34m\u001b[0m\u001b[0m\n\u001b[0m",
      "\u001b[0;31mIndexError\u001b[0m: list index out of range"
     ]
    }
   ],
   "source": [
    "my_list = [1, 1, 2, 3, 5, 8]\n",
    "\n",
    "# accessing indexes that *do* exist\n",
    "print(my_list[3])\n",
    "print(my_list[-2])\n",
    "\n",
    "# accessing indexes that *don't* exist → IndexError\n",
    "print(my_list[39])"
   ]
  },
  {
   "cell_type": "markdown",
   "metadata": {},
   "source": [
    "### 6. What is slicing? How can you do it?"
   ]
  },
  {
   "cell_type": "markdown",
   "metadata": {},
   "source": [
    "> **Slicing**\n",
    "- Allows you to _slice_ a subsection of a sequence<br/><br/>\n",
    "- Format:\n",
    "    - `<variable_name or object_literal>[start_index : stop_index : step_size]`\n",
    "    - _start_index_ : index to start slicing at (included in the slice)\n",
    "    - _stop_index_ : index to stop slicing at (excluded in the slice)\n",
    "    - _step_size_ : number of elements to move over by when slicing<br/><br/>\n",
    "- Things to note:\n",
    "    - Slicing **always** returns a sequence (**never** produces an `IndexError`)\n",
    "    - If the _start_index_ is not explicitly defined, it defaults to 0\n",
    "    - If the _stop_index_ is not explicitly defined, it defaults to the length of the sequence\n",
    "    - If the _step_size_ is not explicity defined"
   ]
  },
  {
   "cell_type": "code",
   "execution_count": 2,
   "metadata": {},
   "outputs": [],
   "source": [
    "my_string = \"must I bop to the top, or top to the bop?\""
   ]
  },
  {
   "cell_type": "code",
   "execution_count": 3,
   "metadata": {},
   "outputs": [
    {
     "data": {
      "text/plain": [
       "'st I '"
      ]
     },
     "execution_count": 3,
     "metadata": {},
     "output_type": "execute_result"
    }
   ],
   "source": [
    "my_string[2:7]"
   ]
  },
  {
   "cell_type": "code",
   "execution_count": 4,
   "metadata": {},
   "outputs": [
    {
     "data": {
      "text/plain": [
       "'st I bop to the top, or top to the bop?'"
      ]
     },
     "execution_count": 4,
     "metadata": {},
     "output_type": "execute_result"
    }
   ],
   "source": [
    "my_string[2:]"
   ]
  },
  {
   "cell_type": "code",
   "execution_count": 5,
   "metadata": {},
   "outputs": [
    {
     "data": {
      "text/plain": [
       "'must I bop to'"
      ]
     },
     "execution_count": 5,
     "metadata": {},
     "output_type": "execute_result"
    }
   ],
   "source": [
    "my_string[:13]"
   ]
  },
  {
   "cell_type": "code",
   "execution_count": 6,
   "metadata": {},
   "outputs": [
    {
     "data": {
      "text/plain": [
       "'ms  o otetp rtpt h o?'"
      ]
     },
     "execution_count": 6,
     "metadata": {},
     "output_type": "execute_result"
    }
   ],
   "source": [
    "my_string[::2]"
   ]
  },
  {
   "cell_type": "code",
   "execution_count": 7,
   "metadata": {},
   "outputs": [
    {
     "data": {
      "text/plain": [
       "'mt poht,rott p'"
      ]
     },
     "execution_count": 7,
     "metadata": {},
     "output_type": "execute_result"
    }
   ],
   "source": [
    "my_string[::3]"
   ]
  },
  {
   "cell_type": "code",
   "execution_count": 8,
   "metadata": {},
   "outputs": [
    {
     "data": {
      "text/plain": [
       "'he bop?'"
      ]
     },
     "execution_count": 8,
     "metadata": {},
     "output_type": "execute_result"
    }
   ],
   "source": [
    "my_string[34:]"
   ]
  },
  {
   "cell_type": "markdown",
   "metadata": {},
   "source": [
    "> Now let’s look at a more interesting example. Let’s say you want to extract the 2nd element all the way up to the 7th element in reverse order. You might be tempted to write something like this:"
   ]
  },
  {
   "cell_type": "code",
   "execution_count": 9,
   "metadata": {},
   "outputs": [
    {
     "data": {
      "text/plain": [
       "''"
      ]
     },
     "execution_count": 9,
     "metadata": {},
     "output_type": "execute_result"
    }
   ],
   "source": [
    "my_string[1:8:-1]"
   ]
  },
  {
   "cell_type": "markdown",
   "metadata": {},
   "source": [
    "> While it may seem like the above code should have produced `\"ob I tsu\"`, that doesn’t seem to be the case. The reason that an empty string is produced is because you’re effectively asking python to start at index `1`, and then slice backwards (since *step_size* is negative). However, as it will never reach index `8` while slicing backwards (as `8` > `1`), an empty string is returned.\n",
    ">\n",
    ">So, how do we get around this? Well, it’s quite easy actually. All you need to do is adjust your *start_index* and *end_index* parameters so that the *start_index* has a greater index value (ie. it’s positionally more towards the right side of the sequence) than the *stop_index*."
   ]
  },
  {
   "cell_type": "code",
   "execution_count": 10,
   "metadata": {},
   "outputs": [
    {
     "data": {
      "text/plain": [
       "'ob I tsu'"
      ]
     },
     "execution_count": 10,
     "metadata": {},
     "output_type": "execute_result"
    }
   ],
   "source": [
    "my_string[8:0:-1]"
   ]
  },
  {
   "cell_type": "markdown",
   "metadata": {},
   "source": [
    "> Now you’re asking python to start at index `8` (ie. the 7th element) and slice backwards up to (but not including) the element at index 0 (ie. the 1st element), thereby yielding the required result."
   ]
  },
  {
   "cell_type": "markdown",
   "metadata": {},
   "source": [
    "### 7. Bonus question: How do you change the “step size” of a slice?"
   ]
  },
  {
   "cell_type": "markdown",
   "metadata": {},
   "source": [
    "> Explained above^"
   ]
  },
  {
   "cell_type": "markdown",
   "metadata": {},
   "source": [
    "### 8. What is a “function”? How do we call (use) one? How do we define one ourselves?"
   ]
  },
  {
   "cell_type": "markdown",
   "metadata": {},
   "source": [
    "> Skeleton of a function:\n",
    "\n",
    "```python\n",
    "def function_name(arg1, arg2):\n",
    "    # lines of code\n",
    "    return something\n",
    "```\n",
    "    "
   ]
  },
  {
   "cell_type": "markdown",
   "metadata": {},
   "source": [
    "### 9. What does it mean to “return” a value from a function and why would we want to? Does a function always need a return value?"
   ]
  },
  {
   "cell_type": "markdown",
   "metadata": {},
   "source": [
    "> Returning a value from a function makes it available to the line of code which called the function, so that it can be, for example, assigned to a variable. This return value could be the result of a calculation or a status message or something else. \n",
    ">\n",
    "> A function doesn’t _need_ to have a return value: it could just perform an operation such as `print()`. A function that doesn't explicitly use a print statement returns `None`. eg."
   ]
  },
  {
   "cell_type": "code",
   "execution_count": 11,
   "metadata": {},
   "outputs": [
    {
     "name": "stdout",
     "output_type": "stream",
     "text": [
      "None\n"
     ]
    }
   ],
   "source": [
    "def some_function():\n",
    "    num = 1 + 2\n",
    "    \n",
    "my_var = some_function()\n",
    "print(my_var)"
   ]
  },
  {
   "cell_type": "markdown",
   "metadata": {},
   "source": [
    "If you do want to return something, you can do so by using the `return` keyword, followed by the value you want to pass. At this point, the function execution terminates and returns control back to whatever called it."
   ]
  },
  {
   "cell_type": "code",
   "execution_count": 12,
   "metadata": {},
   "outputs": [
    {
     "name": "stdout",
     "output_type": "stream",
     "text": [
      "3\n"
     ]
    }
   ],
   "source": [
    "def some_function():\n",
    "    num = 1 + 2\n",
    "    return num\n",
    "    \n",
    "my_var = some_function()\n",
    "print(my_var)"
   ]
  },
  {
   "cell_type": "markdown",
   "metadata": {},
   "source": [
    "### 10. Why are functions so useful? Could we live without functions?"
   ]
  },
  {
   "cell_type": "markdown",
   "metadata": {},
   "source": [
    "> Advantages of using functions:\n",
    "- Reduces code duplication/ Increases modularity\n",
    "    - Instead of writing the same identical block of code in multiple places, we can just write it once within a function and call that function as many times as needed (from any place that has access to it). This reduces the length of your script as well as the time taken to write the code.\n",
    "- Increases code maintainability\n",
    "    - If we need to make a change to repeating block of code, we only need to make the change in one spot, so editing becomes easier.\n",
    "    \n",
    "> We _could_ theoretically live without functions, but code would be very messy and error-prone without them."
   ]
  },
  {
   "cell_type": "markdown",
   "metadata": {},
   "source": [
    "### 11. Why are brackets important when calling a function? Are they needed even if it takes no arguments?"
   ]
  },
  {
   "cell_type": "markdown",
   "metadata": {},
   "source": [
    "> Brackets are the difference between a reference to the name of the function and an actual call of the function. Even if there are no arguments, brackets are still needed to call the function (they will simply be empty)."
   ]
  },
  {
   "cell_type": "code",
   "execution_count": 13,
   "metadata": {},
   "outputs": [],
   "source": [
    "my_list = [\"Troy\", \"Gabriella\", \"Chad\", \"Sharpei\"] # this isn't a HSM ref b/c Sharpei is actually a type of dog"
   ]
  },
  {
   "cell_type": "code",
   "execution_count": 14,
   "metadata": {},
   "outputs": [
    {
     "data": {
      "text/plain": [
       "4"
      ]
     },
     "execution_count": 14,
     "metadata": {},
     "output_type": "execute_result"
    }
   ],
   "source": [
    "# example 1: calling the len() function\n",
    "len(my_list)"
   ]
  },
  {
   "cell_type": "code",
   "execution_count": 15,
   "metadata": {},
   "outputs": [
    {
     "data": {
      "text/plain": [
       "['Troy', 'Chad', 'Sharpei', 'Gabriella']"
      ]
     },
     "execution_count": 15,
     "metadata": {},
     "output_type": "execute_result"
    }
   ],
   "source": [
    "# example 2: using len as a reference\n",
    "sorted(my_list, key=len) # sorts the list in increasing order of the lengths of the strings contained in it"
   ]
  },
  {
   "cell_type": "markdown",
   "metadata": {},
   "source": [
    "## • Exercises"
   ]
  },
  {
   "cell_type": "markdown",
   "metadata": {},
   "source": [
    "### 1. Evaluate the following truth expressions:"
   ]
  },
  {
   "cell_type": "markdown",
   "metadata": {},
   "source": [
    "**(a) `True or False**\n",
    ">`True`"
   ]
  },
  {
   "cell_type": "markdown",
   "metadata": {},
   "source": [
    "**(b) `True and False`**\n",
    ">`False`"
   ]
  },
  {
   "cell_type": "markdown",
   "metadata": {},
   "source": [
    "**(c) `False and not False or True`**\n",
    ">`True`"
   ]
  },
  {
   "cell_type": "markdown",
   "metadata": {},
   "source": [
    "**(d) `False and (not False or True)`**\n",
    ">`False`"
   ]
  },
  {
   "cell_type": "markdown",
   "metadata": {},
   "source": [
    "### 2. For each of the following if statements, give an example of a value for var which will trigger it and one which will not."
   ]
  },
  {
   "cell_type": "markdown",
   "metadata": {},
   "source": [
    "**(a) `if 10 > var >= 5:`**\n",
    ">Will trigger: `7`,<br/>Won't trigger: `1`"
   ]
  },
  {
   "cell_type": "markdown",
   "metadata": {},
   "source": [
    "**(b) `if var in [\"VIC\", \"NSW\", \"ACT\"]:`**\n",
    ">Will trigger: `\"VIC\"`,<br/>Won't trigger: `\"QLD\"`"
   ]
  },
  {
   "cell_type": "markdown",
   "metadata": {},
   "source": [
    "**(c) `if var[0] == \"A\"and var[-1] == \"e\":`**\n",
    ">Will trigger: `\"Apple\"`,<br/>Won't trigger: `\"apple\"`"
   ]
  },
  {
   "cell_type": "markdown",
   "metadata": {},
   "source": [
    "**(d) `if var:`**\n",
    ">Will trigger: _var_ just needs to be anything that will return `True` when typecasted into a `bool`. eg. `\"Gabriella Montez\"`, `1`, `2.0`, `True`, `[1,2,3]`, `(\"milk\", \"bread\")`<br/><br/>\n",
    "Won't trigger: _var_ just needs to be anything that will return `False` when typecasted into a `bool`. eg. `\"\"`, `0`, `0.0`, `False`, `[]`, `()`"
   ]
  },
  {
   "cell_type": "markdown",
   "metadata": {},
   "source": [
    "### 3. What’s wrong with this code? How can you fix it?"
   ]
  },
  {
   "cell_type": "markdown",
   "metadata": {},
   "source": [
    "_**Note:** This question assumes that the user's input will always be a single, lower-case alphabetical character._"
   ]
  },
  {
   "cell_type": "markdown",
   "metadata": {},
   "source": [
    "```python\n",
    "letter = input(\"Enter a letter: \")\n",
    "if letter == 'a' or 'e' or 'i' or 'o' or 'u':\n",
    "    print(\"vowel\")\n",
    "else:\n",
    "    print(\"consonant\")\n",
    "```"
   ]
  },
  {
   "cell_type": "markdown",
   "metadata": {},
   "source": [
    "The way python interprets this line is:\n",
    "\n",
    "```python\n",
    "elif bool(letter == 'a') or bool('e') or bool('i') or bool('o') or bool('u'):\n",
    "```\n",
    "\n",
    "Now, let's have a look at how `bool()` works with different strings:"
   ]
  },
  {
   "cell_type": "code",
   "execution_count": 16,
   "metadata": {},
   "outputs": [
    {
     "name": "stdout",
     "output_type": "stream",
     "text": [
      "False\n",
      "True\n"
     ]
    }
   ],
   "source": [
    "# with an empty string\n",
    "print(bool(\"\"))\n",
    "# with a non-empty string\n",
    "print(bool(\"this is a non-empty string\"))"
   ]
  },
  {
   "cell_type": "markdown",
   "metadata": {},
   "source": [
    "So what's happening is that since `bool('e')`, `bool('i')`, `bool('o')` and `bool('u')` evaluate to `True` and since an `or` operator only requires **one** of it's operands to be `True` for the whole condition to be `True`, this branch **always** gets executed.\n",
    "\n",
    "The following are some of the ways you could possible fix it:"
   ]
  },
  {
   "cell_type": "markdown",
   "metadata": {},
   "source": [
    "```python\n",
    "# method 1\n",
    "letter = input(\"Enter a letter: \")\n",
    "if letter in 'a' or 'e' or 'i' or 'o' or 'u':\n",
    "    print(\"vowel\")\n",
    "else:\n",
    "    print(\"consonant\")\n",
    "    \n",
    "# method 2\n",
    "letter = input(\"Enter a letter: \")\n",
    "if letter in 'aeiou':\n",
    "    print(\"vowel\")\n",
    "else:\n",
    "    print(\"consonant\")\n",
    "    \n",
    "# method 3\n",
    "letter = input(\"Enter a letter: \")\n",
    "if letter in ['a', 'e', 'i', 'o', 'u']:\n",
    "    print(\"vowel\")\n",
    "else:\n",
    "    print(\"consonant\")\n",
    "```"
   ]
  },
  {
   "cell_type": "markdown",
   "metadata": {},
   "source": [
    "### 4. What’s wrong with this code? How can you fix it?"
   ]
  },
  {
   "cell_type": "markdown",
   "metadata": {},
   "source": [
    "```python\n",
    "eggs == 3\n",
    "if eggs = 5:\n",
    "    print(\"spam\")\n",
    "else:\n",
    "    print(\"not spam\")\n",
    "```"
   ]
  },
  {
   "cell_type": "markdown",
   "metadata": {},
   "source": [
    "`==` is the equivalence operator, which means that it's used to compare if two objects are equal in value.<br/>\n",
    "`=` is the assignment operator, which means that it's used to store a value to a variable.\n",
    "\n",
    "The author of the above code has mixed up the two operators, resulting in an error when the code is run. The fixed code is as follow:\n",
    "\n",
    "```python\n",
    "eggs = 3\n",
    "if eggs == 5:\n",
    "    print(\"spam\")\n",
    "else:\n",
    "    print(\"not spam\")\n",
    "```"
   ]
  },
  {
   "cell_type": "markdown",
   "metadata": {},
   "source": [
    "### 5. Evaluate the following given the assignment `s = \"pythonisation\"`"
   ]
  },
  {
   "cell_type": "markdown",
   "metadata": {},
   "source": [
    "**(a) `s[1]`**\n",
    ">`\"p\"`"
   ]
  },
  {
   "cell_type": "markdown",
   "metadata": {},
   "source": [
    "**(b) `s[-1]`**\n",
    ">`\"n\"`"
   ]
  },
  {
   "cell_type": "markdown",
   "metadata": {},
   "source": [
    "**(c) `s[2:4] + s[6:8]`**\n",
    ">`\"this\"`"
   ]
  },
  {
   "cell_type": "markdown",
   "metadata": {},
   "source": [
    "**(d) `s[25]`**\n",
    ">`IndexError: string index out of range`"
   ]
  },
  {
   "cell_type": "markdown",
   "metadata": {},
   "source": [
    "**(e) `s[25:]`**\n",
    ">`\"\"`"
   ]
  },
  {
   "cell_type": "markdown",
   "metadata": {},
   "source": [
    "**(f) `s[-7:-3]`**\n",
    ">`\"isat\"`"
   ]
  },
  {
   "cell_type": "markdown",
   "metadata": {},
   "source": [
    "**(g) `s[:-3]`**\n",
    ">`\"pythonisat\"`"
   ]
  },
  {
   "cell_type": "markdown",
   "metadata": {},
   "source": [
    "**(h) `s[::2]`**\n",
    ">`\"ptoiain\"`"
   ]
  },
  {
   "cell_type": "markdown",
   "metadata": {},
   "source": [
    "**(i) `s[::-1]`**\n",
    ">`\"noitasinohtyp\"`"
   ]
  },
  {
   "cell_type": "markdown",
   "metadata": {},
   "source": [
    "### 6. What’s wrong with this code? How can you fix it?"
   ]
  },
  {
   "cell_type": "code",
   "execution_count": 17,
   "metadata": {},
   "outputs": [
    {
     "name": "stdout",
     "output_type": "stream",
     "text": [
      "Enter the second number: 6\n",
      "14\n",
      "The result is: None\n"
     ]
    }
   ],
   "source": [
    "def calc(n1, n2):\n",
    "    answer = n1 + (n1 * n2)\n",
    "    print(answer)\n",
    "\n",
    "num = int(input(\"Enter the second number: \"))\n",
    "result = calc(2, num)\n",
    "print(\"The result is:\", result)"
   ]
  },
  {
   "cell_type": "markdown",
   "metadata": {},
   "source": [
    "> The `calc()` function prints the answer instead of returning it, which means that the function will return `None`, which is stored in `result`.<br/>\n",
    "> A possible solution is as follows:"
   ]
  },
  {
   "cell_type": "code",
   "execution_count": 18,
   "metadata": {},
   "outputs": [
    {
     "name": "stdout",
     "output_type": "stream",
     "text": [
      "Enter the second number: 4\n",
      "The result is: 10\n"
     ]
    }
   ],
   "source": [
    "def calc(n1, n2):\n",
    "    answer = n1 + (n1 * n2)\n",
    "    return answer\n",
    "\n",
    "num = int(input(\"Enter the second number: \"))\n",
    "result = calc(2, num)\n",
    "print(\"The result is:\", result)"
   ]
  },
  {
   "cell_type": "markdown",
   "metadata": {},
   "source": [
    "## • Problems"
   ]
  },
  {
   "cell_type": "markdown",
   "metadata": {},
   "source": [
    "### 1. Write a program which asks the user for two numbers and an operator out of `+`, `-`, `/` and `*` and performs that operation on the two numbers, printing the result."
   ]
  },
  {
   "cell_type": "code",
   "execution_count": 19,
   "metadata": {},
   "outputs": [
    {
     "name": "stdout",
     "output_type": "stream",
     "text": [
      "Please enter a number: 2\n",
      "Please enter another number: 6\n",
      "Please enter an operator out of +, -, /, *: *\n",
      "2.0 * 6.0 = 12.0\n"
     ]
    }
   ],
   "source": [
    "# retrieve user input\n",
    "num1 = float(input(\"Please enter a number: \"))\n",
    "num2 = float(input(\"Please enter another number: \"))\n",
    "operator = input(\"Please enter an operator out of +, -, /, *: \")\n",
    "\n",
    "# print the result depending on what the operator is\n",
    "output_str = f\"{num1} {operator} {num2} = \"\n",
    "if operator == \"+\":\n",
    "    print(num1, operator, num2, \"=\", num1 + num2)\n",
    "elif operator == \"-\":\n",
    "    print(num1, operator, num2, \"=\", num1 - num2)\n",
    "elif operator == \"/\":\n",
    "    print(num1, operator, num2, \"=\", num1 / num2)\n",
    "elif operator == \"*\":\n",
    "    print(num1, operator, num2, \"=\", num1 * num2)\n",
    "else:\n",
    "    print(\"Invalid operator!\")"
   ]
  },
  {
   "cell_type": "markdown",
   "metadata": {},
   "source": [
    "### 2. Write a function which takes a string as a single argument, and returns a shortened version of the string consisting of its first three letters and then every second letter in the rest of the word."
   ]
  },
  {
   "cell_type": "code",
   "execution_count": 20,
   "metadata": {},
   "outputs": [
    {
     "name": "stdout",
     "output_type": "stream",
     "text": [
      "Enter any string: Barbara Ann\n",
      "BaraaAn\n"
     ]
    }
   ],
   "source": [
    "def shortened_word(user_string):\n",
    "    '''Takes a string as an argument and returns a shortened version of the string consisting of its first\n",
    "    three letters and then evert second letter in the rest of the word.'''\n",
    "\n",
    "    first_three = user_string[:3] # if you use user_string[0, 1, 2], a str with length < 3 will throw an error\n",
    "    every_second_letter_of_remainder = user_string[4::2] # <string>[4::2] means that you start at index = 4 and step over every elements\n",
    "\n",
    "    return first_three + every_second_letter_of_remainder\n",
    "\n",
    "\n",
    "# retrieve user input and call function \n",
    "user_string = input(\"Enter any string: \")\n",
    "print(shortened_word(user_string))"
   ]
  },
  {
   "cell_type": "markdown",
   "metadata": {},
   "source": [
    "### 3. Write a function which takes a sentence as a single argument (in the form of a string), and evaluates whether it is valid based on whether the first letter is capitalised and the last character is a full stop. Return a Boolean value `True` or `False`."
   ]
  },
  {
   "cell_type": "code",
   "execution_count": 22,
   "metadata": {},
   "outputs": [
    {
     "name": "stdout",
     "output_type": "stream",
     "text": [
      "Enter a sentence: T'is I, Egg McQueen.\n",
      "True\n"
     ]
    }
   ],
   "source": [
    "def valid_string(user_string):\n",
    "    '''Takes a sentence as an argument and returns True if the first letter is capitalised and the \n",
    "    last character is a full stop'''\n",
    "    \n",
    "    # look out for the empty string\n",
    "    if not user_string:\n",
    "        return False\n",
    "    \n",
    "    # verify conditions\n",
    "    first_letter_capitalised = user_string[0].isupper()\n",
    "    last_character_is_full_stop = user_string[-1] == '.'\n",
    "\n",
    "    return first_letter_capitalised and last_character_is_full_stop\n",
    "\n",
    "\n",
    "# retrieve user input and call function \n",
    "user_string = input(\"Enter a sentence: \")\n",
    "print(valid_string(user_string))"
   ]
  }
 ],
 "metadata": {
  "kernelspec": {
   "display_name": "Python 3",
   "language": "python",
   "name": "python3"
  },
  "language_info": {
   "codemirror_mode": {
    "name": "ipython",
    "version": 3
   },
   "file_extension": ".py",
   "mimetype": "text/x-python",
   "name": "python",
   "nbconvert_exporter": "python",
   "pygments_lexer": "ipython3",
   "version": "3.6.8"
  }
 },
 "nbformat": 4,
 "nbformat_minor": 2
}
