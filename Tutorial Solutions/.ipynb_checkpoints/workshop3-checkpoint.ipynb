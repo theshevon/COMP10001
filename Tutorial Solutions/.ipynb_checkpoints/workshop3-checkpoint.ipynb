{
 "cells": [
  {
   "cell_type": "markdown",
   "metadata": {},
   "source": [
    "# <center>Workshop 3 (Week 4)<center>"
   ]
  },
  {
   "cell_type": "markdown",
   "metadata": {},
   "source": [
    "## • Discussion"
   ]
  },
  {
   "cell_type": "markdown",
   "metadata": {},
   "source": [
    "### 1. What is “Boolean”? What values does it store? Can other types be converted to it?"
   ]
  },
  {
   "cell_type": "markdown",
   "metadata": {},
   "source": [
    "### 2. For each of the following, identify whether it is: (a) a Boolean value; (b) a relational operator; or (c) a logical operator."
   ]
  },
  {
   "cell_type": "markdown",
   "metadata": {},
   "source": [
    "### 3. How do we use an if statement? What are the variants? How do we know what is contained inside it and what is after?"
   ]
  },
  {
   "cell_type": "markdown",
   "metadata": {},
   "source": [
    "### 4. What is a “Sequence”? What sequences have we seen so far?"
   ]
  },
  {
   "cell_type": "markdown",
   "metadata": {},
   "source": [
    "### 5. What is indexing? How can you do it?"
   ]
  },
  {
   "cell_type": "markdown",
   "metadata": {},
   "source": [
    "### 6. What is slicing? How can you do it?"
   ]
  },
  {
   "cell_type": "markdown",
   "metadata": {},
   "source": [
    "### 7. Bonus question: How do you change the “step size” of a slice?"
   ]
  },
  {
   "cell_type": "markdown",
   "metadata": {},
   "source": [
    "### 8. What is a “function”? How do we call (use) one? How do we define one ourselves?"
   ]
  },
  {
   "cell_type": "markdown",
   "metadata": {},
   "source": [
    "### 10. Why are functions so useful? Could we live without functions?"
   ]
  },
  {
   "cell_type": "markdown",
   "metadata": {},
   "source": [
    "### 11. Why are brackets important when calling a function? Are they needed even if it takes no arguments?"
   ]
  },
  {
   "cell_type": "markdown",
   "metadata": {},
   "source": [
    "## • Exercises"
   ]
  },
  {
   "cell_type": "markdown",
   "metadata": {},
   "source": [
    "### 1. Evaluate the following truth expressions:"
   ]
  },
  {
   "cell_type": "markdown",
   "metadata": {},
   "source": [
    "**(a) True or False**\n",
    ">True"
   ]
  },
  {
   "cell_type": "markdown",
   "metadata": {},
   "source": [
    "**(b) True and False**\n",
    ">False"
   ]
  },
  {
   "cell_type": "markdown",
   "metadata": {},
   "source": [
    "**(c) False and not False or True**\n",
    ">True"
   ]
  },
  {
   "cell_type": "markdown",
   "metadata": {},
   "source": [
    "**(d) False and (not False or True)**\n",
    ">False"
   ]
  },
  {
   "cell_type": "markdown",
   "metadata": {},
   "source": [
    "### 2. For each of the following if statements, give an example of a value for var which will trigger it and one which will not."
   ]
  },
  {
   "cell_type": "markdown",
   "metadata": {},
   "source": [
    "**(a) `if 10 > var >= 5:`**\n",
    ">Will trigger: `7`,<br/>Won't trigger: `1`"
   ]
  },
  {
   "cell_type": "markdown",
   "metadata": {},
   "source": [
    "**(b) `if var in [\"VIC\", \"NSW\", \"ACT\"]:`**\n",
    ">Will trigger: `\"VIC\"`,<br/>Won't trigger: `\"QLD\"`"
   ]
  },
  {
   "cell_type": "markdown",
   "metadata": {},
   "source": [
    "**(c) `if var[0] == \"A\"and var[-1] == \"e\":`**\n",
    ">Will trigger: `\"Apple\"`,<br/>Won't trigger: `\"Orange\"`"
   ]
  },
  {
   "cell_type": "markdown",
   "metadata": {},
   "source": [
    "**(d) `if var:`**\n",
    ">Will trigger: _var_ just needs to be anything that will return `True` when typecasted into a `bool`. eg. `\"Gabriella Montez\"`, `1`, `2.0`, `True`, `[1,2,3]`, `(\"milk\", \"bread\")`<br/><br/>\n",
    "Won't trigger: _var_ just needs to be anything that will return `False` when typecasted into a `bool`. eg. `\"\"`, `0`, `0.0`, `False`, `[]`, `()`"
   ]
  },
  {
   "cell_type": "markdown",
   "metadata": {},
   "source": [
    "### 3. What’s wrong with this code? How can you fix it?"
   ]
  },
  {
   "cell_type": "markdown",
   "metadata": {},
   "source": [
    "_**Note:** This question assumes that the user's input will always be a single, lower-case alphabetical character._"
   ]
  },
  {
   "cell_type": "markdown",
   "metadata": {},
   "source": [
    "```python\n",
    "letter = input(\"Enter a letter: \")\n",
    "if letter == 'a' or 'e' or 'i' or 'o' or 'u':\n",
    "    print(\"vowel\")\n",
    "else:\n",
    "    print(\"consonant\")\n",
    "```"
   ]
  },
  {
   "cell_type": "markdown",
   "metadata": {},
   "source": [
    "The way python interprets this line is:\n",
    "\n",
    "```python\n",
    "elif bool(letter == 'a') or bool('e') or bool('i') or bool('o') or bool('u'):\n",
    "```\n",
    "\n",
    "Now, let's have a look at how `bool()` works with different strings:"
   ]
  },
  {
   "cell_type": "code",
   "execution_count": 3,
   "metadata": {},
   "outputs": [
    {
     "name": "stdout",
     "output_type": "stream",
     "text": [
      "False\n",
      "True\n"
     ]
    }
   ],
   "source": [
    "# with an empty string\n",
    "print(bool(\"\"))\n",
    "# with a non-empty string\n",
    "print(bool(\"this is a non-empty string\"))"
   ]
  },
  {
   "cell_type": "markdown",
   "metadata": {},
   "source": [
    "So what's happening is that since `bool('e')`, `bool('i')`, `bool('o')` and `bool('u')` evaluate to `True` and since an `or` operator only requires **one** of it's operands to be `True` for the whole condition to be `True`, this branch **always** gets executed.\n",
    "\n",
    "The following are some of the ways you could possible fix it:"
   ]
  },
  {
   "cell_type": "markdown",
   "metadata": {},
   "source": [
    "```python\n",
    "# method 1\n",
    "letter = input(\"Enter a letter: \")\n",
    "if letter in 'a' or 'e' or 'i' or 'o' or 'u':\n",
    "    print(\"vowel\")\n",
    "else:\n",
    "    print(\"consonant\")\n",
    "    \n",
    "# method 2\n",
    "letter = input(\"Enter a letter: \")\n",
    "if letter in 'aeiou':\n",
    "    print(\"vowel\")\n",
    "else:\n",
    "    print(\"consonant\")\n",
    "    \n",
    "# method 3\n",
    "letter = input(\"Enter a letter: \")\n",
    "if letter in ['a', 'e', 'i', 'o', 'u']:\n",
    "    print(\"vowel\")\n",
    "else:\n",
    "    print(\"consonant\")\n",
    "```"
   ]
  },
  {
   "cell_type": "markdown",
   "metadata": {},
   "source": [
    "### 4. What’s wrong with this code? How can you fix it?"
   ]
  },
  {
   "cell_type": "markdown",
   "metadata": {},
   "source": [
    "```python\n",
    "eggs == 3\n",
    "if eggs = 5:\n",
    "    print(\"spam\")\n",
    "else:\n",
    "    print(\"not spam\")\n",
    "```"
   ]
  },
  {
   "cell_type": "markdown",
   "metadata": {},
   "source": [
    "`==` is the equivalence operator, which means that it's used to compare if two objects are equal in value.<br/>\n",
    "`=` is the assignment operator, which means that it's used to store a value to a variable.\n",
    "\n",
    "The author of the above code has mixed up the two operators, resulting in an error when the code is run. The fixed code is as follow:\n",
    "\n",
    "```python\n",
    "eggs = 3\n",
    "if eggs == 5:\n",
    "    print(\"spam\")\n",
    "else:\n",
    "    print(\"not spam\")\n",
    "```"
   ]
  },
  {
   "cell_type": "markdown",
   "metadata": {},
   "source": [
    "### 5. Evaluate the following given the assignment `s = \"pythonisation\"`"
   ]
  },
  {
   "cell_type": "markdown",
   "metadata": {},
   "source": [
    "**(a) `s[1]`**\n",
    ">`\"p\"`"
   ]
  },
  {
   "cell_type": "markdown",
   "metadata": {},
   "source": [
    "**(b) `s[-1]`**\n",
    ">`\"n\"`"
   ]
  },
  {
   "cell_type": "markdown",
   "metadata": {},
   "source": [
    "**(c) `s[2:4] + s[6:8]`**\n",
    ">`\"this\"`"
   ]
  },
  {
   "cell_type": "markdown",
   "metadata": {},
   "source": [
    "**(d) `s[25]`**\n",
    ">`IndexError: string index out of range`"
   ]
  },
  {
   "cell_type": "markdown",
   "metadata": {},
   "source": [
    "**(e) `s[25:]`**\n",
    ">`\"\"`"
   ]
  },
  {
   "cell_type": "markdown",
   "metadata": {},
   "source": [
    "**(f) `s[-7:-3]`**\n",
    ">`\"isat\"`"
   ]
  },
  {
   "cell_type": "markdown",
   "metadata": {},
   "source": [
    "**(g) `s[:-3]`**\n",
    ">`\"pythonisat\"`"
   ]
  },
  {
   "cell_type": "markdown",
   "metadata": {},
   "source": [
    "**(h) `s[::2]`**\n",
    ">`\"ptoiain\"`"
   ]
  },
  {
   "cell_type": "markdown",
   "metadata": {},
   "source": [
    "**(i) `s[::-1]`**\n",
    ">`\"noitasinohtyp\"`"
   ]
  },
  {
   "cell_type": "markdown",
   "metadata": {},
   "source": [
    "### 6. What’s wrong with this code? How can you fix it?\n",
    "\n",
    "```python\n",
    "def calc(n1, n2):\n",
    "    answer = n1 + (n1 * n2)\n",
    "    print(answer)\n",
    "    num = int(input(\"Enter the second number: \"))\n",
    "    result = calc(2, num)\n",
    "    print(\"The result is:\", result)\n",
    "```"
   ]
  },
  {
   "cell_type": "markdown",
   "metadata": {},
   "source": [
    "## • Problems"
   ]
  },
  {
   "cell_type": "markdown",
   "metadata": {},
   "source": [
    "### 1. Write a program which asks the user for two numbers and an operator out of +, -, / and * and performs that operation on the two numbers, printing the result."
   ]
  },
  {
   "cell_type": "code",
   "execution_count": 8,
   "metadata": {},
   "outputs": [
    {
     "name": "stdout",
     "output_type": "stream",
     "text": [
      "Please enter a number: 1\n",
      "Please enter another number: 2\n",
      "Please enter an operator out of +, -, /, *: +\n",
      "1.0 + 2.0 = 3.0\n"
     ]
    }
   ],
   "source": [
    "# retrieve user input\n",
    "num1 = float(input(\"Please enter a number: \"))\n",
    "num2 = float(input(\"Please enter another number: \"))\n",
    "operator = input(\"Please enter an operator out of +, -, /, *: \")\n",
    "\n",
    "# print the result depending on what the operator is\n",
    "output_str = f\"{num1} {operator} {num2} = \"\n",
    "if operator == \"+\":\n",
    "    print(num1, operator, num2, \"=\", num1 + num2)\n",
    "elif operator == \"-\":\n",
    "    print(num1, operator, num2, \"=\", num1 - num2)\n",
    "elif operator == \"/\":\n",
    "    print(num1, operator, num2, \"=\", num1 / num2)\n",
    "elif operator == \"*\":\n",
    "    print(num1, operator, num2, \"=\", num1 * num2)\n",
    "else:\n",
    "    print(\"Invalid operator!\")"
   ]
  },
  {
   "cell_type": "markdown",
   "metadata": {},
   "source": [
    "### 2. Write a function which takes a string as a single argument, and returns a shortened version of the string consisting of its first three letters and then every second letter in the rest of the word."
   ]
  },
  {
   "cell_type": "code",
   "execution_count": 13,
   "metadata": {},
   "outputs": [
    {
     "name": "stdout",
     "output_type": "stream",
     "text": [
      "Enter any string: hello\n",
      "helo\n"
     ]
    }
   ],
   "source": [
    "def shortened_word(user_string):\n",
    "    '''Takes a string as an argument and returns a shortened version of the string consisting of its first\n",
    "    three letters and then evert second letter in the rest of the word.'''\n",
    "\n",
    "    first_three = user_string[:3] # if you use user_string[0, 1, 2], a str with length < 3 will throw an error\n",
    "    every_second_letter_of_remainder = user_string[4::2] # <string>[4::2] means that you start at index = 4 and step over every elements\n",
    "\n",
    "    return first_three + every_second_letter_of_remainder\n",
    "\n",
    "\n",
    "# retrieve user input and call function \n",
    "user_string = input(\"Enter any string: \")\n",
    "print(shortened_word(user_string))"
   ]
  },
  {
   "cell_type": "markdown",
   "metadata": {},
   "source": [
    "### 3. Write a function which takes a sentence as a single argument (in the form of a string), and evaluates whether it is valid based on whether the first letter is capitalised and the last character is a full stop. Return a Boolean value True or False."
   ]
  },
  {
   "cell_type": "code",
   "execution_count": 17,
   "metadata": {},
   "outputs": [
    {
     "name": "stdout",
     "output_type": "stream",
     "text": [
      "Enter a sentence: \"\"\n",
      "False\n"
     ]
    }
   ],
   "source": [
    "def valid_string(user_string):\n",
    "    '''Takes a sentence as an argument and returns True if the first letter is capitalised and the \n",
    "    last character is a full stop'''\n",
    "    \n",
    "    # look out for the empty string\n",
    "    if not user_string:\n",
    "        return False\n",
    "    \n",
    "    # verify conditions\n",
    "    first_letter_capitalised = user_string[0].isupper()\n",
    "    last_character_is_full_stop = user_string[-1] == '.'\n",
    "\n",
    "    return first_letter_capitalised and last_character_is_full_stop\n",
    "\n",
    "\n",
    "# retrieve user input and call function \n",
    "user_string = input(\"Enter a sentence: \")\n",
    "print(valid_string(user_string))"
   ]
  }
 ],
 "metadata": {
  "kernelspec": {
   "display_name": "Python 3",
   "language": "python",
   "name": "python3"
  },
  "language_info": {
   "codemirror_mode": {
    "name": "ipython",
    "version": 3
   },
   "file_extension": ".py",
   "mimetype": "text/x-python",
   "name": "python",
   "nbconvert_exporter": "python",
   "pygments_lexer": "ipython3",
   "version": "3.6.8"
  }
 },
 "nbformat": 4,
 "nbformat_minor": 2
}
