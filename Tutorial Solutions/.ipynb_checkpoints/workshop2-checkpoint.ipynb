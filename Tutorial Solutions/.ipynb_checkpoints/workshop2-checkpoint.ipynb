{
 "cells": [
  {
   "cell_type": "markdown",
   "metadata": {},
   "source": [
    "# <center>Workshop 2 (Week 3)<center>"
   ]
  },
  {
   "cell_type": "markdown",
   "metadata": {},
   "source": [
    "## • Discussion"
   ]
  },
  {
   "cell_type": "markdown",
   "metadata": {},
   "source": [
    "### 1. What is a “data type”? Can the data type of an object change?"
   ]
  },
  {
   "cell_type": "markdown",
   "metadata": {},
   "source": [
    "> Classification of data that allows a compiler/ interpreter to determine how to store and process the data, and defines what the programmer can do with it.<br/>\n",
    "Data types are permanent when you create the object, but you can convert objects from one data type to another\n",
    "using appropriate functions."
   ]
  },
  {
   "cell_type": "markdown",
   "metadata": {},
   "source": [
    "### 2. As a class, fill in the below table with the data types we have studied so far. What is the difference between the second and third type, both being numerical?"
   ]
  },
  {
   "cell_type": "markdown",
   "metadata": {},
   "source": [
    "> **Primitive (basic) data types:**\n",
    "<br/>\n",
    "<br/>\n",
    "- `str`<br/><br/>\n",
    "    - Stores a sequence of characters (ie. text)\n",
    "        - eg. `\"LA Lakers\"`, `\"finder.com.au\"`, `\"pa55w0rd\"`\n",
    "    - Can be defined using single quotes `''` or double quotes `\"\"`\n",
    "        - If you've defined your string using double quotes, and want to use double quotes within the string itself, you can escape it using the escape character `\\`, which tells python to ignore the normal (or special) function of the character right after it .\n",
    "            - eg. `quote = \"and then the murderer exclaimed, \\\"What, you egg?\\\"\"`\n",
    "            - ↑ Vice versa for strings defined using single quotes\n",
    "        - I've written a more detailed example [here](https://unimelb-comp10001-2020-s1.discourse.groklearning.io/t/grok-week6-5th-intro-about-fstring/1239/3?u=tutor_mendiss).\n",
    "    - Some things we could do with it:\n",
    "        - `len()`\n",
    "        - `input()`\n",
    "        - String slicing\n",
    "        - Indexing\n",
    "        - Changing case\n",
    "    - How do we convert to it?\n",
    "        - `str()`\n",
    "<br/>\n",
    "<br/>\n",
    "- `int`<br/><br/>\n",
    "    - An integer (ie. a whole number)\n",
    "        - eg. `1`, `-2`\n",
    "    - Some things we could do with it:\n",
    "        - Arithmetic operations\n",
    "        - Counting\n",
    "        - Indexing\n",
    "        - String slicing\n",
    "    - How do we convert to it\n",
    "        - `int()`\n",
    "            - With `str`s: returns an `int` if the string contain **only** digits\n",
    "                - `int(\"5\")` → `5`\n",
    "                - `int(\"5.0\")` → `ValueError`\n",
    "                - `int(\"hullo\")` → `ValueError` \n",
    "            - With `int`s: stays the same\n",
    "            - With `float`s: gets rounded down\n",
    "                - `int(5.5)` → `5`\n",
    "            - With `bool`s:\n",
    "                - `int(True)` → `1`\n",
    "                - `int(False)` → `0`<br/>\n",
    "<br/>\n",
    "<br/>     \n",
    "- `float`<br/><br/>\n",
    "    - A real number (ie. a number that contains decimals/ fractional components)\n",
    "        - eg. `3.14159`, `-11.0`\n",
    "    - Some things we could do with it:\n",
    "        - Arithmetic operations\n",
    "        - Real world measurements\n",
    "    - How do we convert to it?\n",
    "        - `float()`\n",
    "            - With `str`s: returns a `float` if the `str` contains **only** digits and up to **one** period (decimal)\n",
    "                - `float(\"5\")` → `5.0`\n",
    "                - `float(\"5.0\")` → `5.0`\n",
    "                - `float(\"5.4.2\")` → `ValueError`\n",
    "                - `float(\"hullo\")` → `ValueError` \n",
    "            - With `int`s: gets a decimal added to it\n",
    "                - `float(5)` → `5.0`\n",
    "            - With `float`s: stays the same\n",
    "            - With `bool`s:\n",
    "                - `float(True)` → `1.0`\n",
    "                - `float(False)` → `0.0`<br/>   \n",
    "<br/>\n",
    "<br/>\n",
    "- `bool`<br/><br/>\n",
    "    - A truth value (ie. `True` or `False`)\n",
    "    - Some things we could do with it:\n",
    "        - Evaluate results of tests\n",
    "        - Determine which branch to use in a conditional statement\n",
    "        - Determine if a loop should continue\n",
    "    - How do we convert to it?\n",
    "        - `bool()`\n",
    "            - With `str`s: returns `False` if the string is empty; `True` otherwise\n",
    "                - `bool(\"\")` → `False`\n",
    "                - `bool(\"anything else\")` → `True`\n",
    "            - With `int`s: returns `False` with `0`; `True` otherwise\n",
    "                - `bool(0)` → `False`\n",
    "                - `bool(8)` → `True`\n",
    "                - `bool(-3)` → `True` \n",
    "            - With `float`s: returns `False` with `0`; `True` otherwise\n",
    "                - `bool(0.0)` → `False`\n",
    "                - `bool(8.0)` → `True`\n",
    "                - `bool(-3.0)` → `True` \n",
    "            - With `bool`s: stays the same"
   ]
  },
  {
   "cell_type": "markdown",
   "metadata": {},
   "source": [
    "### 3. What is an “operator”? Which operators have we learned so far and what do they do?"
   ]
  },
  {
   "cell_type": "markdown",
   "metadata": {},
   "source": [
    "> An operator is a symbol used between two values which calculates some result. <br/><br/>\n",
    "Operators we've seen so far:\n",
    "<br/>\n",
    "- `+` : **Addition**\n",
    "    - Can be used with:\n",
    "        - `int` \n",
    "            - eg.`2 + 2` → `4`\n",
    "        - `float` \n",
    "            - eg.`4.0 - 3.0` → `1.0`  #quick_maths\n",
    "        - `str` (concatenation) \n",
    "            - eg.`\"hello \" + \"world\"` → `\"hello world\"`\n",
    "        - `bool` \n",
    "            - eg.`True + True` → `2`\n",
    "    - If at least one of the data type of one of the values is a float, then the data type of the result will also be a float\n",
    "<br/>\n",
    "<br/>\n",
    "- `-` : **Subtraction**\n",
    "    - Can be used with:\n",
    "       - Same as addition, except can't be used with `str`\n",
    "<br/>\n",
    "<br/>\n",
    "- `*` : **Multiplication**\n",
    "    - Can be used with:\n",
    "       - `int` \n",
    "           - `7 * 4` → `28`\n",
    "       - `float` \n",
    "           - `12.0 * 4` → `48.0`\n",
    "       - `bool` \n",
    "           - `True * False` → `0`\n",
    "       - `string` \n",
    "           - `\"ha\" * 3` → `\"hahaha\"\n",
    "           - This only works if one of the operands is a `str` and the other is an `int`.\n",
    "               - `\"ha\" * 3.5` → `TypeError`\n",
    "<br/>\n",
    "<br/>\n",
    "- `/` : **Division**\n",
    "    - Can be used with:\n",
    "       - `int` \n",
    "           - `4 / 2` → `2.0`\n",
    "       - `float` \n",
    "           - `4.0 / 4.0` → `1.0`\n",
    "<br/>\n",
    "<br/>\n",
    "- `%` : **Modulo**\n",
    "    - Divides the first value by the second and returns the remainder\n",
    "    - Can be used with:\n",
    "        - `int` \n",
    "            - `4 % 3` → `1`\n",
    "            - `4 % 7` → `4`\n",
    "        - `float`\n",
    "            - `4.0 % 3.0` → `1.0`\n",
    "<br/>\n",
    "<br/>\n",
    "- `//` : **Integer/ Floor Division** \n",
    "    - Divides the first value by the second, rounds down the result and returns it\n",
    "    - Can be used with:\n",
    "       - `int`\n",
    "           - `5 // 3` → `1`\n",
    "       - `float`\n",
    "           - `13.0 // 6.0` → `2.0`\n",
    "<br/>\n",
    "<br/>\n",
    "- `**` : **Exponential** \n",
    "    - Can be used with:\n",
    "       - `int`\n",
    "           - `5 ** 3` → `125`\n",
    "       - `float` \n",
    "           - `5.2 ** 2.3` → `44.34122533787991`\n",
    "       - `bool`\n",
    "           - `True ** 2` → `1` \n",
    "\n",
    "\n",
    "> **Note:** \n",
    "- With every operator, if at least one operand is a `float`, then the result will be a `float` (this doesn't apply for division, `/`, as the result will **always** be a `float`)\n",
    "- Python follows the BODMAS/ BIDMAS/ PEMDAS order of operations"
   ]
  },
  {
   "cell_type": "markdown",
   "metadata": {},
   "source": [
    "### 4. What is “operator overloading”? What is the difference between using + with numerical types and strings/sequences?"
   ]
  },
  {
   "cell_type": "markdown",
   "metadata": {},
   "source": [
    "> It means that the operator can work with multiple data types. However, its behaviour may vary between different data types. eg. With numeric types, `+` results in addition, but with `str`s, it results in concatentation (ie. the \"sticking\" of multiple `str`s together)"
   ]
  },
  {
   "cell_type": "markdown",
   "metadata": {},
   "source": [
    "### 5. What is a “variable”? How do we use variables and why are they helpful?"
   ]
  },
  {
   "cell_type": "markdown",
   "metadata": {},
   "source": [
    ">A variable is a place in the computer’s internal memory where a value can be stored. A name, or _identifier_, is used to access a variable. Created by declaration, their value is controlled with the assignment operator `=`. <br/>\n",
    ">Variables are useful because we can refer back to the same value more easily, using a name which we can associate with its meaning. They are easy to update and use in calculations."
   ]
  },
  {
   "cell_type": "markdown",
   "metadata": {},
   "source": [
    "### 6. How does the input() function work?"
   ]
  },
  {
   "cell_type": "markdown",
   "metadata": {},
   "source": [
    ">`input()` takes a string prompt as argument. When run, it displays that prompt to the user and lets them enter something, which is then returned to the calling function as a string. (_calling function_ here refers to the part of the program calls `input()`). "
   ]
  },
  {
   "cell_type": "markdown",
   "metadata": {},
   "source": [
    "### 7. What is a literal?"
   ]
  },
  {
   "cell_type": "markdown",
   "metadata": {},
   "source": [
    ">A literal is a value typed directly into a program (by the programmer), rather than one referenced by a variable."
   ]
  },
  {
   "cell_type": "code",
   "execution_count": 1,
   "metadata": {},
   "outputs": [
    {
     "name": "stdout",
     "output_type": "stream",
     "text": [
      "Please enter your last name: Wonka\n"
     ]
    }
   ],
   "source": [
    "last_name = \"bolton\" # this is a literal\n",
    "last_name = input(\"Please enter your last name: \") # this is not"
   ]
  },
  {
   "cell_type": "markdown",
   "metadata": {},
   "source": [
    "### 8. Why does 0.1+0.1+0.1+0.1+0.1+0.1+0.1+0.1+0.1+0.1 equal 0.9999999999999999 and not 1.0?"
   ]
  },
  {
   "cell_type": "code",
   "execution_count": 2,
   "metadata": {},
   "outputs": [
    {
     "name": "stdout",
     "output_type": "stream",
     "text": [
      "0.9999999999999999\n"
     ]
    }
   ],
   "source": [
    "print(0.1+0.1+0.1+0.1+0.1+0.1+0.1+0.1+0.1+0.1)"
   ]
  },
  {
   "cell_type": "markdown",
   "metadata": {},
   "source": [
    ">Floating point numbers can store only a finite amount of precision and so, sometimes the way the computer stores decimal values can lead to inaccurate results on calculation. \n",
    ">\n",
    ">This [article](https://www.electronics-tutorials.ws/binary/bin_2.html) provides a simple explanation on how you can convert from a decimal (ie. base 10) system to a binary (ie. base 2) system.\n",
    ">\n",
    ">It's interesting to note that `1.0` by itself can be accurately represented as 1.0 = 2^0. However, as `0.1` **can't** be accurately represented, the imprecision keeps adding up as you make more and more calculations with it. If you run the next code block, you'll see what I mean."
   ]
  },
  {
   "cell_type": "code",
   "execution_count": 3,
   "metadata": {},
   "outputs": [
    {
     "name": "stdout",
     "output_type": "stream",
     "text": [
      "0.1\n",
      "0.2\n",
      "0.30000000000000004\n",
      "0.4\n",
      "0.5\n",
      "0.6\n",
      "0.7\n",
      "0.7999999999999999\n",
      "0.8999999999999999\n",
      "0.9999999999999999\n"
     ]
    }
   ],
   "source": [
    "# let's see what happens when we incrementally add 0.1 10 times\n",
    "num = 0\n",
    "for i in range(10):\n",
    "    num += 0.1\n",
    "    print(num)"
   ]
  },
  {
   "cell_type": "markdown",
   "metadata": {},
   "source": [
    ">If you’re interested in digging deeper into this topic, the following articles may prove to be a worthwhile read.<br/> **Disclaimer**: Some of the information in the following articles (mainly the second one) is out of scope for this subject, so you will not be expected to know about floating point imprecision to the level of detail expressed in them:\n",
    "- [Floating point error in Python](https://www.geeksforgeeks.org/floating-point-error-in-python/)\n",
    "- [Integer Overflow/Underflow and Floating Point Imprecision](https://medium.com/@taabishm2/integer-overflow-underflow-and-floating-point-imprecision-6ba869a99033)"
   ]
  },
  {
   "cell_type": "markdown",
   "metadata": {},
   "source": [
    "## • Exercises"
   ]
  },
  {
   "cell_type": "markdown",
   "metadata": {},
   "source": [
    "### **1. Look at the following customer data form, and decide which data types (str, int, float, or bool) should be used to store each field.**"
   ]
  },
  {
   "cell_type": "markdown",
   "metadata": {},
   "source": [
    "- **Name:** \n",
    ">`str`"
   ]
  },
  {
   "cell_type": "markdown",
   "metadata": {},
   "source": [
    "- **Customer ID:**\n",
    ">`str` or `int`\n",
    ">\n",
    ">Note: While it might _seem_ like an `int` is the best option here, storing IDs as `str`s would be better. \n",
    "This is because most IDs are alphanumeric, which means that they can't be stored in an `int` to begin with. \n",
    "However, even if we know that the IDs would be purely made up of digits, it's important to realise that the leading 0s matter as it is part of the ID. \n",
    ">\n",
    ">For instance, if we try to store 001 as an `int`, we end up losing these leading 0s. Try running the following block and entering \"001\" as the input:"
   ]
  },
  {
   "cell_type": "code",
   "execution_count": 4,
   "metadata": {},
   "outputs": [
    {
     "name": "stdout",
     "output_type": "stream",
     "text": [
      "Enter an ID: 001\n",
      "1\n"
     ]
    }
   ],
   "source": [
    "id = int(input(\"Enter an ID: \"))\n",
    "print(id)"
   ]
  },
  {
   "cell_type": "markdown",
   "metadata": {},
   "source": [
    ">However, by storing the ID as a `str`, we preserve these leading 0s."
   ]
  },
  {
   "cell_type": "code",
   "execution_count": 5,
   "metadata": {},
   "outputs": [
    {
     "name": "stdout",
     "output_type": "stream",
     "text": [
      "Enter an ID: 001\n",
      "001\n"
     ]
    }
   ],
   "source": [
    "id = input(\"Enter an ID: \")\n",
    "print(id)"
   ]
  },
  {
   "cell_type": "markdown",
   "metadata": {},
   "source": [
    ">It's for this reason that telephone numbers are stored as `str`s."
   ]
  },
  {
   "cell_type": "markdown",
   "metadata": {},
   "source": [
    "- **Address:**\n",
    ">`str`"
   ]
  },
  {
   "cell_type": "markdown",
   "metadata": {},
   "source": [
    "- **Postcode:** \n",
    ">`str` or `int` (Some postcodes, like those in the UK, contain letters as well) <br/>"
   ]
  },
  {
   "cell_type": "markdown",
   "metadata": {},
   "source": [
    "- **Do you own or rent?** \n",
    ">`str` as the question requires you to select between one of the options provided in the question itself.<br/>\n",
    ">However, if the question was _**Do you rent?**_ instead, then a `bool` would be more appropriate <br/>"
   ]
  },
  {
   "cell_type": "markdown",
   "metadata": {},
   "source": [
    "- **Length of bench top:** \n",
    ">`float`"
   ]
  },
  {
   "cell_type": "markdown",
   "metadata": {},
   "source": [
    "- **Width of bench top:** \n",
    ">`float` "
   ]
  },
  {
   "cell_type": "markdown",
   "metadata": {},
   "source": [
    "- **Are you interested in further offers?** \n",
    ">`bool`"
   ]
  },
  {
   "cell_type": "markdown",
   "metadata": {},
   "source": [
    "### **2. Evaluate the following:**"
   ]
  },
  {
   "cell_type": "markdown",
   "metadata": {},
   "source": [
    "**(a) `str(3 + 4) + \"cakes\"`**\n",
    "> `\"7cakes\"`"
   ]
  },
  {
   "cell_type": "markdown",
   "metadata": {},
   "source": [
    "**(b) `int(5 / 2)`**\n",
    ">`2`\n",
    ">\n",
    ">Explanation: `int(5/2)` → `int(2.5)` → `2`"
   ]
  },
  {
   "cell_type": "markdown",
   "metadata": {},
   "source": [
    "**(c) `float(\"357\"+ \".\"+ \"23\")`**\n",
    ">`357.23`\n",
    ">\n",
    ">Explanation: `float(\"357\"+ \".\"+ \"23\")` → `float(\"357.23\")` → `357.23`"
   ]
  },
  {
   "cell_type": "markdown",
   "metadata": {},
   "source": [
    "**(d) `bool(\"anything\")`**\n",
    ">`True`"
   ]
  },
  {
   "cell_type": "markdown",
   "metadata": {},
   "source": [
    "### **3. What is the output of the following? Why?**"
   ]
  },
  {
   "cell_type": "markdown",
   "metadata": {},
   "source": [
    "**(a) `123 + 123`**\n",
    ">`246`"
   ]
  },
  {
   "cell_type": "markdown",
   "metadata": {},
   "source": [
    "**(b) `\"123\" + \"123\"`**\n",
    ">`\"123123\"`"
   ]
  },
  {
   "cell_type": "markdown",
   "metadata": {},
   "source": [
    "**(c) `\"123\" + 123`**\n",
    ">`TypeError: can only concatenate str (not \"int\") to str`<br/>"
   ]
  },
  {
   "cell_type": "markdown",
   "metadata": {},
   "source": [
    "**(d) `3 * 4`**\n",
    ">`12`"
   ]
  },
  {
   "cell_type": "markdown",
   "metadata": {},
   "source": [
    "**(e) `\"3\" * 4`**\n",
    ">`\"3333\"`"
   ]
  },
  {
   "cell_type": "markdown",
   "metadata": {},
   "source": [
    "**(f) `\"3\" * \"4\"`**\n",
    ">`TypeError: can't multiply sequence by non-int of type 'str'`"
   ]
  },
  {
   "cell_type": "markdown",
   "metadata": {},
   "source": [
    "### **4. Evaluate the following given the assignments a = 1, b = 2, c = 2.0:**"
   ]
  },
  {
   "cell_type": "markdown",
   "metadata": {},
   "source": [
    "**(a) `a / a`**\n",
    ">`1.0`"
   ]
  },
  {
   "cell_type": "markdown",
   "metadata": {},
   "source": [
    "**(b) `b + b`**\n",
    ">`4`"
   ]
  },
  {
   "cell_type": "markdown",
   "metadata": {},
   "source": [
    "**(c) `b + c`**\n",
    ">`4.0`"
   ]
  },
  {
   "cell_type": "markdown",
   "metadata": {},
   "source": [
    "**(d) `a / b`**\n",
    ">`0.5`"
   ]
  },
  {
   "cell_type": "markdown",
   "metadata": {},
   "source": [
    "**(e) `a // b`**\n",
    ">`0`"
   ]
  },
  {
   "cell_type": "markdown",
   "metadata": {},
   "source": [
    "**(f) `a % b`**\n",
    ">`1`"
   ]
  },
  {
   "cell_type": "markdown",
   "metadata": {},
   "source": [
    "**(g) `a + b / c`**\n",
    ">`2.0`"
   ]
  },
  {
   "cell_type": "markdown",
   "metadata": {},
   "source": [
    "**(h) `(a + b) / c`**\n",
    ">`1.5`"
   ]
  },
  {
   "cell_type": "markdown",
   "metadata": {},
   "source": [
    "## • Problems"
   ]
  },
  {
   "cell_type": "markdown",
   "metadata": {},
   "source": [
    "### **1. Write a program which asks the user for their age and calculates the year in which they were born. There will be two possibilities since you haven’t asked for their birth date, so print both.**"
   ]
  },
  {
   "cell_type": "markdown",
   "metadata": {},
   "source": [
    "_Suppose Wheez Khalifa (different from the famous American actor, Wiz Khalifa) was born on March 23rd, 1998. If he runs this program before the 23rd of March this \n",
    "year, he'd enter 21 as his age and the program would print_ `1999`_. However, if he ran the program after his \n",
    "birthday, he'd enter 22 as his age and the program would print_ `1998`_. Hence, to circumvent this issue, we're\n",
    "going to write a program that will print both possibilities._"
   ]
  },
  {
   "cell_type": "code",
   "execution_count": 6,
   "metadata": {},
   "outputs": [
    {
     "name": "stdout",
     "output_type": "stream",
     "text": [
      "How old are you? 21\n",
      "You were born in 1999 or 1998\n"
     ]
    }
   ],
   "source": [
    "CURRENT_YEAR = 2020 # Note: it's a programming convention to write constants in uppercase\n",
    "\n",
    "# prompt user to enter required data\n",
    "age  = int(input(\"How old are you? \"))\n",
    "\n",
    "# possible birth year\n",
    "birth_year_1 = CURRENT_YEAR - age \n",
    "\n",
    "# another possible birth year\n",
    "birth_year_2 = birth_year_1 - 1\n",
    "\n",
    "print(\"You were born in\", birth_year_1, \"or\", birth_year_2)"
   ]
  },
  {
   "cell_type": "markdown",
   "metadata": {},
   "source": [
    "### **2. Write a program which asks the user for two numbers and multiplies them together, printing the equation in the form 1 * 2 = 2 for the case of 1 and 2.**"
   ]
  },
  {
   "cell_type": "code",
   "execution_count": 7,
   "metadata": {},
   "outputs": [
    {
     "name": "stdout",
     "output_type": "stream",
     "text": [
      "Enter a number: 3\n",
      "Enter another number: 4\n",
      "3.0 * 4.0 = 12.0\n"
     ]
    }
   ],
   "source": [
    "# prompt user to enter required data\n",
    "num1 = float(input(\"Enter a number: \"))\n",
    "num2 = float(input(\"Enter another number: \"))\n",
    "\n",
    "# calculate the result\n",
    "result = num1 * num2\n",
    "\n",
    "print(num1, \"*\", num2, \"=\", result)\n",
    "\n",
    "# alt #1: without commas\n",
    "# print(str(num1) + \" * \" + str(num2) + \" = \" + str(result))\n",
    "\n",
    "# alt #2: with f-strings\n",
    "# print(f\"{num1} + {num2} = {result}\")"
   ]
  },
  {
   "cell_type": "markdown",
   "metadata": {},
   "source": [
    "### **3. Write a program which asks the user for a temperature in degrees Fahrenheit and prints the corresponding value in Celsius. <br /> The conversion formula is below:**\n",
    "\n",
    "### $ C = \\frac{F - 32}{1.8} $"
   ]
  },
  {
   "cell_type": "code",
   "execution_count": 8,
   "metadata": {},
   "outputs": [
    {
     "name": "stdout",
     "output_type": "stream",
     "text": [
      "Enter a temperature in Fahrenheit: 200\n",
      "200.0°F converts to 93.33333333333333°C\n"
     ]
    }
   ],
   "source": [
    "# prompt user to enter required data\n",
    "temp_in_F = float(input(\"Enter a temperature in Fahrenheit: \"))\n",
    "\n",
    "# calculate the equivalent temperature in celcius\n",
    "temp_in_C = (temp_in_F - 32) / 1.8\n",
    "\n",
    "print(str(temp_in_F) + \"°F converts to \" + str(temp_in_C) + \"°C\")"
   ]
  }
 ],
 "metadata": {
  "kernelspec": {
   "display_name": "Python 3",
   "language": "python",
   "name": "python3"
  },
  "language_info": {
   "codemirror_mode": {
    "name": "ipython",
    "version": 3
   },
   "file_extension": ".py",
   "mimetype": "text/x-python",
   "name": "python",
   "nbconvert_exporter": "python",
   "pygments_lexer": "ipython3",
   "version": "3.6.8"
  }
 },
 "nbformat": 4,
 "nbformat_minor": 2
}
