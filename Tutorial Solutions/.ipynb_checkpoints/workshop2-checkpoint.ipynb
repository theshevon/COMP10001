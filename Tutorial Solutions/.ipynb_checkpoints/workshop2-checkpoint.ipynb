{
 "cells": [
  {
   "cell_type": "markdown",
   "metadata": {},
   "source": [
    "# <center>Workshop 2: Data Types & Operators<center>"
   ]
  },
  {
   "cell_type": "markdown",
   "metadata": {},
   "source": [
    "## • Discussion"
   ]
  },
  {
   "cell_type": "markdown",
   "metadata": {},
   "source": [
    "### 1. What is a “data type”? Can the data type of an object change?"
   ]
  },
  {
   "cell_type": "markdown",
   "metadata": {},
   "source": [
    "A data type is a classification of data which tells python how to store and process it and defines what we can do with it.<br/>\n",
    "Data types are permanent when you create the object, but you can convert objects from one data type to another\n",
    "using appropriate functions."
   ]
  },
  {
   "cell_type": "markdown",
   "metadata": {},
   "source": [
    "### 2. As a class, fill in the below table with the data types we have studied so far. What is the difference between the second and third type, both being numerical?"
   ]
  },
  {
   "cell_type": "markdown",
   "metadata": {},
   "source": [
    "<table>\n",
    "    <tr>\n",
    "        <th>Type</th>\n",
    "        <th>Example</th>\n",
    "        <th>What does it store?</th>\n",
    "        <th>What can we do with it (functions, operations...)?</th>\n",
    "        <th>How do we convert to it?</th>\n",
    "    </tr>\n",
    "    <tr>\n",
    "        <td>str</td>\n",
    "        <td>\"Hello\"</td>\n",
    "        <td>A sequence of characters</td>\n",
    "        <td>len(), input(), print(), string slicing, indexing, changing case, and many more...</td>\n",
    "        <td>str()</td>\n",
    "    </tr>\n",
    "    <tr>\n",
    "        <td>int</td>\n",
    "        <td>123</td>\n",
    "        <td>An integer (ie. whole numbers)</td>\n",
    "        <td>Arithmetic operations, counting, labeling (ie. using as an ID), indexing, string slicing</td>\n",
    "        <td>int()</td>\n",
    "    </tr>\n",
    "    <tr>\n",
    "        <td>float</td>\n",
    "        <td>3.1415</td>\n",
    "        <td>A real number (ie. numbers containing decimals/ fractional components)</td>\n",
    "        <td>Arithmetic operations, mathematics and real world measurements</td>\n",
    "        <td>float()</td>\n",
    "    </tr>\n",
    "    <tr>\n",
    "        <td>bool</td>\n",
    "        <td>True</td>\n",
    "        <td>A truth value (ie. True / False)</td>\n",
    "        <td>Evaluate results of tests, determine which branch to use in a conditional statement</td>\n",
    "        <td>bool()</td>\n",
    "    </tr>\n",
    "    \n",
    "</table>"
   ]
  },
  {
   "cell_type": "markdown",
   "metadata": {},
   "source": [
    "### 3. What is an “operator”? Which operators have we learned so far and what do they do?"
   ]
  },
  {
   "cell_type": "markdown",
   "metadata": {},
   "source": [
    "An operator is a symbol used between two values which calculates some result. <br/> \n",
    "Operators we've seen so far:<br/>\n",
    "- `+` : Addition\n",
    "- `-` : Subtraction\n",
    "- `*` : Multiplication\n",
    "- `/` : Division\n",
    "- `%` : Modulo (divides the first value by the second and returns the remainder)\n",
    "- `//`: Integer/Floor Division (divides the first value by the second, rounds down the result and returns it)\n",
    "- `**`: Exponential \n",
    "**Note:** Python follows the BODMAS/ BIDMAS/ PEMDAS order of operations"
   ]
  },
  {
   "cell_type": "markdown",
   "metadata": {},
   "source": [
    "### 4. What is “operator overloading”? What is the difference between using + with numerical types and strings/sequences?"
   ]
  },
  {
   "cell_type": "markdown",
   "metadata": {},
   "source": [
    "It means that the operator can work with multiple data types. However, its behaviour may vary between different data types (eg. With numeric types, `+` results in addition, but with `str`s, it results in concatentation)"
   ]
  },
  {
   "cell_type": "markdown",
   "metadata": {},
   "source": [
    "### 5. What is a “variable”? How do we use variables and why are they helpful?"
   ]
  },
  {
   "cell_type": "markdown",
   "metadata": {},
   "source": [
    "A variable is a place in the computer’s internal memory where a value can be stored. A name, or _identifier_, is used to access a variable. Created by declaration, their value is controlled with the assignment operator `=`. \n",
    "\n",
    "Variables are useful because we can refer back to the same value more easily, using a name which we can associate with its meaning. They are easy to update and use in calculations."
   ]
  },
  {
   "cell_type": "markdown",
   "metadata": {},
   "source": [
    "### 6. How does the input() function work?"
   ]
  },
  {
   "cell_type": "markdown",
   "metadata": {},
   "source": [
    "`input()` takes a string prompt as argument. When run, it displays that prompt to the user and lets them enter something, which is then returned to the calling function as a string. (_calling function_ here refers to whatever calls `input()`). "
   ]
  },
  {
   "cell_type": "markdown",
   "metadata": {},
   "source": [
    "### 7. What is a literal?"
   ]
  },
  {
   "cell_type": "markdown",
   "metadata": {},
   "source": [
    "A literal is a value typed directly into a program, rather than one referenced by a variable."
   ]
  },
  {
   "cell_type": "markdown",
   "metadata": {},
   "source": [
    "### 8. Why does 0.1+0.1+0.1+0.1+0.1+0.1+0.1+0.1+0.1+0.1 equal 0.9999999999999999 and not 1.0?"
   ]
  },
  {
   "cell_type": "markdown",
   "metadata": {},
   "source": [
    "Floating point numbers are approximations and can store only a finite amount of precision. Sometimes the way the computer stores decimal values can lead to inaccurate results on calculation."
   ]
  },
  {
   "cell_type": "code",
   "execution_count": 22,
   "metadata": {},
   "outputs": [
    {
     "name": "stdout",
     "output_type": "stream",
     "text": [
      "0.1\n",
      "0.2\n",
      "0.30000000000000004\n",
      "0.4\n",
      "0.5\n",
      "0.6\n",
      "0.7\n",
      "0.7999999999999999\n",
      "0.8999999999999999\n",
      "0.9999999999999999\n"
     ]
    }
   ],
   "source": [
    "num = 0.1\n",
    "count = 0\n",
    "while count < 10:\n",
    "    print(num)\n",
    "    num += 0.1\n",
    "    count += 1"
   ]
  },
  {
   "cell_type": "markdown",
   "metadata": {},
   "source": [
    "## • Exercises"
   ]
  },
  {
   "cell_type": "markdown",
   "metadata": {},
   "source": [
    "### **1. Look at the following customer data form, and decide which data types (str, int, float, or bool) should be used to store each field.**"
   ]
  },
  {
   "cell_type": "markdown",
   "metadata": {},
   "source": [
    "- **Name:** str <br/>"
   ]
  },
  {
   "cell_type": "markdown",
   "metadata": {},
   "source": [
    "- **Customer ID:** str or int <br/>"
   ]
  },
  {
   "cell_type": "markdown",
   "metadata": {},
   "source": [
    "Note: While it might _seem_ like an `int` is the best option here, storing IDs as `str`s would be better. \n",
    "This is because most IDs are alphanumeric, which means that they can't be stored in an `int` to begin with. \n",
    "However, even if we know that the IDs would be purely made up of digits, it's important to realise that the leading 0s matter as it is part of the ID. \n",
    "\n",
    "If we stry to store 001 as an `int`, we end up losing these leading 0s. Try running the following block and entering \"001\" as the input:"
   ]
  },
  {
   "cell_type": "code",
   "execution_count": 23,
   "metadata": {},
   "outputs": [
    {
     "name": "stdout",
     "output_type": "stream",
     "text": [
      "Enter an ID: 001\n",
      "1\n"
     ]
    }
   ],
   "source": [
    "id = int(input(\"Enter an ID: \"))\n",
    "print(id)"
   ]
  },
  {
   "cell_type": "markdown",
   "metadata": {},
   "source": [
    "However, by storing the ID as a `str`, we preserve these leading 0s."
   ]
  },
  {
   "cell_type": "code",
   "execution_count": 24,
   "metadata": {},
   "outputs": [
    {
     "name": "stdout",
     "output_type": "stream",
     "text": [
      "Enter an ID: 001\n",
      "001\n"
     ]
    }
   ],
   "source": [
    "id = input(\"Enter an ID: \")\n",
    "print(id)"
   ]
  },
  {
   "cell_type": "markdown",
   "metadata": {},
   "source": [
    "It's for this reason that telephone numbers are stored as `str`s."
   ]
  },
  {
   "cell_type": "markdown",
   "metadata": {},
   "source": [
    "- **Address:** str<br/>"
   ]
  },
  {
   "cell_type": "markdown",
   "metadata": {},
   "source": [
    "- **Postcode:** str or int (Some postcodes, like those in the UK, contain letters as well) <br/>"
   ]
  },
  {
   "cell_type": "markdown",
   "metadata": {},
   "source": [
    "- **Do you own or rent?** str as the question requires you to select between one of the options provided in the question itself. If the question was **Do you rent?** instead, then a bool would be more appropriate <br/>"
   ]
  },
  {
   "cell_type": "markdown",
   "metadata": {},
   "source": [
    "- **Length of bench top:** float <br/>"
   ]
  },
  {
   "cell_type": "markdown",
   "metadata": {},
   "source": [
    "- **Width of bench top:** float <br/>"
   ]
  },
  {
   "cell_type": "markdown",
   "metadata": {},
   "source": [
    "- **Are you interested in further offers?** bool <br/>"
   ]
  },
  {
   "cell_type": "markdown",
   "metadata": {},
   "source": [
    "### **2. Evaluate the following:**"
   ]
  },
  {
   "cell_type": "markdown",
   "metadata": {},
   "source": [
    "**(a) str(3 + 4) + \"cakes\"**<br/>7cakes"
   ]
  },
  {
   "cell_type": "code",
   "execution_count": 25,
   "metadata": {},
   "outputs": [],
   "source": [
    "# note the absence of the white space"
   ]
  },
  {
   "cell_type": "markdown",
   "metadata": {},
   "source": [
    "**(b) int(5 / 2)**<br/>2"
   ]
  },
  {
   "cell_type": "code",
   "execution_count": 26,
   "metadata": {},
   "outputs": [],
   "source": [
    "# 5/2 = 2.5. int(2.5) floors the number to 2"
   ]
  },
  {
   "cell_type": "markdown",
   "metadata": {},
   "source": [
    "**(c) float(\"357\"+ \".\"+ \"23\")**<br/>357.23"
   ]
  },
  {
   "cell_type": "markdown",
   "metadata": {},
   "source": [
    "**(d) bool(\"anything\")**<br/>True"
   ]
  },
  {
   "cell_type": "code",
   "execution_count": 27,
   "metadata": {},
   "outputs": [
    {
     "name": "stdout",
     "output_type": "stream",
     "text": [
      "• str()\n",
      "str(1) -> 1\n",
      "str(1.2) -> 1.2\n",
      "str(True) -> True\n",
      "str(False) -> False\n",
      "\n",
      "• int()\n",
      "int(\"2\") -> 2\n",
      "int(1.6) -> 1\n",
      "int(True) -> 1\n",
      "int(False) -> 0\n",
      "\n",
      "• float()\n",
      "float(\"1.6\") -> 1.6\n",
      "float(2) -> 2.0\n",
      "float(True) -> 1.0\n",
      "float(False) -> 0.0\n",
      "\n",
      "• bool()\n",
      "bool(0) -> False\n",
      "bool(1) -> True\n",
      "bool(-1) -> True\n",
      "bool(0.0) -> False\n",
      "bool(2.0) -> True\n",
      "bool(-1.3) -> True\n",
      "bool('') -> False\n",
      "bool('high school musical is an underappreciated film series') -> True\n"
     ]
    }
   ],
   "source": [
    "# Additional notes regarding type converstions\n",
    "\n",
    "# str(): will convert pretty much anything to its string equivalent\n",
    "print(\"• str()\")\n",
    "print(\"str(1) ->\", str(1))\n",
    "print(\"str(1.2) ->\", str(1.2))\n",
    "print(\"str(True) ->\", str(True))\n",
    "print(\"str(False) ->\", str(False))\n",
    "\n",
    "# int()\n",
    "print(\"\\n• int()\")\n",
    "# print(\"int(\\\"hello\\\") ->\", int(\"hello\")) # will cause a ValueError (try running it on Grok!)\n",
    "print(\"int(\\\"2\\\") ->\", int(\"2\"))             # converts the number from a string into an int\n",
    "print(\"int(1.6) ->\", int(1.6))             # will remove the decimal part of floats (ie, round it down)\n",
    "print(\"int(True) ->\", int(True))\n",
    "print(\"int(False) ->\", int(False))\n",
    "\n",
    "# float()\n",
    "print(\"\\n• float()\")\n",
    "# print(\"float(\\\"hello\\\") ->\", float(\"hello\")) # will cause a ValueError (try running it on Grok!)\n",
    "print(\"float(\\\"1.6\\\") ->\", float(\"1.6\"))         # converts the number from a string into a float        \n",
    "print(\"float(2) ->\", float(2))                 # will add a decimal to the integer\n",
    "print(\"float(True) ->\", float(True))\n",
    "print(\"float(False) ->\", float(False))\n",
    "\n",
    "# bool()\n",
    "print(\"\\n• bool()\")\n",
    "print(\"bool(0) ->\", bool(0))  # 0 evaluates to False\n",
    "print(\"bool(1) ->\", bool(1))  # any non-zero integer evaluates to True\n",
    "print(\"bool(-1) ->\", bool(-1))\n",
    "print(\"bool(0.0) ->\", bool(0.0))  # 0 evaluates to False\n",
    "print(\"bool(2.0) ->\", bool(2.0))  # any non-zero value evaluates to True\n",
    "print(\"bool(-1.3) ->\", bool(-1.3))\n",
    "print(\"bool('') ->\", bool(\"\"))  # The empty string (\"\") evaluates to False\n",
    "print(\"bool('high school musical is an underappreciated film series') ->\", bool('high school musical is an underappreciated film series'))  # all other strings evaluate to True"
   ]
  },
  {
   "cell_type": "markdown",
   "metadata": {},
   "source": [
    "### **3. What is the output of the following? Why?**"
   ]
  },
  {
   "cell_type": "markdown",
   "metadata": {},
   "source": [
    "**(a) 123 + 123** <br/>246"
   ]
  },
  {
   "cell_type": "markdown",
   "metadata": {},
   "source": [
    "**(b) \"123\" + \"123\"**<br/>\"123123\""
   ]
  },
  {
   "cell_type": "markdown",
   "metadata": {},
   "source": [
    "**(c) \"123\" + 123**<br/>TypeError: can only concatenate str (not \"int\") to str"
   ]
  },
  {
   "cell_type": "code",
   "execution_count": 28,
   "metadata": {},
   "outputs": [],
   "source": [
    "# we can't mix numeric and non-numeric types for addition, subtraction or division"
   ]
  },
  {
   "cell_type": "markdown",
   "metadata": {},
   "source": [
    "**(d) 3 * 4**<br/>12"
   ]
  },
  {
   "cell_type": "markdown",
   "metadata": {},
   "source": [
    "**(e) \"3\" * 4**<br/>\"3333\""
   ]
  },
  {
   "cell_type": "code",
   "execution_count": 29,
   "metadata": {},
   "outputs": [
    {
     "name": "stdout",
     "output_type": "stream",
     "text": [
      "3333\n"
     ]
    }
   ],
   "source": [
    "# it's important to know that we can only mix numeric and non-numeric types for multiplication IF the numeric type\n",
    "# is an int. \n",
    "\n",
    "print(\"3\" * 4) # this works fine\n",
    "# print(\"3\" * 4.2) # this produces an error (try running it on Grok!)"
   ]
  },
  {
   "cell_type": "markdown",
   "metadata": {},
   "source": [
    "**(f) \"3\" * \"4\"**<br/>TypeError: can't multiply sequence by non-int of type 'str'"
   ]
  },
  {
   "cell_type": "code",
   "execution_count": 30,
   "metadata": {},
   "outputs": [
    {
     "name": "stdout",
     "output_type": "stream",
     "text": [
      "4\n",
      "0\n"
     ]
    }
   ],
   "source": [
    "# for the \"*\" operator, at least one of the two operands must be an int.\n",
    "\n",
    "# we can also use this with boolean values\n",
    "\n",
    "print(True * 4) # int(True) = 1, so 1 * 4 = 4\n",
    "print(False * 5) # int(False) = 4, so 0 * 5 = 0"
   ]
  },
  {
   "cell_type": "markdown",
   "metadata": {},
   "source": [
    "### **4. Evaluate the following given the assignments a = 1, b = 2, c = 2.0:**"
   ]
  },
  {
   "cell_type": "markdown",
   "metadata": {},
   "source": [
    "**(a) a / a**<br/>1.0"
   ]
  },
  {
   "cell_type": "code",
   "execution_count": 31,
   "metadata": {},
   "outputs": [],
   "source": [
    "# note that type conversion to float occurs when using the '/' operator"
   ]
  },
  {
   "cell_type": "markdown",
   "metadata": {},
   "source": [
    "**(b) b + b**<br/>4"
   ]
  },
  {
   "cell_type": "markdown",
   "metadata": {},
   "source": [
    "**(c) b + c**<br/>4.0"
   ]
  },
  {
   "cell_type": "code",
   "execution_count": 32,
   "metadata": {},
   "outputs": [],
   "source": [
    "# note that type conversion to float occurs because one of the operands is a float"
   ]
  },
  {
   "cell_type": "markdown",
   "metadata": {},
   "source": [
    "**(d) a / b**<br/>0.5"
   ]
  },
  {
   "cell_type": "markdown",
   "metadata": {},
   "source": [
    "**(e) a // b**<br/>0"
   ]
  },
  {
   "cell_type": "code",
   "execution_count": 33,
   "metadata": {},
   "outputs": [],
   "source": [
    "# recall that floor division (ie. '//') divides a by b, rounds down that value and then returns it"
   ]
  },
  {
   "cell_type": "markdown",
   "metadata": {},
   "source": [
    "**(f) a % b**<br/>1"
   ]
  },
  {
   "cell_type": "code",
   "execution_count": 34,
   "metadata": {},
   "outputs": [],
   "source": [
    "# recall that modulo (ie. '%') divides a by b and returns the remainder"
   ]
  },
  {
   "cell_type": "markdown",
   "metadata": {},
   "source": [
    "**(g) a + b / c**<br/>2.0"
   ]
  },
  {
   "cell_type": "code",
   "execution_count": 35,
   "metadata": {},
   "outputs": [],
   "source": [
    "# recall that python follows the BODMAS/ BIDMAS/ PEMDAS order of operations"
   ]
  },
  {
   "cell_type": "markdown",
   "metadata": {},
   "source": [
    "**(h) (a + b) / c**<br/>1.5"
   ]
  },
  {
   "cell_type": "markdown",
   "metadata": {},
   "source": [
    "## • Problems"
   ]
  },
  {
   "cell_type": "markdown",
   "metadata": {},
   "source": [
    "### **1. Write a program which asks the user for their age and calculates the year in which they were born. There will be two possibilities since you haven’t asked for their birth date, so print both.**"
   ]
  },
  {
   "cell_type": "markdown",
   "metadata": {},
   "source": [
    "_Suppose Bob was born on March 23rd, 1998. If he runs this program before the 23rd of March this \n",
    "year, he'd enter 21 as his age and the program would print_ `1999`_. However, if he ran the program after his \n",
    "birthday, he'd enter 22 as his age and the program would print_ `1998`_. Hence, to circumvent this issue, we're\n",
    "going to write a program that will print both possibilities._"
   ]
  },
  {
   "cell_type": "code",
   "execution_count": 36,
   "metadata": {},
   "outputs": [
    {
     "name": "stdout",
     "output_type": "stream",
     "text": [
      "What's your name? Bob\n",
      "How old are you? 21\n",
      "You were born in 1999 or 1998\n"
     ]
    }
   ],
   "source": [
    "CURRENT_YEAR = 2020 # Note: it's common convention to write constants in uppercase\n",
    "\n",
    "# prompt user to enter required data\n",
    "name = input(\"What's your name? \")\n",
    "age  = int(input(\"How old are you? \"))\n",
    "\n",
    "# possible birth year\n",
    "birth_year_1 = CURRENT_YEAR - age \n",
    "\n",
    "# another possible birth year\n",
    "birth_year_2 = birth_year_1 - 1\n",
    "\n",
    "print(\"You were born in\", birth_year_1, \"or\", birth_year_2)"
   ]
  },
  {
   "cell_type": "markdown",
   "metadata": {},
   "source": [
    "### **2. Write a program which asks the user for two numbers and multiplies them together, printing the equation in the form 1 * 2 = 2 for the case of 1 and 2.**"
   ]
  },
  {
   "cell_type": "code",
   "execution_count": 37,
   "metadata": {},
   "outputs": [
    {
     "name": "stdout",
     "output_type": "stream",
     "text": [
      "Enter a number: 12\n",
      "Enter another number: 3\n",
      "12.0 * 3.0 = 36.0\n"
     ]
    }
   ],
   "source": [
    "# prompt user to enter required data\n",
    "num1 = float(input(\"Enter a number: \"))\n",
    "num2 = float(input(\"Enter another number: \"))\n",
    "\n",
    "# calculate the result\n",
    "result = num1 * num2\n",
    "\n",
    "print(num1, \"*\", num2, \"=\", result)"
   ]
  },
  {
   "cell_type": "markdown",
   "metadata": {},
   "source": [
    "### **3. Write a program which asks the user for a temperature in degrees Fahrenheit and prints the corresponding value in Celsius. <br /> The conversion formula is below:**\n",
    "\n",
    "### $ C = \\frac{F - 32}{1.8} $"
   ]
  },
  {
   "cell_type": "code",
   "execution_count": 38,
   "metadata": {},
   "outputs": [
    {
     "name": "stdout",
     "output_type": "stream",
     "text": [
      "Enter a temperature in Fahrenheit: 43\n",
      "43.0°F converts to 6.111111111111111°C\n"
     ]
    }
   ],
   "source": [
    "# prompt user to enter required data\n",
    "temp_in_F = float(input(\"Enter a temperature in Fahrenheit: \"))\n",
    "\n",
    "# calculate the equivalent temperature in celcius\n",
    "temp_in_C = (temp_in_F - 32) / 1.8\n",
    "\n",
    "print(str(temp_in_F) + \"°F converts to \" + str(temp_in_C) + \"°C\")"
   ]
  }
 ],
 "metadata": {
  "kernelspec": {
   "display_name": "Python 3",
   "language": "python",
   "name": "python3"
  },
  "language_info": {
   "codemirror_mode": {
    "name": "ipython",
    "version": 3
   },
   "file_extension": ".py",
   "mimetype": "text/x-python",
   "name": "python",
   "nbconvert_exporter": "python",
   "pygments_lexer": "ipython3",
   "version": "3.6.8"
  }
 },
 "nbformat": 4,
 "nbformat_minor": 2
}
