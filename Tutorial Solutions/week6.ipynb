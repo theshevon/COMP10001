{
 "cells": [
  {
   "cell_type": "markdown",
   "metadata": {},
   "source": [
    "# <center>Workshop 4 (Week 6)<center>"
   ]
  },
  {
   "cell_type": "markdown",
   "metadata": {},
   "source": [
    "## • Exercises"
   ]
  },
  {
   "cell_type": "markdown",
   "metadata": {},
   "source": [
    "### 1. Evaluate the following method calls given the assignment `s = \"Computing is FUN!\"`. Think about the input and output of each method. You’re not expected to know all the methods available to you: if you haven’t seen some of these before, have a guess at what they do and you’ll probably be right!"
   ]
  },
  {
   "cell_type": "markdown",
   "metadata": {},
   "source": [
    "**(a) `s.isupper()`**\n",
    ">`False`"
   ]
  },
  {
   "cell_type": "markdown",
   "metadata": {},
   "source": [
    "**(b) `s.upper()`**\n",
    ">`\"COMPUTING IS FUN!`"
   ]
  },
  {
   "cell_type": "markdown",
   "metadata": {},
   "source": [
    "**(c) `s.endswith(\"FUN!\")`**\n",
    ">`True`"
   ]
  },
  {
   "cell_type": "markdown",
   "metadata": {},
   "source": [
    "**(d) `s.strip('!')`**\n",
    ">`\"Computing is FUN!\"`"
   ]
  },
  {
   "cell_type": "markdown",
   "metadata": {},
   "source": [
    "**(e) `s.count('i')`**\n",
    ">`2`"
   ]
  },
  {
   "cell_type": "markdown",
   "metadata": {},
   "source": [
    "**(f) `s.replace('i', '!')`**\n",
    ">`\"Comput!ng !s FUN!\"`"
   ]
  },
  {
   "cell_type": "markdown",
   "metadata": {},
   "source": [
    "---"
   ]
  },
  {
   "cell_type": "markdown",
   "metadata": {},
   "source": [
    "### 2. Evaluate the following given the assignment `lst = [2, (\"green\", \"eggs\", \"ham\"), False]`"
   ]
  },
  {
   "cell_type": "markdown",
   "metadata": {},
   "source": [
    "**(a) `lst[2]`**\n",
    ">`False`"
   ]
  },
  {
   "cell_type": "markdown",
   "metadata": {},
   "source": [
    "**(b) `lst[1][-2]`**\n",
    ">`\"eggs\"`"
   ]
  },
  {
   "cell_type": "markdown",
   "metadata": {},
   "source": [
    "**(c) `lst[1][-2][:3]`**\n",
    ">`\"egg\"`"
   ]
  },
  {
   "cell_type": "markdown",
   "metadata": {},
   "source": [
    "**(d)**\n",
    "\n",
    "**`lst.append(5)`**<br/>\n",
    "**`print(lst)`**\n",
    "\n",
    ">`[2, (\"green\", \"eggs\", \"ham\"), False, 5]`"
   ]
  },
  {
   "cell_type": "markdown",
   "metadata": {},
   "source": [
    "**(e)** \n",
    "\n",
    "**`lst.pop(2)`**<br/>\n",
    "**`print(lst)`**\n",
    "\n",
    ">`[2, (\"green\", \"eggs\", \"ham\")]`"
   ]
  },
  {
   "cell_type": "markdown",
   "metadata": {},
   "source": [
    "---"
   ]
  },
  {
   "cell_type": "markdown",
   "metadata": {},
   "source": [
    "### 3. What is the output of the following snippets of code containing loops ?"
   ]
  },
  {
   "cell_type": "markdown",
   "metadata": {},
   "source": [
    "**(a)**\n",
    "```python\n",
    "i = 2\n",
    "while i < 8:\n",
    "    print(f\"The square of {i} is {i*i}\")\n",
    "    i = i + 2\n",
    "```"
   ]
  },
  {
   "cell_type": "markdown",
   "metadata": {},
   "source": [
    "> `\"The square of 2 is 4\"`\n",
    ">\n",
    "> `\"The square of 4 is 16\"`\n",
    ">\n",
    "> `\"The square of 6 is 36\"`"
   ]
  },
  {
   "cell_type": "markdown",
   "metadata": {},
   "source": [
    "**(b)**\n",
    "```python\n",
    "for ingredient in (\"carrot\", \"lettuce\", \"cucumber\", \"tomato\"):\n",
    "    if ingredient.startswith('c'):\n",
    "        print(ingredient, \"is delicious!\")\n",
    "    else:\n",
    "        print(ingredient, \"is not!\")\n",
    "```"
   ]
  },
  {
   "cell_type": "markdown",
   "metadata": {},
   "source": [
    "> `\"carrot is delcious!\"`\n",
    ">\n",
    "> `\"lettuce is not!\"`\n",
    ">\n",
    "> `\"cucumber is delicious!\"`\n",
    ">\n",
    "> `\"tomato is not!\"`"
   ]
  },
  {
   "cell_type": "markdown",
   "metadata": {},
   "source": [
    "**(c)**\n",
    "```python\n",
    "i = 0\n",
    "colours = (\"olive\", \"red\", \"violet\", \"turquoise\", \"red\", \"red\", \"amber\")\n",
    "while i < len(colours):\n",
    "    if colours[i] == \"red\":\n",
    "        print(\"Found red at index\", i)\n",
    "    i += 1\n",
    "```"
   ]
  },
  {
   "cell_type": "markdown",
   "metadata": {},
   "source": [
    "> `\"Found red at index 1\"`\n",
    ">\n",
    "> `\"Found red at index 4\"`\n",
    ">\n",
    "> `\"Found red at index 5\"`"
   ]
  },
  {
   "cell_type": "markdown",
   "metadata": {},
   "source": [
    "**(d)**\n",
    "```python\n",
    "MIN_WORD_LEN = 4\n",
    "long_words = 0\n",
    "text = \"Once upon a time in a land far away lived a princess\"\n",
    "for word in text.split():\n",
    "    if len(word) > MIN_WORD_LEN:\n",
    "        print(word, \"is too long!\")\n",
    "        long_words += 1\n",
    "print(long_words, \"words were too long\")\n",
    "```"
   ]
  },
  {
   "cell_type": "markdown",
   "metadata": {},
   "source": [
    "> `\"lived is too long!\"`\n",
    ">\n",
    "> `princess is too long!\"`\n",
    ">\n",
    "> `\"2 words were too long\"`"
   ]
  },
  {
   "cell_type": "markdown",
   "metadata": {},
   "source": [
    "---"
   ]
  },
  {
   "cell_type": "markdown",
   "metadata": {},
   "source": [
    "### 4. Rewrite the loops in question 3 converting for loops to while loops and vice versa. "
   ]
  },
  {
   "cell_type": "markdown",
   "metadata": {},
   "source": [
    "**(a)**"
   ]
  },
  {
   "cell_type": "code",
   "execution_count": 1,
   "metadata": {},
   "outputs": [
    {
     "name": "stdout",
     "output_type": "stream",
     "text": [
      "The square of 2 is 4\n",
      "The square of 4 is 16\n",
      "The square of 6 is 36\n"
     ]
    }
   ],
   "source": [
    "for i in range(2, 8, 2):\n",
    "    print(f\"The square of {i} is {i*i}\")"
   ]
  },
  {
   "cell_type": "markdown",
   "metadata": {},
   "source": [
    "**(b)**"
   ]
  },
  {
   "cell_type": "code",
   "execution_count": 3,
   "metadata": {},
   "outputs": [
    {
     "name": "stdout",
     "output_type": "stream",
     "text": [
      "carrot is delicious!\n",
      "lettuce is not!\n",
      "cucumber is delicious!\n",
      "tomato is not!\n"
     ]
    }
   ],
   "source": [
    "i = 0\n",
    "ingredients = (\"carrot\", \"lettuce\", \"cucumber\", \"tomato\")\n",
    "while i < len(ingredients):\n",
    "    ingredient = ingredients[i]\n",
    "    if ingredient.startswith('c'):\n",
    "        print(ingredient, \"is delicious!\")\n",
    "    else:\n",
    "        print(ingredient, \"is not!\")\n",
    "    i += 1"
   ]
  },
  {
   "cell_type": "markdown",
   "metadata": {},
   "source": [
    "**(c)**"
   ]
  },
  {
   "cell_type": "code",
   "execution_count": 8,
   "metadata": {},
   "outputs": [
    {
     "name": "stdout",
     "output_type": "stream",
     "text": [
      "Found red at index 1\n",
      "Found red at index 4\n",
      "Found red at index 5\n"
     ]
    }
   ],
   "source": [
    "colours = (\"olive\", \"red\", \"violet\", \"turquoise\", \"red\", \"red\", \"amber\")\n",
    "for i in range(len(colours)):\n",
    "    if colours[i] == \"red\":\n",
    "        print(\"Found red at index\", i)"
   ]
  },
  {
   "cell_type": "code",
   "execution_count": 9,
   "metadata": {},
   "outputs": [
    {
     "name": "stdout",
     "output_type": "stream",
     "text": [
      "Found red at index 1\n",
      "Found red at index 4\n",
      "Found red at index 5\n"
     ]
    }
   ],
   "source": [
    "# -- alternate way of doing it:\n",
    "# for each iteration, enumerate() returns a tuple where the first element is an index number and the second\n",
    "# element is the value at that index in the list. \n",
    "# Official documentation: https://docs.python.org/3/library/functions.html#enumerate\n",
    "for index, colour in enumerate((\"olive\", \"red\", \"violet\", \"turquoise\", \"red\", \"red\", \"amber\")):\n",
    "    if colour == \"red\":\n",
    "        print(\"Found red at index\", index)"
   ]
  },
  {
   "cell_type": "markdown",
   "metadata": {},
   "source": [
    "**(d)**"
   ]
  },
  {
   "cell_type": "code",
   "execution_count": 7,
   "metadata": {},
   "outputs": [
    {
     "name": "stdout",
     "output_type": "stream",
     "text": [
      "lived is too long!\n",
      "princess is too long!\n",
      "2 words were too long\n"
     ]
    }
   ],
   "source": [
    "MIN_WORD_LEN = 4\n",
    "n_long_words = 0\n",
    "text = \"Once upon a time in a land far away lived a princess\"\n",
    "words = text.split()\n",
    "i = 0\n",
    "while i < len(words):\n",
    "    if len(words[i]) > MIN_WORD_LEN:\n",
    "        print(words[i], \"is too long!\")\n",
    "        n_long_words += 1\n",
    "    i += 1\n",
    "print(n_long_words, \"words were too long\")"
   ]
  },
  {
   "cell_type": "markdown",
   "metadata": {},
   "source": [
    "---"
   ]
  },
  {
   "cell_type": "markdown",
   "metadata": {},
   "source": [
    "### 5. Consider the following while loop and two conversions to for loops. Are the two for loops equivalent?Why might you choose one over the other?"
   ]
  },
  {
   "cell_type": "markdown",
   "metadata": {},
   "source": [
    "```python\n",
    "count = 0\n",
    "items = ('eggs', 'spam', 'more eggs')\n",
    "while count < len(items):\n",
    "    print(f\"we need to buy more {items[count]}\")\n",
    "    count += 1\n",
    "```\n",
    "\n",
    "---\n",
    "\n",
    "```python\n",
    "items = ('eggs', 'spam', 'more eggs')\n",
    "for count in range(len(items)):\n",
    "    print(f\"we need to buy more {items[count]}\")\n",
    "```\n",
    "\n",
    "---\n",
    "\n",
    "```python\n",
    "items = ('eggs', 'spam', 'more eggs')\n",
    "for item in items:\n",
    "    print(f\"we need to buy more {item}\")\n",
    "```"
   ]
  },
  {
   "cell_type": "markdown",
   "metadata": {},
   "source": [
    "- Both the `for` loops are functionally equivalent. \n",
    "- The first one can be thought to be more similar to the orginal `while` loop since it's using indexing. \n",
    "- The second one directly iterates over the `items` tuple and so, may appeal to more programmers as it is a more elegant approach."
   ]
  },
  {
   "cell_type": "markdown",
   "metadata": {},
   "source": [
    "---"
   ]
  },
  {
   "cell_type": "markdown",
   "metadata": {},
   "source": [
    "### 6. Do the following code snippets do the same thing? What are some advantages and disadvantages of each snippet?"
   ]
  },
  {
   "cell_type": "markdown",
   "metadata": {},
   "source": [
    "```python\n",
    "print(\"We need some saws\")\n",
    "print(\"We need some hammers\")\n",
    "print(\"We need some cogs\")\n",
    "print(\"We need some nails\")\n",
    "```\n",
    "\n",
    "---\n",
    "\n",
    "```python\n",
    "def get_str(part):\n",
    "    return f\"We need some {part}\"\n",
    "\n",
    "print(get_str(\"saws\"))\n",
    "print(get_str(\"hammers\"))\n",
    "print(get_str(\"cogs\"))\n",
    "print(get_str(\"nails\"))\n",
    "```\n",
    "\n",
    "---\n",
    "\n",
    "```python\n",
    "def get_str(part):\n",
    "    return f\"We need some {part}\"\n",
    "\n",
    "parts = (\"saws\", \"hammers\", \"cogs\", \"nails\")\n",
    "for part in parts:\n",
    "    print(get_str(part))\n",
    "```"
   ]
  },
  {
   "cell_type": "markdown",
   "metadata": {},
   "source": [
    "- All 3 snippets are functionally equivalent\n",
    "- Approach 1 is quite bad for multiple reasons. For one, we need to manually type out \"We need some...\" for every item that we want to print out, meaning that it would be quite tedious to write. Furthermore, this approach isn't extensible either- if there were 1 million items, you'd have to manually write out a print statement for each item!\n",
    "- Approach 2 is better than Approach 1 because it abstracts away the prefix \"We need some...\" from the output string by making use of the `get_str()` function. However this approach isn't extensible either as we still need to write one line of code per item.\n",
    "- Approach 3 makes use of the `get_str()` function to abstract away the prefix \"We need some...\". At the same time, this approach uses a flow control structure (ie. a loop) to minimise the amount of code that needs to be written, thereby making this appraoch extensible as well. Therefore, Approach 3 is quite elegant and modular."
   ]
  },
  {
   "cell_type": "markdown",
   "metadata": {},
   "source": [
    "---"
   ]
  },
  {
   "cell_type": "markdown",
   "metadata": {},
   "source": [
    "## • Problems"
   ]
  },
  {
   "cell_type": "markdown",
   "metadata": {},
   "source": [
    "### 1. Write a function which takes an integer input n and prints the thirteen times tables from 1 * 13 until n * 13."
   ]
  },
  {
   "cell_type": "code",
   "execution_count": 12,
   "metadata": {},
   "outputs": [],
   "source": [
    "def thirteen_times_table(n: int) -> int:\n",
    "    '''Takes an integer, n, as input and prints out the thirteen times tables from \n",
    "       1 * 13 up to and including n * 13'''\n",
    "    \n",
    "    for i in range(1, n+1):\n",
    "        print(f\"{i} * 13 = {i * 13}\")"
   ]
  },
  {
   "cell_type": "markdown",
   "metadata": {},
   "source": [
    "---"
   ]
  },
  {
   "cell_type": "markdown",
   "metadata": {},
   "source": [
    "### 2. Write a function which converts a temperature between degrees Celsius and Fahrenheit. It should take a float, the temperature to convert, and a string, either 'c' or 'f' indicating a conversion from degrees Celsius and Fahrenheit respectively. The formulae for conversion are below."
   ]
  },
  {
   "cell_type": "markdown",
   "metadata": {},
   "source": [
    "### $ C = \\frac{F - 32}{1.8} $                \n",
    "### $ F=C×1.8 + 32 $"
   ]
  },
  {
   "cell_type": "code",
   "execution_count": 17,
   "metadata": {},
   "outputs": [],
   "source": [
    "# Note: this solution assumes that convert_to will always be valid (ie. it will always be 'c' or 'f')\n",
    "def convert(temperature: float, convert_to: str) -> float:\n",
    "    '''Takes a temperature, as a float, and string convert_to(either 'c' or 'f' denoting 'Celcius' \n",
    "       and 'Farenheit' respectively), and returns the temperature after it has been converted to \n",
    "       the unit specified by convert_to'''\n",
    "    \n",
    "    if convert_to == 'c':\n",
    "        return (temperature * 1.8) + 32\n",
    "    else:\n",
    "        return (temperature - 32) / 1.8"
   ]
  },
  {
   "cell_type": "markdown",
   "metadata": {},
   "source": [
    "---"
   ]
  },
  {
   "cell_type": "markdown",
   "metadata": {},
   "source": [
    "### 3. Write a function which takes a tuple of strings and returns a list containing only the strings which contain at least one exclamation mark or asterisk symbol."
   ]
  },
  {
   "cell_type": "code",
   "execution_count": 25,
   "metadata": {},
   "outputs": [],
   "source": [
    "def get_strings_with_symbols(strings: tuple) -> list:\n",
    "    '''Takes a tuple of strings as input and returns a list containing only the strings which contain\n",
    "       at least one exclamation mark or asterisk symbol'''\n",
    "    \n",
    "    filtered_strings = []\n",
    "    for string in strings:\n",
    "        if ('!' in string) or ('*' in string):\n",
    "            filtered_strings.append(string)\n",
    "    \n",
    "    return filtered_strings"
   ]
  }
 ],
 "metadata": {
  "kernelspec": {
   "display_name": "Python 3",
   "language": "python",
   "name": "python3"
  },
  "language_info": {
   "codemirror_mode": {
    "name": "ipython",
    "version": 3
   },
   "file_extension": ".py",
   "mimetype": "text/x-python",
   "name": "python",
   "nbconvert_exporter": "python",
   "pygments_lexer": "ipython3",
   "version": "3.7.6"
  }
 },
 "nbformat": 4,
 "nbformat_minor": 2
}
