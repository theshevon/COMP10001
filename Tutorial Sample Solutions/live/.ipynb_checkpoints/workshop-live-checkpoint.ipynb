{
 "cells": [
  {
   "cell_type": "markdown",
   "metadata": {},
   "source": [
    "# <center>Workshop 3 - Chapter II<center>"
   ]
  },
  {
   "cell_type": "markdown",
   "metadata": {},
   "source": [
    "### More on `and` and `or`"
   ]
  },
  {
   "cell_type": "code",
   "execution_count": 8,
   "metadata": {},
   "outputs": [
    {
     "data": {
      "text/plain": [
       "False"
      ]
     },
     "execution_count": 8,
     "metadata": {},
     "output_type": "execute_result"
    }
   ],
   "source": [
    "True and True and False and True"
   ]
  },
  {
   "cell_type": "code",
   "execution_count": 9,
   "metadata": {},
   "outputs": [
    {
     "data": {
      "text/plain": [
       "True"
      ]
     },
     "execution_count": 9,
     "metadata": {},
     "output_type": "execute_result"
    }
   ],
   "source": [
    "True or False or True"
   ]
  },
  {
   "cell_type": "code",
   "execution_count": 10,
   "metadata": {},
   "outputs": [
    {
     "data": {
      "text/plain": [
       "'apple'"
      ]
     },
     "execution_count": 10,
     "metadata": {},
     "output_type": "execute_result"
    }
   ],
   "source": [
    "\"apple\" or \"banana\""
   ]
  },
  {
   "cell_type": "code",
   "execution_count": 11,
   "metadata": {},
   "outputs": [
    {
     "data": {
      "text/plain": [
       "'apple'"
      ]
     },
     "execution_count": 11,
     "metadata": {},
     "output_type": "execute_result"
    }
   ],
   "source": [
    "\"apple\" or \"\""
   ]
  },
  {
   "cell_type": "code",
   "execution_count": 12,
   "metadata": {},
   "outputs": [
    {
     "data": {
      "text/plain": [
       "'apple'"
      ]
     },
     "execution_count": 12,
     "metadata": {},
     "output_type": "execute_result"
    }
   ],
   "source": [
    "\"\" or \"apple\""
   ]
  },
  {
   "cell_type": "code",
   "execution_count": 13,
   "metadata": {},
   "outputs": [
    {
     "data": {
      "text/plain": [
       "'apple'"
      ]
     },
     "execution_count": 13,
     "metadata": {},
     "output_type": "execute_result"
    }
   ],
   "source": [
    "\"apple\" or \"\" or \"banana\""
   ]
  },
  {
   "cell_type": "code",
   "execution_count": 14,
   "metadata": {},
   "outputs": [
    {
     "data": {
      "text/plain": [
       "[]"
      ]
     },
     "execution_count": 14,
     "metadata": {},
     "output_type": "execute_result"
    }
   ],
   "source": [
    "\"\" or []"
   ]
  },
  {
   "cell_type": "code",
   "execution_count": 16,
   "metadata": {},
   "outputs": [
    {
     "data": {
      "text/plain": [
       "'banana'"
      ]
     },
     "execution_count": 16,
     "metadata": {},
     "output_type": "execute_result"
    }
   ],
   "source": [
    "\"apple\" and \"banana\""
   ]
  },
  {
   "cell_type": "code",
   "execution_count": 17,
   "metadata": {},
   "outputs": [
    {
     "data": {
      "text/plain": [
       "''"
      ]
     },
     "execution_count": 17,
     "metadata": {},
     "output_type": "execute_result"
    }
   ],
   "source": [
    "\"apple\" and \"\""
   ]
  },
  {
   "cell_type": "code",
   "execution_count": 18,
   "metadata": {},
   "outputs": [
    {
     "data": {
      "text/plain": [
       "''"
      ]
     },
     "execution_count": 18,
     "metadata": {},
     "output_type": "execute_result"
    }
   ],
   "source": [
    "\"\" and \"apple\""
   ]
  },
  {
   "cell_type": "code",
   "execution_count": 19,
   "metadata": {},
   "outputs": [
    {
     "data": {
      "text/plain": [
       "''"
      ]
     },
     "execution_count": 19,
     "metadata": {},
     "output_type": "execute_result"
    }
   ],
   "source": [
    "\"apple\" and \"\" and \"banana\""
   ]
  },
  {
   "cell_type": "code",
   "execution_count": 20,
   "metadata": {},
   "outputs": [
    {
     "data": {
      "text/plain": [
       "''"
      ]
     },
     "execution_count": 20,
     "metadata": {},
     "output_type": "execute_result"
    }
   ],
   "source": [
    "\"\" and [] and 0"
   ]
  },
  {
   "cell_type": "markdown",
   "metadata": {},
   "source": [
    "# <center>Workshop 4<center>"
   ]
  },
  {
   "cell_type": "markdown",
   "metadata": {},
   "source": [
    "## • Discussion"
   ]
  },
  {
   "cell_type": "code",
   "execution_count": null,
   "metadata": {},
   "outputs": [],
   "source": [
    "result = [ result + [val]  ]"
   ]
  },
  {
   "cell_type": "code",
   "execution_count": 25,
   "metadata": {},
   "outputs": [],
   "source": [
    "my_list = [2, 4, 6, 8]"
   ]
  },
  {
   "cell_type": "code",
   "execution_count": 22,
   "metadata": {},
   "outputs": [
    {
     "data": {
      "text/plain": [
       "8"
      ]
     },
     "execution_count": 22,
     "metadata": {},
     "output_type": "execute_result"
    }
   ],
   "source": [
    "my_list.pop(3)"
   ]
  },
  {
   "cell_type": "code",
   "execution_count": 23,
   "metadata": {},
   "outputs": [
    {
     "data": {
      "text/plain": [
       "6"
      ]
     },
     "execution_count": 23,
     "metadata": {},
     "output_type": "execute_result"
    }
   ],
   "source": [
    "my_list.pop()"
   ]
  },
  {
   "cell_type": "code",
   "execution_count": 26,
   "metadata": {},
   "outputs": [
    {
     "data": {
      "text/plain": [
       "6"
      ]
     },
     "execution_count": 26,
     "metadata": {},
     "output_type": "execute_result"
    }
   ],
   "source": [
    "my_list.pop(2)"
   ]
  },
  {
   "cell_type": "code",
   "execution_count": 27,
   "metadata": {},
   "outputs": [],
   "source": [
    "my_tup = (1,2)\n"
   ]
  },
  {
   "cell_type": "code",
   "execution_count": 30,
   "metadata": {},
   "outputs": [
    {
     "data": {
      "text/plain": [
       "(1, 2, 2, 3)"
      ]
     },
     "execution_count": 30,
     "metadata": {},
     "output_type": "execute_result"
    }
   ],
   "source": [
    "(1,2) + (2,3)"
   ]
  },
  {
   "cell_type": "code",
   "execution_count": 31,
   "metadata": {},
   "outputs": [
    {
     "name": "stdout",
     "output_type": "stream",
     "text": [
      "Make a guess: I\n",
      "Make a guess: J\n",
      "Make a guess: pineapple\n"
     ]
    }
   ],
   "source": [
    "TARGET = \"pineapple\"\n",
    "guess = input(\"Make a guess: \")\n",
    "while guess != TARGET:\n",
    "    guess = input(\"Make a guess: \")"
   ]
  },
  {
   "cell_type": "markdown",
   "metadata": {},
   "source": [
    "## • Exercises"
   ]
  },
  {
   "cell_type": "code",
   "execution_count": null,
   "metadata": {},
   "outputs": [],
   "source": []
  },
  {
   "cell_type": "markdown",
   "metadata": {},
   "source": [
    "### 1. Evaluate the following method calls given the assignment `s = \"Computing is FUN!\"`. Think about the input and output of each method. You’re not expected to know all the methods available to you: if you haven’t seen some of these before, have a guess at what they do and you’ll probably be right!"
   ]
  },
  {
   "cell_type": "markdown",
   "metadata": {},
   "source": [
    "**(a) `s.isupper()`**"
   ]
  },
  {
   "cell_type": "code",
   "execution_count": null,
   "metadata": {},
   "outputs": [],
   "source": []
  },
  {
   "cell_type": "markdown",
   "metadata": {},
   "source": [
    "**(b) `s.upper()`**"
   ]
  },
  {
   "cell_type": "code",
   "execution_count": null,
   "metadata": {},
   "outputs": [],
   "source": []
  },
  {
   "cell_type": "markdown",
   "metadata": {},
   "source": [
    "**(c) `s.endswith(\"FUN!\")`**"
   ]
  },
  {
   "cell_type": "code",
   "execution_count": null,
   "metadata": {},
   "outputs": [],
   "source": []
  },
  {
   "cell_type": "markdown",
   "metadata": {},
   "source": [
    "**(d) `s.strip('!')`**"
   ]
  },
  {
   "cell_type": "code",
   "execution_count": null,
   "metadata": {},
   "outputs": [],
   "source": []
  },
  {
   "cell_type": "markdown",
   "metadata": {},
   "source": [
    "**(e) `s.count('i')`**"
   ]
  },
  {
   "cell_type": "code",
   "execution_count": null,
   "metadata": {},
   "outputs": [],
   "source": []
  },
  {
   "cell_type": "markdown",
   "metadata": {},
   "source": [
    "**(f) `s.replace('i', '!')`**"
   ]
  },
  {
   "cell_type": "code",
   "execution_count": null,
   "metadata": {},
   "outputs": [],
   "source": []
  },
  {
   "cell_type": "markdown",
   "metadata": {},
   "source": [
    "### 2. Evaluate the following given the assignment `lst = [2, (\"green\", \"eggs\", \"ham\"), False]`"
   ]
  },
  {
   "cell_type": "markdown",
   "metadata": {},
   "source": [
    "**(a) `lst[2]`**"
   ]
  },
  {
   "cell_type": "code",
   "execution_count": null,
   "metadata": {},
   "outputs": [],
   "source": []
  },
  {
   "cell_type": "markdown",
   "metadata": {},
   "source": [
    "**(b) `lst[1][-2]`**"
   ]
  },
  {
   "cell_type": "code",
   "execution_count": null,
   "metadata": {},
   "outputs": [],
   "source": []
  },
  {
   "cell_type": "markdown",
   "metadata": {},
   "source": [
    "**(c) `lst[1][-2][:3]`**"
   ]
  },
  {
   "cell_type": "code",
   "execution_count": null,
   "metadata": {},
   "outputs": [],
   "source": []
  },
  {
   "cell_type": "markdown",
   "metadata": {},
   "source": [
    "**(d) `lst.append(5)`**<br/>\n",
    "**`print(lst)`**"
   ]
  },
  {
   "cell_type": "code",
   "execution_count": null,
   "metadata": {},
   "outputs": [],
   "source": []
  },
  {
   "cell_type": "markdown",
   "metadata": {},
   "source": [
    "**(e) `lst.pop(2)`<br/>\n",
    "    <t/>`print(lst)`**"
   ]
  },
  {
   "cell_type": "code",
   "execution_count": null,
   "metadata": {},
   "outputs": [],
   "source": []
  },
  {
   "cell_type": "markdown",
   "metadata": {},
   "source": [
    "### 3. What is the output of the following snippets of code containing loops ?"
   ]
  },
  {
   "cell_type": "markdown",
   "metadata": {},
   "source": [
    "**(a)**\n",
    "```python\n",
    "i = 2\n",
    "while i < 8:\n",
    "    print(f\"The square of {i} is {i*i}\")\n",
    "    i = i + 2\n",
    "```"
   ]
  },
  {
   "cell_type": "markdown",
   "metadata": {},
   "source": []
  },
  {
   "cell_type": "markdown",
   "metadata": {},
   "source": [
    "**(b)**\n",
    "```python\n",
    "for ingredient in (\"carrot\", \"lettuce\", \"cucumber\", \"tomato\"):\n",
    "    if ingredient.startswith('c'):\n",
    "        print(ingredient, \"is delicious!\")\n",
    "    else:\n",
    "        print(ingredient, \"is not!\")\n",
    "```"
   ]
  },
  {
   "cell_type": "code",
   "execution_count": null,
   "metadata": {},
   "outputs": [],
   "source": [
    "for ingredient in (\"carrot\", \"lettuce\", \"cucumber\", \"tomato\"):\n",
    "    if ingredient.startswith('c'):\n",
    "        print(ingredient, \"is delicious!\")\n",
    "    else:\n",
    "        print(ingredient, \"is not!\")"
   ]
  },
  {
   "cell_type": "markdown",
   "metadata": {},
   "source": [
    "**(c)**\n",
    "```python\n",
    "i = 0\n",
    "colours = (\"olive\", \"red\", \"violet\", \"turquoise\", \"red\", \"red\", \"amber\")\n",
    "while i < len(colours):\n",
    "    if colours[i] == \"red\":\n",
    "        print(\"Found red at index\", i)\n",
    "    i += 1\n",
    "```"
   ]
  },
  {
   "cell_type": "code",
   "execution_count": null,
   "metadata": {},
   "outputs": [],
   "source": [
    "i = 0\n",
    "colours = (\"olive\", \"red\", \"violet\", \"turquoise\", \"red\", \"red\", \"amber\")\n",
    "while i < len(colours):\n",
    "    if colours[i+1] == \"red\":\n",
    "        print(\"Found red at index\", i+1)\n",
    "    i += 1"
   ]
  },
  {
   "cell_type": "markdown",
   "metadata": {},
   "source": [
    "**(d)**\n",
    "```python\n",
    "MIN_WORD_LEN = 4\n",
    "long_words = 0\n",
    "text = \"Once upon a time in a land far away lived a princess\"\n",
    "for word in text.split():\n",
    "    if len(word) > MIN_WORD_LEN:\n",
    "        print(word, \"is too long!\")\n",
    "        long_words += 1\n",
    "print(long_words, \"words were too long\")\n",
    "```"
   ]
  },
  {
   "cell_type": "code",
   "execution_count": null,
   "metadata": {},
   "outputs": [],
   "source": [
    "MIN_WORD_LEN = 4\n",
    "long_words = 0\n",
    "text = \"Once upon a time in a land far away lived a princess\"\n",
    "for word in text.split():\n",
    "    if len(word) > MIN_WORD_LEN:\n",
    "        print(word, \"is too long!\")\n",
    "        long_words += 1\n",
    "print(long_words, \"words were too long\")"
   ]
  },
  {
   "cell_type": "markdown",
   "metadata": {},
   "source": [
    "### 4. Rewrite the loops in question 3 converting for loops to while loops and vice versa. "
   ]
  },
  {
   "cell_type": "markdown",
   "metadata": {},
   "source": [
    "```python\n",
    "i = 2\n",
    "while i < 8:\n",
    "    print(f\"The square of {i} is {i*i}\")\n",
    "    i = i + 2\n",
    "```"
   ]
  },
  {
   "cell_type": "code",
   "execution_count": null,
   "metadata": {},
   "outputs": [],
   "source": []
  },
  {
   "cell_type": "markdown",
   "metadata": {},
   "source": [
    "```python\n",
    "for ingredient in (\"carrot\", \"lettuce\", \"cucumber\", \"tomato\"):\n",
    "    if ingredient.startswith('c'):\n",
    "        print(ingredient, \"is delicious!\")\n",
    "    else:\n",
    "        print(ingredient, \"is not!\")\n",
    "```"
   ]
  },
  {
   "cell_type": "code",
   "execution_count": null,
   "metadata": {},
   "outputs": [],
   "source": []
  },
  {
   "cell_type": "markdown",
   "metadata": {},
   "source": [
    "```python\n",
    "i = 0\n",
    "colours = (\"olive\", \"red\", \"violet\", \"turquoise\", \"red\", \"red\", \"amber\")\n",
    "while i < len(colours):\n",
    "    if colours[i] == \"red\":\n",
    "        print(\"Found red at index\", i)\n",
    "    i += 1\n",
    "```"
   ]
  },
  {
   "cell_type": "code",
   "execution_count": 32,
   "metadata": {},
   "outputs": [
    {
     "name": "stdout",
     "output_type": "stream",
     "text": [
      "Found red at index 1\n",
      "Found red at index 4\n",
      "Found red at index 5\n"
     ]
    }
   ],
   "source": [
    "colours = (\"olive\", \"red\", \"violet\", \"turquoise\", \"red\", \"red\", \"amber\")\n",
    "for index, colour in enumerate(colours):\n",
    "    if colour == \"red\":\n",
    "        print(\"Found red at index\", index)"
   ]
  },
  {
   "cell_type": "markdown",
   "metadata": {},
   "source": [
    "```python\n",
    "MIN_WORD_LEN = 4\n",
    "long_words = 0\n",
    "text = \"Once upon a time in a land far away lived a princess\"\n",
    "for word in text.split():\n",
    "    if len(word) > MIN_WORD_LEN:\n",
    "        print(word, \"is too long!\")\n",
    "        long_words += 1\n",
    "print(long_words, \"words were too long\")\n",
    "```"
   ]
  },
  {
   "cell_type": "code",
   "execution_count": null,
   "metadata": {},
   "outputs": [],
   "source": []
  },
  {
   "cell_type": "markdown",
   "metadata": {},
   "source": [
    "### 5. Consider the following while loop and two conversions to for loops. Are the two for loops equivalent? Why might you choose one over the other?"
   ]
  },
  {
   "cell_type": "markdown",
   "metadata": {},
   "source": [
    "```python\n",
    "count = 0\n",
    "items = ('eggs', 'spam', 'more eggs')\n",
    "while count < len(items):\n",
    "    print(f\"we need to buy more {items[count]}\")\n",
    "    count += 1\n",
    "```\n",
    "\n",
    "---\n",
    "\n",
    "```python\n",
    "items = ('eggs', 'spam', 'more eggs')\n",
    "for count in range(len(items)):\n",
    "    print(f\"we need to buy more {items[count]}\")\n",
    "```\n",
    "\n",
    "---\n",
    "\n",
    "```python\n",
    "items = ('eggs', 'spam', 'more eggs')\n",
    "for item in items:\n",
    "    print(f\"we need to buy more {item}\")\n",
    "```"
   ]
  },
  {
   "cell_type": "markdown",
   "metadata": {},
   "source": []
  },
  {
   "cell_type": "markdown",
   "metadata": {},
   "source": [
    "### 6. Do the following code snippets do the same thing? What are some advantages and disadvantages of each snippet?"
   ]
  },
  {
   "cell_type": "markdown",
   "metadata": {},
   "source": [
    "```python\n",
    "print(\"We need some saws\")\n",
    "print(\"We need some hammers\")\n",
    "print(\"We need some cogs\")\n",
    "print(\"We need some nails\")\n",
    "```\n",
    "\n",
    "---\n",
    "\n",
    "```python\n",
    "def get_str(part):\n",
    "    return f\"We need some {part}\"\n",
    "\n",
    "print(get_str(\"saws\"))\n",
    "print(get_str(\"hammers\"))\n",
    "print(get_str(\"cogs\"))\n",
    "print(get_str(\"nails\"))\n",
    "```\n",
    "\n",
    "---\n",
    "\n",
    "```python\n",
    "def get_str(part):\n",
    "    return f\"We need some {part}\"\n",
    "\n",
    "parts = (\"saws\", \"hammers\", \"cogs\", \"nails\")\n",
    "for part in parts:\n",
    "    print(get_str(part))\n",
    "```"
   ]
  },
  {
   "cell_type": "markdown",
   "metadata": {},
   "source": []
  },
  {
   "cell_type": "markdown",
   "metadata": {},
   "source": [
    "## • Problems"
   ]
  },
  {
   "cell_type": "markdown",
   "metadata": {},
   "source": [
    "### 1. Write a function which takes an integer input `n` and prints the thirteen times tables from 1 * 13 until `n` * 13."
   ]
  },
  {
   "cell_type": "code",
   "execution_count": null,
   "metadata": {},
   "outputs": [],
   "source": []
  },
  {
   "cell_type": "markdown",
   "metadata": {},
   "source": [
    "### 2. Write a function which converts a temperature between degrees Celsius and Fahrenheit. It should take a float, the temperature to convert, and a string, either 'c' or 'f' indicating a conversion from degrees Celsius and Fahrenheit respectively. The formulae for conversion are below."
   ]
  },
  {
   "cell_type": "markdown",
   "metadata": {},
   "source": [
    "### $ C = \\frac{F - 32}{1.8} $                \n",
    "### $ F=C×1.8 + 32 $"
   ]
  },
  {
   "cell_type": "code",
   "execution_count": null,
   "metadata": {},
   "outputs": [],
   "source": []
  },
  {
   "cell_type": "markdown",
   "metadata": {},
   "source": [
    "### 3. Write a function which takes a tuple of strings and returns a list containing only the strings which contain at least one exclamation mark or asterisk symbol."
   ]
  },
  {
   "cell_type": "code",
   "execution_count": null,
   "metadata": {},
   "outputs": [],
   "source": []
  }
 ],
 "metadata": {
  "kernelspec": {
   "display_name": "Python 3",
   "language": "python",
   "name": "python3"
  },
  "language_info": {
   "codemirror_mode": {
    "name": "ipython",
    "version": 3
   },
   "file_extension": ".py",
   "mimetype": "text/x-python",
   "name": "python",
   "nbconvert_exporter": "python",
   "pygments_lexer": "ipython3",
   "version": "3.6.8"
  }
 },
 "nbformat": 4,
 "nbformat_minor": 2
}
