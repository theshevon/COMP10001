{
 "cells": [
  {
   "cell_type": "markdown",
   "metadata": {},
   "source": [
    "# Workshop 2 (Week 3)"
   ]
  },
  {
   "cell_type": "markdown",
   "metadata": {},
   "source": [
    "## Discussion"
   ]
  },
  {
   "cell_type": "markdown",
   "metadata": {},
   "source": [
    "1. What is a “data type”? Can the data type of an object change?"
   ]
  },
  {
   "cell_type": "code",
   "execution_count": null,
   "metadata": {},
   "outputs": [],
   "source": []
  },
  {
   "cell_type": "markdown",
   "metadata": {},
   "source": [
    "2. As a class, fill in the below table with the data types we have studied so far. What is the difference\n",
    "between the second and third type, both being numerical?"
   ]
  },
  {
   "cell_type": "code",
   "execution_count": null,
   "metadata": {},
   "outputs": [],
   "source": []
  },
  {
   "cell_type": "markdown",
   "metadata": {},
   "source": [
    "3. What is an “operator”? Which operators have we learned so far and what do they do?"
   ]
  },
  {
   "cell_type": "code",
   "execution_count": null,
   "metadata": {},
   "outputs": [],
   "source": []
  },
  {
   "cell_type": "markdown",
   "metadata": {},
   "source": [
    "4. What is “operator overloading”? What is the difference between using + with numerical types and\n",
    "strings/sequences?"
   ]
  },
  {
   "cell_type": "code",
   "execution_count": null,
   "metadata": {},
   "outputs": [],
   "source": []
  },
  {
   "cell_type": "markdown",
   "metadata": {},
   "source": [
    "5. What is a “variable”? How do we use variables and why are they helpful?"
   ]
  },
  {
   "cell_type": "code",
   "execution_count": null,
   "metadata": {},
   "outputs": [],
   "source": []
  },
  {
   "cell_type": "markdown",
   "metadata": {},
   "source": [
    "6. How does the input() function work?"
   ]
  },
  {
   "cell_type": "code",
   "execution_count": null,
   "metadata": {},
   "outputs": [],
   "source": []
  },
  {
   "cell_type": "markdown",
   "metadata": {},
   "source": [
    "7. What is a literal?"
   ]
  },
  {
   "cell_type": "code",
   "execution_count": null,
   "metadata": {},
   "outputs": [],
   "source": []
  },
  {
   "cell_type": "markdown",
   "metadata": {},
   "source": [
    "8. Why does 0.1+0.1+0.1+0.1+0.1+0.1+0.1+0.1+0.1+0.1 equal 0.9999999999999999 and not\n",
    "1.0?"
   ]
  },
  {
   "cell_type": "code",
   "execution_count": 9,
   "metadata": {},
   "outputs": [
    {
     "name": "stdout",
     "output_type": "stream",
     "text": [
      "0.1\n",
      "0.2\n",
      "0.30000000000000004\n",
      "0.9999999999999999\n"
     ]
    }
   ],
   "source": [
    "print(0.1)\n",
    "print(0.1 + 0.1)\n",
    "print(0.1 + 0.1 + 0.1)\n",
    "print(0.1 + 0.1 + 0.1 + 0.1 + 0.1 + 0.1 + 0.1 + 0.1 + 0.1 + 0.1)"
   ]
  },
  {
   "cell_type": "markdown",
   "metadata": {},
   "source": [
    "## Exercises"
   ]
  },
  {
   "cell_type": "markdown",
   "metadata": {},
   "source": [
    "1. Look at the following customer data form, and decide which data types (str, int, float, or bool)\n",
    "should be used to store each field."
   ]
  },
  {
   "cell_type": "code",
   "execution_count": null,
   "metadata": {},
   "outputs": [],
   "source": [
    "Name:\n",
    "Customer ID:\n",
    "Address:\n",
    "Postcode:\n",
    "Do you own or rent?\n",
    "Length of bench top:\n",
    "Width of bench top:\n",
    "Are you interested in further offers?"
   ]
  },
  {
   "cell_type": "markdown",
   "metadata": {},
   "source": [
    "2. Evaluate the following:"
   ]
  },
  {
   "cell_type": "code",
   "execution_count": null,
   "metadata": {},
   "outputs": [],
   "source": [
    "(a) str(3 + 4) + \"cakes\"\n",
    "(b) int(5 / 2)\n",
    "(c) float(\"357\"+ \".\"+ \"23\")\n",
    "(d) bool(\"anything\")"
   ]
  },
  {
   "cell_type": "markdown",
   "metadata": {},
   "source": [
    "3. What is the output of the following? Why?"
   ]
  },
  {
   "cell_type": "code",
   "execution_count": null,
   "metadata": {},
   "outputs": [],
   "source": [
    "(a) 123 + 123\n",
    "(b) \"123\" + \"123\"\n",
    "(c) \"123\" + 123\n",
    "(d) 3 * 4\n",
    "(e) \"3\" * 4\n",
    "(f) \"3\" * \"4\""
   ]
  },
  {
   "cell_type": "markdown",
   "metadata": {},
   "source": [
    "4. Evaluate the following given the assignments a = 1, b = 2, c = 2.0:"
   ]
  },
  {
   "cell_type": "code",
   "execution_count": null,
   "metadata": {},
   "outputs": [],
   "source": [
    "(a) a / a\n",
    "(b) b + b\n",
    "(c) b + c\n",
    "(d) a / b\n",
    "(e) a // b\n",
    "(f) a % b\n",
    "(g) a + b / c\n",
    "(h) (a + b) / c"
   ]
  },
  {
   "cell_type": "markdown",
   "metadata": {},
   "source": [
    "## Problems"
   ]
  },
  {
   "cell_type": "markdown",
   "metadata": {},
   "source": [
    "1. Write a program which asks the user for their age and calculates the year in which they were born. There\n",
    "will be two possibilities since you haven’t asked for their birth date, so print both."
   ]
  },
  {
   "cell_type": "code",
   "execution_count": null,
   "metadata": {},
   "outputs": [],
   "source": [
    "CURRENT_YEAR = 2020 # Note: it's common convention to write constants in uppercase\n",
    "\n",
    "# prompt user to enter required data\n",
    "name = input(\"What's your name? \")\n",
    "age  = int(input(\"How old are you? \"))\n",
    "\n",
    "# possible birth year\n",
    "birth_year_1 = CURRENT_YEAR - age \n",
    "\n",
    "# another possible birth year\n",
    "birth_year_2 = birth_year_1 - 1\n",
    "\n",
    "print(\"You were born in \" + str(birth_year_1) + \" or \" + str(birth_year_2))"
   ]
  },
  {
   "cell_type": "markdown",
   "metadata": {},
   "source": [
    "2. Write a program which asks the user for two numbers and multiplies them together, printing the equation\n",
    "in the form 1 * 2 = 2 for the case of 1 and 2."
   ]
  },
  {
   "cell_type": "markdown",
   "metadata": {},
   "source": [
    "3. Write a program which asks the user for a temperature in degrees Fahrenheit and prints the corresponding\n",
    "value in Celsius. The conversion formula is below:\n",
    "\n",
    "$ C = \\frac{F - 32}{1.8} $"
   ]
  },
  {
   "cell_type": "code",
   "execution_count": null,
   "metadata": {},
   "outputs": [],
   "source": []
  },
  {
   "cell_type": "code",
   "execution_count": null,
   "metadata": {},
   "outputs": [],
   "source": []
  }
 ],
 "metadata": {
  "kernelspec": {
   "display_name": "Python 3",
   "language": "python",
   "name": "python3"
  },
  "language_info": {
   "codemirror_mode": {
    "name": "ipython",
    "version": 3
   },
   "file_extension": ".py",
   "mimetype": "text/x-python",
   "name": "python",
   "nbconvert_exporter": "python",
   "pygments_lexer": "ipython3",
   "version": "3.6.8"
  }
 },
 "nbformat": 4,
 "nbformat_minor": 2
}
