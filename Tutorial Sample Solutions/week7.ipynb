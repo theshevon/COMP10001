{
 "cells": [
  {
   "cell_type": "markdown",
   "metadata": {},
   "source": [
    "# <center>Workshop 5 (Week 7)<center>"
   ]
  },
  {
   "cell_type": "markdown",
   "metadata": {},
   "source": [
    "## • Exercises"
   ]
  },
  {
   "cell_type": "markdown",
   "metadata": {},
   "source": [
    "### 1. Evaluate the following given the assignment `d = {\"R\": 0, \"G\": 255, \"B\": 0, \"other\": {\"opacity\": 0.6}}`. Specify whether the value of `d` changes as a result. Assume `d` is reset to its original value each time."
   ]
  },
  {
   "cell_type": "markdown",
   "metadata": {},
   "source": [
    "**(a) `\"R\"in d`**"
   ]
  },
  {
   "cell_type": "markdown",
   "metadata": {},
   "source": [
    "> Returns `True`\n",
    ">\n",
    "> `d` does not change"
   ]
  },
  {
   "cell_type": "markdown",
   "metadata": {},
   "source": [
    "**(b) `d[\"R\"]`**"
   ]
  },
  {
   "cell_type": "markdown",
   "metadata": {},
   "source": [
    "> Returns `0`\n",
    ">\n",
    "> `d` does not change"
   ]
  },
  {
   "cell_type": "markdown",
   "metadata": {},
   "source": [
    "**(c) `d[\"R\"] = 255`**"
   ]
  },
  {
   "cell_type": "markdown",
   "metadata": {},
   "source": [
    "> Returns `None`\n",
    ">\n",
    "> `d` changes to `d = {\"R\": 255, \"G\": 255, \"B\": 0, \"other\": {\"opacity\": 0.6}}`"
   ]
  },
  {
   "cell_type": "markdown",
   "metadata": {},
   "source": [
    "**(d) `d[\"A\"]`**"
   ]
  },
  {
   "cell_type": "markdown",
   "metadata": {},
   "source": [
    "> Raises a `KeyError` as `\"A\"` is not a key in `d`\n",
    ">\n",
    "> `d` does not change"
   ]
  },
  {
   "cell_type": "markdown",
   "metadata": {},
   "source": [
    "**(e) `d[\"A\"] = 50`**"
   ]
  },
  {
   "cell_type": "markdown",
   "metadata": {},
   "source": [
    "> Returns `None`\n",
    ">\n",
    "> `d` changes to `d = {\"R\": 0, \"G\": 255, \"B\": 0, \"other\": {\"opacity\": 0.6}, \"A\": 50}`"
   ]
  },
  {
   "cell_type": "markdown",
   "metadata": {},
   "source": [
    "**(f) `d.pop(\"G\")`**"
   ]
  },
  {
   "cell_type": "markdown",
   "metadata": {},
   "source": [
    "> Returns `255`\n",
    ">\n",
    "> `d` changes to `d = {\"R\": 0, \"B\": 0, \"other\": {\"opacity\": 0.6}}`"
   ]
  },
  {
   "cell_type": "markdown",
   "metadata": {},
   "source": [
    "**(g) `d[\"other\"][\"blur\"] = 0.1`**"
   ]
  },
  {
   "cell_type": "markdown",
   "metadata": {},
   "source": [
    "> Returns `None`\n",
    ">\n",
    "> `d` changes to `d = {\"R\": 0, \"G\": 255, \"B\": 0, \"other\": {\"opacity\": 0.6}, \"blur\": 0.1}`"
   ]
  },
  {
   "cell_type": "markdown",
   "metadata": {},
   "source": [
    "**(h) `d.items()`**"
   ]
  },
  {
   "cell_type": "markdown",
   "metadata": {},
   "source": [
    "> Returns `dict_items([('R', 0), ('G', 255), ('B', 0), ('other', {'opacity': 0.6})])`\n",
    ">\n",
    "> `d` does not change"
   ]
  },
  {
   "cell_type": "markdown",
   "metadata": {},
   "source": [
    "---"
   ]
  },
  {
   "cell_type": "markdown",
   "metadata": {},
   "source": [
    "### 2. Evaluate the following given the assignment `s1 = {1, 2, 4}` and `s2 = {3, 4, 5}`. If `s1` or `s2` change as a result, give their new value. Assume `s1` and `s2` are reset to their original values each time."
   ]
  },
  {
   "cell_type": "markdown",
   "metadata": {},
   "source": [
    "**(a) `s1.add(7)`**"
   ]
  },
  {
   "cell_type": "markdown",
   "metadata": {},
   "source": [
    "> `s1` is now `{ 1, 2, 4, 7 }`"
   ]
  },
  {
   "cell_type": "markdown",
   "metadata": {},
   "source": [
    "**(b) `s1.add(2)`**"
   ]
  },
  {
   "cell_type": "markdown",
   "metadata": {},
   "source": [
    "> Since `2` is already in `s1`, `s1` remains as it is- `{ 1, 2, 4 }`"
   ]
  },
  {
   "cell_type": "markdown",
   "metadata": {},
   "source": [
    "**(c) `s2.remove(5)`**"
   ]
  },
  {
   "cell_type": "markdown",
   "metadata": {},
   "source": [
    "> `s2` is now `{ 3, 4 }`"
   ]
  },
  {
   "cell_type": "markdown",
   "metadata": {},
   "source": [
    "**(d) `s1 & s2`**"
   ]
  },
  {
   "cell_type": "markdown",
   "metadata": {},
   "source": [
    "> Returns `{ 4 }` (A set containing elements common to both `s1` and `s2`)"
   ]
  },
  {
   "cell_type": "markdown",
   "metadata": {},
   "source": [
    "**(e) `s1.union(s2)`**"
   ]
  },
  {
   "cell_type": "markdown",
   "metadata": {},
   "source": [
    "> Returns `{ 1, 2, 3, 4, 5 }` (A set containing all the elements from `s1` and `s2`)"
   ]
  },
  {
   "cell_type": "markdown",
   "metadata": {},
   "source": [
    "**(f) `s1 - s2`**"
   ]
  },
  {
   "cell_type": "markdown",
   "metadata": {},
   "source": [
    "> Returns `{ 1, 2 }` (A set containing the elements unique to `s1`, when comparing it to `s2`)"
   ]
  },
  {
   "cell_type": "markdown",
   "metadata": {},
   "source": [
    "---"
   ]
  },
  {
   "cell_type": "markdown",
   "metadata": {},
   "source": [
    "### 3. What is the output of this code? Why?"
   ]
  },
  {
   "cell_type": "markdown",
   "metadata": {},
   "source": [
    "```python\n",
    "def mystery(x):\n",
    "    x.append(5)\n",
    "    x[0] += 1\n",
    "    print(\"mid-mystery:\", x)\n",
    "    \n",
    "my_list = [1, 2]\n",
    "print(my_list)\n",
    "mystery(my_list)\n",
    "print(my_list)\n",
    "mystery(my_list.copy())\n",
    "print(my_list)\n",
    "```"
   ]
  },
  {
   "cell_type": "code",
   "execution_count": 1,
   "metadata": {},
   "outputs": [
    {
     "name": "stdout",
     "output_type": "stream",
     "text": [
      "[1, 2]\n",
      "mid-mystery: [2, 2, 5]\n",
      "[2, 2, 5]\n",
      "mid-mystery: [3, 2, 5, 5]\n",
      "[2, 2, 5]\n"
     ]
    }
   ],
   "source": [
    "def mystery(x):\n",
    "    x.append(5)\n",
    "    x[0] += 1\n",
    "    print(\"mid-mystery:\", x)\n",
    "    \n",
    "my_list = [1, 2]\n",
    "print(my_list)\n",
    "mystery(my_list)\n",
    "print(my_list)\n",
    "mystery(my_list.copy())\n",
    "print(my_list)"
   ]
  },
  {
   "cell_type": "markdown",
   "metadata": {},
   "source": [
    ">- `[1, 2]` gets printed b/c it's found in the global namespace\n",
    "- `[2, 2, 5]` gets printed b/c `mystery()` appends `5` to the back of the input list (`my_list` in this case) and incremenets the value of the item at index `0` by 1\n",
    "- `[2, 2, 5]` gets printed b/c `mystery()` mutated the original list\n",
    "- `[3, 2, 5, 5]` gets printed b/c `mystery()` appends `5` to the back of the input list (a **copy** of `my_list` in this case) and incremenets the value of the item at index `0` by 1\n",
    "- `[2, 2, 5]` gets b/c `mystery()` mutated a **copy** of `my_list`, and so `my_list` remains unchanged"
   ]
  },
  {
   "cell_type": "markdown",
   "metadata": {},
   "source": [
    "---"
   ]
  },
  {
   "cell_type": "markdown",
   "metadata": {},
   "source": [
    "### 4. What is the output of the following code? Classify the variables by which namespace they belong in."
   ]
  },
  {
   "cell_type": "markdown",
   "metadata": {},
   "source": [
    "```python\n",
    "def foo(x, y):\n",
    "    a = 42\n",
    "    x, y = y, x\n",
    "    print(a, b, x, y)\n",
    "    \n",
    "a, b, x, y = 1, 2, 3, 4\n",
    "foo(17, 4)\n",
    "print(a, b, x, y)\n",
    "```"
   ]
  },
  {
   "cell_type": "code",
   "execution_count": 2,
   "metadata": {},
   "outputs": [
    {
     "name": "stdout",
     "output_type": "stream",
     "text": [
      "42 2 4 17\n",
      "1 2 3 4\n"
     ]
    }
   ],
   "source": [
    "def foo(x, y):\n",
    "    a = 42\n",
    "    x, y = y, x\n",
    "    print(a, b, x, y)\n",
    "\n",
    "a, b, x, y = 1, 2, 3, 4\n",
    "foo(17, 4)\n",
    "print(a, b, x, y)"
   ]
  },
  {
   "cell_type": "markdown",
   "metadata": {},
   "source": [
    ">- Output line 1 explanation:\n",
    "    - `foo()` looks for `a` in its function scope (its most local scope) and finds `a = 42`\n",
    "    - `foo()` can't find a value for `b` in its local scope so it looks at the global scope and finds `b = 2`\n",
    "    - `x` and `y` were arguments to `foo()`, but they swapped values on line 3, so `x` becomes 4 and `y` becomes 17\n",
    "    \n",
    ">- Output line 2 explanation:\n",
    "    - The expression on line 8 only has access to values in the global scope, so `a`, `b`, `x` and `y`, have the values defined on line 6, which are `1`, `2`, `3` and `4` respectively. "
   ]
  },
  {
   "cell_type": "markdown",
   "metadata": {},
   "source": [
    "---"
   ]
  },
  {
   "cell_type": "markdown",
   "metadata": {},
   "source": [
    "## • Problems"
   ]
  },
  {
   "cell_type": "markdown",
   "metadata": {},
   "source": [
    "### 1. Write a function which takes a string as input and prints the frequency of each character in the string using a dictionary."
   ]
  },
  {
   "cell_type": "code",
   "execution_count": 3,
   "metadata": {},
   "outputs": [],
   "source": [
    "def count_frequencies(string: str) -> None:\n",
    "    '''Takes a string as input and prints the frequency of each character in the string'''\n",
    "    \n",
    "    # initialise dictionary\n",
    "    character_counts = {}\n",
    "    \n",
    "    # count frequencies\n",
    "    for character in string:\n",
    "        \n",
    "        # if we haven't seen this character before, add it to the dictionary with a default/ base\n",
    "        # value of 0\n",
    "        if character not in character_counts:\n",
    "            character_counts[character] = 0\n",
    "            \n",
    "        # update frequency\n",
    "        character_counts[character] += 1\n",
    "        \n",
    "    # print frequencies:\n",
    "    print(\"Character frequencies:\\n\")\n",
    "    for character in character_counts:\n",
    "        print(f\"{character}: {character_counts[character]}\")"
   ]
  },
  {
   "cell_type": "code",
   "execution_count": 4,
   "metadata": {},
   "outputs": [
    {
     "name": "stdout",
     "output_type": "stream",
     "text": [
      "Character frequencies:\n",
      "\n",
      "s: 1\n",
      "h: 1\n",
      "e: 1\n",
      "v: 1\n",
      "o: 1\n",
      "n: 1\n"
     ]
    }
   ],
   "source": [
    "count_frequencies(\"shevon\")"
   ]
  },
  {
   "cell_type": "markdown",
   "metadata": {},
   "source": [
    "---"
   ]
  },
  {
   "cell_type": "markdown",
   "metadata": {},
   "source": [
    "### 2. Write a function which takes two lists as input and returns a list containing the numbers which they both have in common."
   ]
  },
  {
   "cell_type": "code",
   "execution_count": 5,
   "metadata": {},
   "outputs": [],
   "source": [
    "# Note: this solution assumes that both lists contain **only** numeric types\n",
    "\n",
    "def get_common_nums(list1: list, list2: list) -> list:\n",
    "    '''Takes two lists as input and returns a list containing the numbers, which they both have in common'''\n",
    "    \n",
    "    # convert both lists to sets\n",
    "    set1 = set(list1)\n",
    "    set2 = set(list2)\n",
    "    \n",
    "    # extract the common elements by making use of set intersection\n",
    "    common_nums = set1 & set2\n",
    "    \n",
    "    return list(common_nums)"
   ]
  },
  {
   "cell_type": "code",
   "execution_count": 6,
   "metadata": {},
   "outputs": [
    {
     "data": {
      "text/plain": [
       "[3]"
      ]
     },
     "execution_count": 6,
     "metadata": {},
     "output_type": "execute_result"
    }
   ],
   "source": [
    "get_common_nums([1,2,3], [3,4,5])"
   ]
  },
  {
   "cell_type": "markdown",
   "metadata": {},
   "source": [
    "---"
   ]
  },
  {
   "cell_type": "markdown",
   "metadata": {},
   "source": [
    "### 3. Write a function which takes a dictionary and returns a sorted list containing the unique values in that dictionary."
   ]
  },
  {
   "cell_type": "code",
   "execution_count": 7,
   "metadata": {},
   "outputs": [],
   "source": [
    "# Alternate approach\n",
    "# Note: This approach assumes that the all the values in the input dictionary are immutable, and so can be placed\n",
    "# in a set\n",
    "def get_unique_values(dictionary: dict) -> list:\n",
    "    '''Takes a dictionary as input and returns a sorted list containing the unique values in that \n",
    "       dictionary'''\n",
    "    \n",
    "    # extract all the values\n",
    "    all_values = dictionary.values()\n",
    "    \n",
    "    # remove duplicates\n",
    "    unique_values = set(all_values)\n",
    "    \n",
    "    # return sorted list of unique values\n",
    "    return sorted(unique_values)"
   ]
  },
  {
   "cell_type": "code",
   "execution_count": 8,
   "metadata": {},
   "outputs": [
    {
     "data": {
      "text/plain": [
       "[1, 3, 4]"
      ]
     },
     "execution_count": 8,
     "metadata": {},
     "output_type": "execute_result"
    }
   ],
   "source": [
    "get_unique_values({ 'a' : 1, 'b' : 3, 'c' : 3, 'd' : 4})"
   ]
  },
  {
   "cell_type": "markdown",
   "metadata": {},
   "source": [
    "**Note:** Generalising the approach to handle multiple data types for values would significantly increase the \n",
    "complexity of our code. This is because each object would have to implement methods that we could use to check\n",
    "for equality as well as ones we would need to use for comparisons between objects of different types (ie. if the values\n",
    "contain objects of types A and B, should A come before B or B before A when we sort them together?)\n",
    "\n",
    "Fortunately, this is beyond the scope of the subject and so, isn't something that you should worry about."
   ]
  },
  {
   "cell_type": "markdown",
   "metadata": {},
   "source": [
    "---"
   ]
  },
  {
   "cell_type": "markdown",
   "metadata": {},
   "source": [
    "### 4. Write a function which takes a string, a character and an integer threshold and returns True if the character appears in the string with a frequency above the threshold, False if it appears below the threshold, and None if it doesn’t appear at all."
   ]
  },
  {
   "cell_type": "code",
   "execution_count": 9,
   "metadata": {},
   "outputs": [],
   "source": [
    "def meets_threshold(string: str, required_char: str, threshold: int) -> bool:\n",
    "    '''Takes a string, a character and integer threshold as input and returns True if the character\n",
    "       appears in the string with a frequency strictly above the threshold, False if it appears below \n",
    "       the threshold, and None if it doesn't appear at all'''\n",
    "    \n",
    "    # count frequency of specified character\n",
    "    freq = 0\n",
    "    for char in string:\n",
    "        if char == required_char:\n",
    "            freq += 1\n",
    "            \n",
    "            # immediately return if threshold has been exceeded\n",
    "            if freq > threshold:\n",
    "                return True\n",
    "    \n",
    "    if freq == 0:\n",
    "        return None\n",
    "    \n",
    "    # when we get to this point, we know that 0 < freq <= threshold\n",
    "    return False"
   ]
  },
  {
   "cell_type": "code",
   "execution_count": 10,
   "metadata": {},
   "outputs": [
    {
     "name": "stdout",
     "output_type": "stream",
     "text": [
      "True\n"
     ]
    }
   ],
   "source": [
    "print(meets_threshold(\"alicia\", 'a', 1))"
   ]
  },
  {
   "cell_type": "code",
   "execution_count": 11,
   "metadata": {},
   "outputs": [
    {
     "name": "stdout",
     "output_type": "stream",
     "text": [
      "None\n"
     ]
    }
   ],
   "source": [
    "print(meets_threshold(\"alicia\", 'b', 1))"
   ]
  },
  {
   "cell_type": "code",
   "execution_count": 12,
   "metadata": {},
   "outputs": [
    {
     "name": "stdout",
     "output_type": "stream",
     "text": [
      "False\n"
     ]
    }
   ],
   "source": [
    "print(meets_threshold(\"alicia\", 'c', 1))"
   ]
  }
 ],
 "metadata": {
  "kernelspec": {
   "display_name": "Python 3",
   "language": "python",
   "name": "python3"
  },
  "language_info": {
   "codemirror_mode": {
    "name": "ipython",
    "version": 3
   },
   "file_extension": ".py",
   "mimetype": "text/x-python",
   "name": "python",
   "nbconvert_exporter": "python",
   "pygments_lexer": "ipython3",
   "version": "3.7.6"
  }
 },
 "nbformat": 4,
 "nbformat_minor": 2
}
